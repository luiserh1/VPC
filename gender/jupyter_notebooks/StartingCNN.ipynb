{
  "nbformat": 4,
  "nbformat_minor": 0,
  "metadata": {
    "colab": {
      "name": "StartingCNN.ipynb",
      "provenance": []
    },
    "kernelspec": {
      "name": "python3",
      "display_name": "Python 3"
    },
    "accelerator": "GPU"
  },
  "cells": [
    {
      "cell_type": "markdown",
      "metadata": {
        "id": "6ZVpkYQixSMP"
      },
      "source": [
        "Install keras"
      ]
    },
    {
      "cell_type": "code",
      "metadata": {
        "id": "F_z65L25xNTn",
        "colab": {
          "base_uri": "https://localhost:8080/"
        },
        "outputId": "396b1111-6699-41f3-b86f-983495b63ba3"
      },
      "source": [
        "!pip3 install keras"
      ],
      "execution_count": 12,
      "outputs": [
        {
          "output_type": "stream",
          "text": [
            "Requirement already satisfied: keras in /usr/local/lib/python3.7/dist-packages (2.4.3)\n",
            "Requirement already satisfied: scipy>=0.14 in /usr/local/lib/python3.7/dist-packages (from keras) (1.4.1)\n",
            "Requirement already satisfied: pyyaml in /usr/local/lib/python3.7/dist-packages (from keras) (3.13)\n",
            "Requirement already satisfied: numpy>=1.9.1 in /usr/local/lib/python3.7/dist-packages (from keras) (1.19.5)\n",
            "Requirement already satisfied: h5py in /usr/local/lib/python3.7/dist-packages (from keras) (3.1.0)\n",
            "Requirement already satisfied: cached-property; python_version < \"3.8\" in /usr/local/lib/python3.7/dist-packages (from h5py->keras) (1.5.2)\n"
          ],
          "name": "stdout"
        }
      ]
    },
    {
      "cell_type": "markdown",
      "metadata": {
        "id": "r4I_uhyrxVsi"
      },
      "source": [
        "Download data and uncompress"
      ]
    },
    {
      "cell_type": "code",
      "metadata": {
        "id": "FMT6N3G8xRxQ",
        "colab": {
          "base_uri": "https://localhost:8080/"
        },
        "outputId": "fd3de096-edd2-4932-9f10-87be4a8894b2"
      },
      "source": [
        "!wget https://www.dropbox.com/s/zcwlujrtz3izcw8/gender.tgz\n",
        "!tar xvzf gender.tgz\n",
        "!git clone https://github.com/Donny-Hikari/Viola-Jones"
      ],
      "execution_count": 13,
      "outputs": [
        {
          "output_type": "stream",
          "text": [
            "--2021-06-08 18:59:44--  https://www.dropbox.com/s/zcwlujrtz3izcw8/gender.tgz\n",
            "Resolving www.dropbox.com (www.dropbox.com)... 162.125.82.18, 2620:100:6032:18::a27d:5212\n",
            "Connecting to www.dropbox.com (www.dropbox.com)|162.125.82.18|:443... connected.\n",
            "HTTP request sent, awaiting response... 301 Moved Permanently\n",
            "Location: /s/raw/zcwlujrtz3izcw8/gender.tgz [following]\n",
            "--2021-06-08 18:59:45--  https://www.dropbox.com/s/raw/zcwlujrtz3izcw8/gender.tgz\n",
            "Reusing existing connection to www.dropbox.com:443.\n",
            "HTTP request sent, awaiting response... 302 Found\n",
            "Location: https://ucda7663981f27f42a0926fd6fc1.dl.dropboxusercontent.com/cd/0/inline/BQC3BKsRaKu4X9CjO2o9SF5S0Q0nBTKeesKarNFkKTuz1FtnBy42Q7O46ulNTkpBFr3Jy5SZk3LN8_j86OVUB97PkyNIXGU7nFkNiQzYLQyEuAMJnGz3vqIDA2gGwWGA3N_Y8QT2bJHgUP7o4i9o9jzI/file# [following]\n",
            "--2021-06-08 18:59:46--  https://ucda7663981f27f42a0926fd6fc1.dl.dropboxusercontent.com/cd/0/inline/BQC3BKsRaKu4X9CjO2o9SF5S0Q0nBTKeesKarNFkKTuz1FtnBy42Q7O46ulNTkpBFr3Jy5SZk3LN8_j86OVUB97PkyNIXGU7nFkNiQzYLQyEuAMJnGz3vqIDA2gGwWGA3N_Y8QT2bJHgUP7o4i9o9jzI/file\n",
            "Resolving ucda7663981f27f42a0926fd6fc1.dl.dropboxusercontent.com (ucda7663981f27f42a0926fd6fc1.dl.dropboxusercontent.com)... 162.125.82.15, 2620:100:6030:15::a27d:500f\n",
            "Connecting to ucda7663981f27f42a0926fd6fc1.dl.dropboxusercontent.com (ucda7663981f27f42a0926fd6fc1.dl.dropboxusercontent.com)|162.125.82.15|:443... connected.\n",
            "HTTP request sent, awaiting response... 302 Found\n",
            "Location: /cd/0/inline2/BQCb4HXHGbzIaMGkbYAct-m2D9wghPpj9NSz_r3urMUcFmp3xcPXlwo9ht40gp6xGBGltsICfblvF_LWthp1wo5hvoluKZpG2ZUcaMe1GowS5w2GqtZIVi1jZbwiApxpyttIDk9sGWkckD4i96w7P8wx5F2jGaWuQ5zj-FEUKe1CcXz9YRjnADQtZMlIfkiFZppOjqXFHyD1FMjc6ZHuKqiSp1f6QRMKufVWMbGwA03iZmvB6tfqlJyAKFtcQuEvraX3l-kzUMgF8QrXOndJNzLOZIWtLrDS0xNDBLp1_fFhY4kbvYA5K1yFagNXccEjaRc4qYdDLo_ph-P6Cj851yUqD_UUVJ-Qeu0gMkuk6lyHYvdBsjIplqZUSVQaGvNza5M/file [following]\n",
            "--2021-06-08 18:59:46--  https://ucda7663981f27f42a0926fd6fc1.dl.dropboxusercontent.com/cd/0/inline2/BQCb4HXHGbzIaMGkbYAct-m2D9wghPpj9NSz_r3urMUcFmp3xcPXlwo9ht40gp6xGBGltsICfblvF_LWthp1wo5hvoluKZpG2ZUcaMe1GowS5w2GqtZIVi1jZbwiApxpyttIDk9sGWkckD4i96w7P8wx5F2jGaWuQ5zj-FEUKe1CcXz9YRjnADQtZMlIfkiFZppOjqXFHyD1FMjc6ZHuKqiSp1f6QRMKufVWMbGwA03iZmvB6tfqlJyAKFtcQuEvraX3l-kzUMgF8QrXOndJNzLOZIWtLrDS0xNDBLp1_fFhY4kbvYA5K1yFagNXccEjaRc4qYdDLo_ph-P6Cj851yUqD_UUVJ-Qeu0gMkuk6lyHYvdBsjIplqZUSVQaGvNza5M/file\n",
            "Reusing existing connection to ucda7663981f27f42a0926fd6fc1.dl.dropboxusercontent.com:443.\n",
            "HTTP request sent, awaiting response... 200 OK\n",
            "Length: 348494455 (332M) [application/x-gtar]\n",
            "Saving to: ‘gender.tgz.1’\n",
            "\n",
            "gender.tgz.1        100%[===================>] 332.35M  18.8MB/s    in 22s     \n",
            "\n",
            "2021-06-08 19:00:10 (15.1 MB/s) - ‘gender.tgz.1’ saved [348494455/348494455]\n",
            "\n",
            "./._x_test.npy\n",
            "x_test.npy\n",
            "./._x_train.npy\n",
            "x_train.npy\n",
            "./._y_test.npy\n",
            "y_test.npy\n",
            "./._y_train.npy\n",
            "y_train.npy\n",
            "fatal: destination path 'Viola-Jones' already exists and is not an empty directory.\n"
          ],
          "name": "stdout"
        }
      ]
    },
    {
      "cell_type": "markdown",
      "metadata": {
        "id": "UfpSAifWxdFl"
      },
      "source": [
        "Import packages "
      ]
    },
    {
      "cell_type": "code",
      "metadata": {
        "id": "3qsOFZCExfFh"
      },
      "source": [
        "import numpy as np\n",
        "import matplotlib.pyplot as plt\n",
        "\n",
        "from __future__ import print_function\n",
        "\n",
        "import keras\n",
        "\n",
        "from keras.models import Sequential\n",
        "from keras.layers import Dense, Dropout, Activation, Flatten\n",
        "from keras.layers import Conv2D, MaxPooling2D\n",
        "from keras.layers.normalization import BatchNormalization as BN\n",
        "from keras.layers import GaussianNoise as GN\n",
        "from keras.optimizers import SGD\n",
        "\n",
        "from keras.callbacks import LearningRateScheduler as LRS\n",
        "from keras.preprocessing.image import ImageDataGenerator"
      ],
      "execution_count": 14,
      "outputs": []
    },
    {
      "cell_type": "markdown",
      "metadata": {
        "id": "mY5PAxIcN78O"
      },
      "source": [
        "Define batch size, number of epochs and number of classes"
      ]
    },
    {
      "cell_type": "code",
      "metadata": {
        "id": "gb5gDxZRN8f1"
      },
      "source": [
        "batch_size = 128\n",
        "epochs = 50\n",
        "num_classes=2"
      ],
      "execution_count": 15,
      "outputs": []
    },
    {
      "cell_type": "markdown",
      "metadata": {
        "id": "vbxzdKZIxiaO"
      },
      "source": [
        "Load and prepare data"
      ]
    },
    {
      "cell_type": "code",
      "metadata": {
        "id": "8X70BXsIxj_a",
        "colab": {
          "base_uri": "https://localhost:8080/",
          "height": 486
        },
        "outputId": "9f52009a-174b-4e68-a0c0-62befa50139a"
      },
      "source": [
        "# Load \n",
        "x_train = np.load('x_train.npy')\n",
        "x_test = np.load('x_test.npy')\n",
        "\n",
        "y_train = np.load('y_train.npy')\n",
        "y_test = np.load('y_test.npy')\n",
        "\n",
        "# Stats\n",
        "print(x_train.shape)\n",
        "print(y_train.shape)\n",
        "print(sum(y_train == 1))\n",
        "print(sum(y_train == 0))\n",
        "print(\"{:.4f}\".format(sum(y_train == 1)/y_train.shape[0]))\n",
        "print(x_test.shape)\n",
        "print(y_test.shape)\n",
        "print(sum(y_test == 1))\n",
        "print(sum(y_test == 0))\n",
        "print(\"{:.4f}\".format(sum(y_test == 1)/y_test.shape[0]))\n",
        "\n",
        "\n",
        "## View some images\n",
        "plt.imshow(x_train[0,:,:,: ] )\n",
        "plt.show()\n",
        "\n",
        "\n",
        "## Transforms\n",
        "x_train = x_train.astype('float32')\n",
        "x_test = x_test.astype('float32')\n",
        "\n",
        "y_train = y_train.astype('float32')\n",
        "y_test = y_test.astype('float32')\n",
        "\n",
        "\n",
        "x_train /= 255\n",
        "x_test /= 255\n",
        "\n",
        "print(x_train.shape)\n",
        "print(x_test.shape)\n",
        "\n",
        "num_classes = 2\n",
        "\n",
        "y_train = keras.utils.np_utils.to_categorical(y_train, num_classes)\n",
        "y_test = keras.utils.np_utils.to_categorical(y_test, num_classes)"
      ],
      "execution_count": 16,
      "outputs": [
        {
          "output_type": "stream",
          "text": [
            "(10585, 100, 100, 3)\n",
            "(10585,)\n",
            "2381\n",
            "8204\n",
            "0.2249\n",
            "(2648, 100, 100, 3)\n",
            "(2648,)\n",
            "596\n",
            "2052\n",
            "0.2251\n"
          ],
          "name": "stdout"
        },
        {
          "output_type": "display_data",
          "data": {
            "image/png": "[encoded data removed]",
            "text/plain": [
              "<Figure size 432x288 with 1 Axes>"
            ]
          },
          "metadata": {
            "tags": [],
            "needs_background": "light"
          }
        },
        {
          "output_type": "stream",
          "text": [
            "(10585, 100, 100, 3)\n",
            "(2648, 100, 100, 3)\n"
          ],
          "name": "stdout"
        }
      ]
    },
    {
      "cell_type": "markdown",
      "metadata": {
        "id": "wLTRtJVgx4MK"
      },
      "source": [
        "Create model, data augmentation etc... "
      ]
    },
    {
      "cell_type": "markdown",
      "metadata": {
        "id": "uPeqSsArLpRP"
      },
      "source": [
        "Data Augmentation with ImageGenerator"
      ]
    },
    {
      "cell_type": "code",
      "metadata": {
        "id": "BrBGTARaKveM"
      },
      "source": [
        "datagen = ImageDataGenerator(\n",
        "    width_shift_range=0.2,\n",
        "    height_shift_range=0.2,\n",
        "    horizontal_flip=True,\n",
        "    zoom_range=0.2,\n",
        "    rotation_range=45,\n",
        "    vertical_flip=False)"
      ],
      "execution_count": 17,
      "outputs": []
    },
    {
      "cell_type": "markdown",
      "metadata": {
        "id": "Ewb1aovTL5y-"
      },
      "source": [
        "Define a convolutional block. Batch norm + Gaussian Norm"
      ]
    },
    {
      "cell_type": "code",
      "metadata": {
        "id": "3oNX3WxfL47J"
      },
      "source": [
        "def CBGN(model,filters,ishape=0):\n",
        "  if (ishape!=0):\n",
        "    model.add(Conv2D(filters, (3, 3), padding='same',\n",
        "                 input_shape=ishape))\n",
        "  else:\n",
        "    model.add(Conv2D(filters, (3, 3), padding='same'))\n",
        "  \n",
        "  model.add(BN())\n",
        "  model.add(GN(0.25))\n",
        "  model.add(Activation('relu'))\n",
        "  #model.add(Dropout(0.25))\n",
        "  \n",
        "  return model"
      ],
      "execution_count": 18,
      "outputs": []
    },
    {
      "cell_type": "markdown",
      "metadata": {
        "id": "-37CTPvlMMT9"
      },
      "source": [
        "Define the NN topology"
      ]
    },
    {
      "cell_type": "code",
      "metadata": {
        "colab": {
          "base_uri": "https://localhost:8080/"
        },
        "id": "8QIBxWxNMPU2",
        "outputId": "18bdca17-bd37-4510-e263-d47f288df866"
      },
      "source": [
        "## DEF NN TOPOLOGY  \n",
        "model = Sequential()\n",
        "\n",
        "model=CBGN(model,32,x_train.shape[1:])\n",
        "model=CBGN(model,32)\n",
        "model.add(MaxPooling2D(pool_size=(2, 2)))\n",
        "model=CBGN(model,32)\n",
        "model=CBGN(model,32)\n",
        "model.add(MaxPooling2D(pool_size=(2, 2)))\n",
        "model=CBGN(model,64)\n",
        "model=CBGN(model,64)\n",
        "model.add(MaxPooling2D(pool_size=(2, 2)))\n",
        "model=CBGN(model,64)\n",
        "model=CBGN(model,64)\n",
        "model.add(MaxPooling2D(pool_size=(2, 2)))\n",
        "\n",
        "model.add(Flatten())\n",
        "model.add(Dense(512))\n",
        "model.add(BN())\n",
        "model.add(GN(0.2))\n",
        "model.add(Dropout(0.15))\n",
        "model.add(Activation('relu'))\n",
        "\n",
        "model.add(Dense(num_classes))\n",
        "model.add(Activation('softmax'))\n",
        "\n",
        "model.summary()"
      ],
      "execution_count": 19,
      "outputs": [
        {
          "output_type": "stream",
          "text": [
            "Model: \"sequential_1\"\n",
            "_________________________________________________________________\n",
            "Layer (type)                 Output Shape              Param #   \n",
            "=================================================================\n",
            "conv2d_9 (Conv2D)            (None, 100, 100, 32)      896       \n",
            "_________________________________________________________________\n",
            "batch_normalization_10 (Batc (None, 100, 100, 32)      128       \n",
            "_________________________________________________________________\n",
            "gaussian_noise_10 (GaussianN (None, 100, 100, 32)      0         \n",
            "_________________________________________________________________\n",
            "activation_11 (Activation)   (None, 100, 100, 32)      0         \n",
            "_________________________________________________________________\n",
            "conv2d_10 (Conv2D)           (None, 100, 100, 32)      9248      \n",
            "_________________________________________________________________\n",
            "batch_normalization_11 (Batc (None, 100, 100, 32)      128       \n",
            "_________________________________________________________________\n",
            "gaussian_noise_11 (GaussianN (None, 100, 100, 32)      0         \n",
            "_________________________________________________________________\n",
            "activation_12 (Activation)   (None, 100, 100, 32)      0         \n",
            "_________________________________________________________________\n",
            "max_pooling2d_5 (MaxPooling2 (None, 50, 50, 32)        0         \n",
            "_________________________________________________________________\n",
            "conv2d_11 (Conv2D)           (None, 50, 50, 32)        9248      \n",
            "_________________________________________________________________\n",
            "batch_normalization_12 (Batc (None, 50, 50, 32)        128       \n",
            "_________________________________________________________________\n",
            "gaussian_noise_12 (GaussianN (None, 50, 50, 32)        0         \n",
            "_________________________________________________________________\n",
            "activation_13 (Activation)   (None, 50, 50, 32)        0         \n",
            "_________________________________________________________________\n",
            "conv2d_12 (Conv2D)           (None, 50, 50, 32)        9248      \n",
            "_________________________________________________________________\n",
            "batch_normalization_13 (Batc (None, 50, 50, 32)        128       \n",
            "_________________________________________________________________\n",
            "gaussian_noise_13 (GaussianN (None, 50, 50, 32)        0         \n",
            "_________________________________________________________________\n",
            "activation_14 (Activation)   (None, 50, 50, 32)        0         \n",
            "_________________________________________________________________\n",
            "max_pooling2d_6 (MaxPooling2 (None, 25, 25, 32)        0         \n",
            "_________________________________________________________________\n",
            "conv2d_13 (Conv2D)           (None, 25, 25, 64)        18496     \n",
            "_________________________________________________________________\n",
            "batch_normalization_14 (Batc (None, 25, 25, 64)        256       \n",
            "_________________________________________________________________\n",
            "gaussian_noise_14 (GaussianN (None, 25, 25, 64)        0         \n",
            "_________________________________________________________________\n",
            "activation_15 (Activation)   (None, 25, 25, 64)        0         \n",
            "_________________________________________________________________\n",
            "conv2d_14 (Conv2D)           (None, 25, 25, 64)        36928     \n",
            "_________________________________________________________________\n",
            "batch_normalization_15 (Batc (None, 25, 25, 64)        256       \n",
            "_________________________________________________________________\n",
            "gaussian_noise_15 (GaussianN (None, 25, 25, 64)        0         \n",
            "_________________________________________________________________\n",
            "activation_16 (Activation)   (None, 25, 25, 64)        0         \n",
            "_________________________________________________________________\n",
            "max_pooling2d_7 (MaxPooling2 (None, 12, 12, 64)        0         \n",
            "_________________________________________________________________\n",
            "conv2d_15 (Conv2D)           (None, 12, 12, 64)        36928     \n",
            "_________________________________________________________________\n",
            "batch_normalization_16 (Batc (None, 12, 12, 64)        256       \n",
            "_________________________________________________________________\n",
            "gaussian_noise_16 (GaussianN (None, 12, 12, 64)        0         \n",
            "_________________________________________________________________\n",
            "activation_17 (Activation)   (None, 12, 12, 64)        0         \n",
            "_________________________________________________________________\n",
            "conv2d_16 (Conv2D)           (None, 12, 12, 64)        36928     \n",
            "_________________________________________________________________\n",
            "batch_normalization_17 (Batc (None, 12, 12, 64)        256       \n",
            "_________________________________________________________________\n",
            "gaussian_noise_17 (GaussianN (None, 12, 12, 64)        0         \n",
            "_________________________________________________________________\n",
            "activation_18 (Activation)   (None, 12, 12, 64)        0         \n",
            "_________________________________________________________________\n",
            "max_pooling2d_8 (MaxPooling2 (None, 6, 6, 64)          0         \n",
            "_________________________________________________________________\n",
            "flatten_1 (Flatten)          (None, 2304)              0         \n",
            "_________________________________________________________________\n",
            "dense_2 (Dense)              (None, 512)               1180160   \n",
            "_________________________________________________________________\n",
            "batch_normalization_18 (Batc (None, 512)               2048      \n",
            "_________________________________________________________________\n",
            "gaussian_noise_18 (GaussianN (None, 512)               0         \n",
            "_________________________________________________________________\n",
            "dropout_1 (Dropout)          (None, 512)               0         \n",
            "_________________________________________________________________\n",
            "activation_19 (Activation)   (None, 512)               0         \n",
            "_________________________________________________________________\n",
            "dense_3 (Dense)              (None, 2)                 1026      \n",
            "_________________________________________________________________\n",
            "activation_20 (Activation)   (None, 2)                 0         \n",
            "=================================================================\n",
            "Total params: 1,342,690\n",
            "Trainable params: 1,340,898\n",
            "Non-trainable params: 1,792\n",
            "_________________________________________________________________\n"
          ],
          "name": "stdout"
        }
      ]
    },
    {
      "cell_type": "markdown",
      "metadata": {
        "id": "mFzCPpIYNNRj"
      },
      "source": [
        "Define an optimizer"
      ]
    },
    {
      "cell_type": "code",
      "metadata": {
        "id": "vfcdMse0NPWd",
        "colab": {
          "base_uri": "https://localhost:8080/"
        },
        "outputId": "3b61ae73-2161-468e-c3fb-61693ab62869"
      },
      "source": [
        "sgd=SGD(lr=0.1, decay=0.0, momentum=0.0)\n",
        "\n",
        "def scheduler(epoch):\n",
        "  if epoch < epochs / 3:\n",
        "    return 0.1\n",
        "  elif epoch < epochs / 3 * 2:\n",
        "    return 0.05\n",
        "  else:\n",
        "    return 0.02\n",
        "set_lr = LRS(scheduler)"
      ],
      "execution_count": 20,
      "outputs": [
        {
          "output_type": "stream",
          "text": [
            "/usr/local/lib/python3.7/dist-packages/tensorflow/python/keras/optimizer_v2/optimizer_v2.py:375: UserWarning: The `lr` argument is deprecated, use `learning_rate` instead.\n",
            "  \"The `lr` argument is deprecated, use `learning_rate` instead.\")\n"
          ],
          "name": "stderr"
        }
      ]
    },
    {
      "cell_type": "markdown",
      "metadata": {
        "id": "CaiT0OI5NSrq"
      },
      "source": [
        "Compile the model, define loss and link the optimizer"
      ]
    },
    {
      "cell_type": "code",
      "metadata": {
        "id": "IsZrg8LyNYCb"
      },
      "source": [
        "model.compile(loss='categorical_crossentropy',\n",
        "              optimizer=sgd,\n",
        "              metrics=['accuracy'])"
      ],
      "execution_count": 21,
      "outputs": []
    },
    {
      "cell_type": "markdown",
      "metadata": {
        "id": "Vvzb5j2SNewj"
      },
      "source": [
        "Model training and evaluation"
      ]
    },
    {
      "cell_type": "code",
      "metadata": {
        "colab": {
          "base_uri": "https://localhost:8080/"
        },
        "id": "_BDqdX8pNhJ9",
        "outputId": "31d01209-d69b-4774-a392-9666afe7facd"
      },
      "source": [
        "history=model.fit_generator(datagen.flow(x_train, y_train,batch_size=batch_size),\n",
        "                            steps_per_epoch=len(x_train) / batch_size, \n",
        "                            epochs=epochs,\n",
        "                            validation_data=(x_test, y_test),\n",
        "                            callbacks=[set_lr],\n",
        "                            verbose=1)\n",
        "\n",
        "\n",
        "score = model.evaluate(x_test, y_test, verbose=0)\n",
        "\n",
        "print('Test loss:', score[0])\n",
        "print('Test accuracy:', score[1])"
      ],
      "execution_count": 22,
      "outputs": [
        {
          "output_type": "stream",
          "text": [
            "/usr/local/lib/python3.7/dist-packages/keras/engine/training.py:1915: UserWarning: `Model.fit_generator` is deprecated and will be removed in a future version. Please use `Model.fit`, which supports generators.\n",
            "  warnings.warn('`Model.fit_generator` is deprecated and '\n"
          ],
          "name": "stderr"
        },
        {
          "output_type": "stream",
          "text": [
            "Epoch 1/50\n",
            "82/82 [==============================] - 28s 301ms/step - loss: 0.7065 - accuracy: 0.7205 - val_loss: 0.5438 - val_accuracy: 0.7749\n",
            "Epoch 2/50\n",
            "82/82 [==============================] - 24s 285ms/step - loss: 0.5284 - accuracy: 0.7644 - val_loss: 0.5978 - val_accuracy: 0.7749\n",
            "Epoch 3/50\n",
            "82/82 [==============================] - 24s 285ms/step - loss: 0.4476 - accuracy: 0.7965 - val_loss: 0.4687 - val_accuracy: 0.7900\n",
            "Epoch 4/50\n",
            "82/82 [==============================] - 23s 283ms/step - loss: 0.4200 - accuracy: 0.8028 - val_loss: 0.4121 - val_accuracy: 0.7998\n",
            "Epoch 5/50\n",
            "82/82 [==============================] - 24s 285ms/step - loss: 0.3908 - accuracy: 0.8240 - val_loss: 0.3537 - val_accuracy: 0.8452\n",
            "Epoch 6/50\n",
            "82/82 [==============================] - 23s 283ms/step - loss: 0.3585 - accuracy: 0.8445 - val_loss: 0.3116 - val_accuracy: 0.8780\n",
            "Epoch 7/50\n",
            "82/82 [==============================] - 23s 283ms/step - loss: 0.3249 - accuracy: 0.8619 - val_loss: 0.3256 - val_accuracy: 0.8701\n",
            "Epoch 8/50\n",
            "82/82 [==============================] - 24s 285ms/step - loss: 0.3095 - accuracy: 0.8729 - val_loss: 0.2914 - val_accuracy: 0.8863\n",
            "Epoch 9/50\n",
            "82/82 [==============================] - 24s 284ms/step - loss: 0.2839 - accuracy: 0.8776 - val_loss: 0.4559 - val_accuracy: 0.7847\n",
            "Epoch 10/50\n",
            "82/82 [==============================] - 24s 284ms/step - loss: 0.2750 - accuracy: 0.8808 - val_loss: 0.1896 - val_accuracy: 0.9320\n",
            "Epoch 11/50\n",
            "82/82 [==============================] - 24s 284ms/step - loss: 0.2493 - accuracy: 0.8994 - val_loss: 0.2761 - val_accuracy: 0.8878\n",
            "Epoch 12/50\n",
            "82/82 [==============================] - 24s 285ms/step - loss: 0.2503 - accuracy: 0.8993 - val_loss: 0.1953 - val_accuracy: 0.9207\n",
            "Epoch 13/50\n",
            "82/82 [==============================] - 23s 283ms/step - loss: 0.2347 - accuracy: 0.9020 - val_loss: 0.1590 - val_accuracy: 0.9369\n",
            "Epoch 14/50\n",
            "82/82 [==============================] - 23s 284ms/step - loss: 0.2150 - accuracy: 0.9116 - val_loss: 0.1916 - val_accuracy: 0.9252\n",
            "Epoch 15/50\n",
            "82/82 [==============================] - 24s 285ms/step - loss: 0.2210 - accuracy: 0.9079 - val_loss: 0.3604 - val_accuracy: 0.8452\n",
            "Epoch 16/50\n",
            "82/82 [==============================] - 24s 285ms/step - loss: 0.2104 - accuracy: 0.9138 - val_loss: 0.1576 - val_accuracy: 0.9354\n",
            "Epoch 17/50\n",
            "82/82 [==============================] - 23s 284ms/step - loss: 0.1981 - accuracy: 0.9221 - val_loss: 0.1849 - val_accuracy: 0.9267\n",
            "Epoch 18/50\n",
            "82/82 [==============================] - 24s 284ms/step - loss: 0.1952 - accuracy: 0.9224 - val_loss: 0.2410 - val_accuracy: 0.8965\n",
            "Epoch 19/50\n",
            "82/82 [==============================] - 24s 285ms/step - loss: 0.1662 - accuracy: 0.9306 - val_loss: 0.1827 - val_accuracy: 0.9301\n",
            "Epoch 20/50\n",
            "82/82 [==============================] - 23s 284ms/step - loss: 0.1682 - accuracy: 0.9356 - val_loss: 0.1715 - val_accuracy: 0.9362\n",
            "Epoch 21/50\n",
            "82/82 [==============================] - 23s 283ms/step - loss: 0.1601 - accuracy: 0.9347 - val_loss: 0.1254 - val_accuracy: 0.9524\n",
            "Epoch 22/50\n",
            "82/82 [==============================] - 24s 285ms/step - loss: 0.1561 - accuracy: 0.9380 - val_loss: 0.1223 - val_accuracy: 0.9528\n",
            "Epoch 23/50\n",
            "82/82 [==============================] - 23s 283ms/step - loss: 0.1627 - accuracy: 0.9398 - val_loss: 0.1266 - val_accuracy: 0.9498\n",
            "Epoch 24/50\n",
            "82/82 [==============================] - 23s 284ms/step - loss: 0.1629 - accuracy: 0.9381 - val_loss: 0.1182 - val_accuracy: 0.9547\n",
            "Epoch 25/50\n",
            "82/82 [==============================] - 24s 284ms/step - loss: 0.1509 - accuracy: 0.9360 - val_loss: 0.1283 - val_accuracy: 0.9543\n",
            "Epoch 26/50\n",
            "82/82 [==============================] - 23s 283ms/step - loss: 0.1429 - accuracy: 0.9471 - val_loss: 0.1956 - val_accuracy: 0.9298\n",
            "Epoch 27/50\n",
            "82/82 [==============================] - 24s 284ms/step - loss: 0.1597 - accuracy: 0.9371 - val_loss: 0.1053 - val_accuracy: 0.9585\n",
            "Epoch 28/50\n",
            "82/82 [==============================] - 23s 283ms/step - loss: 0.1471 - accuracy: 0.9476 - val_loss: 0.1291 - val_accuracy: 0.9498\n",
            "Epoch 29/50\n",
            "82/82 [==============================] - 24s 286ms/step - loss: 0.1478 - accuracy: 0.9430 - val_loss: 0.1259 - val_accuracy: 0.9554\n",
            "Epoch 30/50\n",
            "82/82 [==============================] - 24s 284ms/step - loss: 0.1349 - accuracy: 0.9495 - val_loss: 0.0992 - val_accuracy: 0.9637\n",
            "Epoch 31/50\n",
            "82/82 [==============================] - 23s 283ms/step - loss: 0.1263 - accuracy: 0.9524 - val_loss: 0.1532 - val_accuracy: 0.9400\n",
            "Epoch 32/50\n",
            "82/82 [==============================] - 23s 284ms/step - loss: 0.1369 - accuracy: 0.9471 - val_loss: 0.1274 - val_accuracy: 0.9520\n",
            "Epoch 33/50\n",
            "82/82 [==============================] - 24s 285ms/step - loss: 0.1442 - accuracy: 0.9415 - val_loss: 0.2027 - val_accuracy: 0.9267\n",
            "Epoch 34/50\n",
            "82/82 [==============================] - 24s 284ms/step - loss: 0.1395 - accuracy: 0.9466 - val_loss: 0.1173 - val_accuracy: 0.9581\n",
            "Epoch 35/50\n",
            "82/82 [==============================] - 23s 284ms/step - loss: 0.1273 - accuracy: 0.9518 - val_loss: 0.0910 - val_accuracy: 0.9622\n",
            "Epoch 36/50\n",
            "82/82 [==============================] - 24s 286ms/step - loss: 0.1257 - accuracy: 0.9509 - val_loss: 0.1044 - val_accuracy: 0.9649\n",
            "Epoch 37/50\n",
            "82/82 [==============================] - 24s 284ms/step - loss: 0.1144 - accuracy: 0.9566 - val_loss: 0.1101 - val_accuracy: 0.9592\n",
            "Epoch 38/50\n",
            "82/82 [==============================] - 24s 284ms/step - loss: 0.1277 - accuracy: 0.9493 - val_loss: 0.1344 - val_accuracy: 0.9502\n",
            "Epoch 39/50\n",
            "82/82 [==============================] - 24s 285ms/step - loss: 0.1197 - accuracy: 0.9550 - val_loss: 0.0990 - val_accuracy: 0.9615\n",
            "Epoch 40/50\n",
            "82/82 [==============================] - 24s 285ms/step - loss: 0.1170 - accuracy: 0.9548 - val_loss: 0.1067 - val_accuracy: 0.9581\n",
            "Epoch 41/50\n",
            "82/82 [==============================] - 23s 284ms/step - loss: 0.1127 - accuracy: 0.9559 - val_loss: 0.1123 - val_accuracy: 0.9585\n",
            "Epoch 42/50\n",
            "82/82 [==============================] - 24s 285ms/step - loss: 0.1185 - accuracy: 0.9540 - val_loss: 0.1289 - val_accuracy: 0.9524\n",
            "Epoch 43/50\n",
            "82/82 [==============================] - 24s 284ms/step - loss: 0.1211 - accuracy: 0.9521 - val_loss: 0.0979 - val_accuracy: 0.9653\n",
            "Epoch 44/50\n",
            "82/82 [==============================] - 23s 283ms/step - loss: 0.1159 - accuracy: 0.9569 - val_loss: 0.1318 - val_accuracy: 0.9554\n",
            "Epoch 45/50\n",
            "82/82 [==============================] - 23s 285ms/step - loss: 0.1117 - accuracy: 0.9566 - val_loss: 0.1517 - val_accuracy: 0.9475\n",
            "Epoch 46/50\n",
            "82/82 [==============================] - 24s 286ms/step - loss: 0.1119 - accuracy: 0.9559 - val_loss: 0.1344 - val_accuracy: 0.9498\n",
            "Epoch 47/50\n",
            "82/82 [==============================] - 23s 283ms/step - loss: 0.1187 - accuracy: 0.9518 - val_loss: 0.1292 - val_accuracy: 0.9547\n",
            "Epoch 48/50\n",
            "82/82 [==============================] - 24s 285ms/step - loss: 0.1193 - accuracy: 0.9540 - val_loss: 0.1204 - val_accuracy: 0.9558\n",
            "Epoch 49/50\n",
            "82/82 [==============================] - 23s 283ms/step - loss: 0.1139 - accuracy: 0.9551 - val_loss: 0.1305 - val_accuracy: 0.9528\n",
            "Epoch 50/50\n",
            "82/82 [==============================] - 24s 285ms/step - loss: 0.1156 - accuracy: 0.9540 - val_loss: 0.1135 - val_accuracy: 0.9551\n",
            "Test loss: 0.11350113898515701\n",
            "Test accuracy: 0.9550604224205017\n"
          ],
          "name": "stdout"
        }
      ]
    },
    {
      "cell_type": "code",
      "metadata": {
        "id": "kkpCBS0ZNktc",
        "colab": {
          "base_uri": "https://localhost:8080/"
        },
        "outputId": "83188b81-825d-4101-e0e4-a398dfd95ff9"
      },
      "source": [
        "print(history.history.keys())"
      ],
      "execution_count": 23,
      "outputs": [
        {
          "output_type": "stream",
          "text": [
            "dict_keys(['loss', 'accuracy', 'val_loss', 'val_accuracy', 'lr'])\n"
          ],
          "name": "stdout"
        }
      ]
    },
    {
      "cell_type": "code",
      "metadata": {
        "id": "fjvAE9R9NoHp"
      },
      "source": [
        "import matplotlib.pyplot as plt"
      ],
      "execution_count": 24,
      "outputs": []
    },
    {
      "cell_type": "code",
      "metadata": {
        "colab": {
          "base_uri": "https://localhost:8080/",
          "height": 295
        },
        "id": "UCzLWt5GNpuq",
        "outputId": "ae3f29fe-8610-4729-8295-3d2013ce8de1"
      },
      "source": [
        "plt.plot(history.history['accuracy'])\n",
        "plt.plot(history.history['val_accuracy'])\n",
        "plt.title('model accuracy')\n",
        "plt.ylabel('accuracy')\n",
        "plt.xlabel('epoch')\n",
        "plt.legend(['train', 'test'], loc='upper left')\n",
        "plt.show()"
      ],
      "execution_count": 25,
      "outputs": [
        {
          "output_type": "display_data",
          "data": {
            "image/png": "[encoded data removed]",
            "text/plain": [
              "<Figure size 432x288 with 1 Axes>"
            ]
          },
          "metadata": {
            "tags": [],
            "needs_background": "light"
          }
        }
      ]
    }
  ]
}