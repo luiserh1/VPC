{
  "nbformat": 4,
  "nbformat_minor": 0,
  "metadata": {
    "colab": {
      "name": "gender.ipynb",
      "provenance": []
    },
    "kernelspec": {
      "name": "python3",
      "display_name": "Python 3"
    },
    "accelerator": "GPU"
  },
  "cells": [
    {
      "cell_type": "markdown",
      "metadata": {
        "id": "6ZVpkYQixSMP"
      },
      "source": [
        "Install keras"
      ]
    },
    {
      "cell_type": "code",
      "metadata": {
        "id": "F_z65L25xNTn",
        "colab": {
          "base_uri": "https://localhost:8080/"
        },
        "outputId": "c5032a15-5ea2-4cfc-99d9-2e7c0b6c5507"
      },
      "source": [
        "!pip3 install keras"
      ],
      "execution_count": 18,
      "outputs": [
        {
          "output_type": "stream",
          "text": [
            "Requirement already satisfied: keras in /usr/local/lib/python3.7/dist-packages (2.4.3)\n",
            "Requirement already satisfied: pyyaml in /usr/local/lib/python3.7/dist-packages (from keras) (3.13)\n",
            "Requirement already satisfied: h5py in /usr/local/lib/python3.7/dist-packages (from keras) (2.10.0)\n",
            "Requirement already satisfied: scipy>=0.14 in /usr/local/lib/python3.7/dist-packages (from keras) (1.4.1)\n",
            "Requirement already satisfied: numpy>=1.9.1 in /usr/local/lib/python3.7/dist-packages (from keras) (1.19.5)\n",
            "Requirement already satisfied: six in /usr/local/lib/python3.7/dist-packages (from h5py->keras) (1.15.0)\n"
          ],
          "name": "stdout"
        }
      ]
    },
    {
      "cell_type": "markdown",
      "metadata": {
        "id": "r4I_uhyrxVsi"
      },
      "source": [
        "Download data and uncompress"
      ]
    },
    {
      "cell_type": "code",
      "metadata": {
        "id": "FMT6N3G8xRxQ",
        "colab": {
          "base_uri": "https://localhost:8080/"
        },
        "outputId": "4f4ffdbd-fd9d-4de6-8cf6-43d8d17a9ff7"
      },
      "source": [
        "!wget https://www.dropbox.com/s/zcwlujrtz3izcw8/gender.tgz\n",
        "!tar xvzf gender.tgz"
      ],
      "execution_count": 19,
      "outputs": [
        {
          "output_type": "stream",
          "text": [
            "--2021-04-19 10:22:10--  https://www.dropbox.com/s/zcwlujrtz3izcw8/gender.tgz\n",
            "Resolving www.dropbox.com (www.dropbox.com)... 162.125.3.18, 2620:100:6018:18::a27d:312\n",
            "Connecting to www.dropbox.com (www.dropbox.com)|162.125.3.18|:443... connected.\n",
            "HTTP request sent, awaiting response... 301 Moved Permanently\n",
            "Location: /s/raw/zcwlujrtz3izcw8/gender.tgz [following]\n",
            "--2021-04-19 10:22:10--  https://www.dropbox.com/s/raw/zcwlujrtz3izcw8/gender.tgz\n",
            "Reusing existing connection to www.dropbox.com:443.\n",
            "HTTP request sent, awaiting response... 302 Found\n",
            "Location: https://ucc549b006df70610c78c4cac3d6.dl.dropboxusercontent.com/cd/0/inline/BM5JAMO7gRu6HyvV3zMZ573kvSWo2MKKtZfYdcZDn7MTu9VCz5Jw_OzguT_MRJFyRJTCcVSvrmvfCzxg7r3q4mmbWgWzYmOCIrj8ib8sODrzDsSu1yyWAwc7Myy5G52P3Rc-sxXkE_bMpVR8qcL_58XF/file# [following]\n",
            "--2021-04-19 10:22:10--  https://ucc549b006df70610c78c4cac3d6.dl.dropboxusercontent.com/cd/0/inline/BM5JAMO7gRu6HyvV3zMZ573kvSWo2MKKtZfYdcZDn7MTu9VCz5Jw_OzguT_MRJFyRJTCcVSvrmvfCzxg7r3q4mmbWgWzYmOCIrj8ib8sODrzDsSu1yyWAwc7Myy5G52P3Rc-sxXkE_bMpVR8qcL_58XF/file\n",
            "Resolving ucc549b006df70610c78c4cac3d6.dl.dropboxusercontent.com (ucc549b006df70610c78c4cac3d6.dl.dropboxusercontent.com)... 162.125.3.15, 2620:100:6018:15::a27d:30f\n",
            "Connecting to ucc549b006df70610c78c4cac3d6.dl.dropboxusercontent.com (ucc549b006df70610c78c4cac3d6.dl.dropboxusercontent.com)|162.125.3.15|:443... connected.\n",
            "HTTP request sent, awaiting response... 302 Found\n",
            "Location: /cd/0/inline2/BM57d2Xb5Oehruzr_s6zP_y42ppvS64TzOVLLUClNlCP1IhPGDW1AN_Zz-BIs79tEs_PI2wAuobMI8EXS5pM3hqAPkiHS14ECZuj7UIwCNIyDWjSKR8y4Kt0A6ePTDu6PknZ4kuERhck_zK0ii_F-T4V8TqqRxPwd5rweciOw3jOTW0M6nRnnpKDDRGHRXApTrA_jnbXinjEnTH4ImlElwwrBn7EAmuphnmohQws5eWuQfBcu10uDsGUPtVdL_0MvuFEOaHgIzua5j4kB5bqRO787oTexLY_90AekoZOJ2KWPW-YDDZFNbzBnWkMjSl6pDUKrX5-7VqSvvZQ3ECiqu2r_Q4i7siMAGhi92d5Lnp6PK0nzeYPoOVLPx3HMe5WNgA/file [following]\n",
            "--2021-04-19 10:22:11--  https://ucc549b006df70610c78c4cac3d6.dl.dropboxusercontent.com/cd/0/inline2/BM57d2Xb5Oehruzr_s6zP_y42ppvS64TzOVLLUClNlCP1IhPGDW1AN_Zz-BIs79tEs_PI2wAuobMI8EXS5pM3hqAPkiHS14ECZuj7UIwCNIyDWjSKR8y4Kt0A6ePTDu6PknZ4kuERhck_zK0ii_F-T4V8TqqRxPwd5rweciOw3jOTW0M6nRnnpKDDRGHRXApTrA_jnbXinjEnTH4ImlElwwrBn7EAmuphnmohQws5eWuQfBcu10uDsGUPtVdL_0MvuFEOaHgIzua5j4kB5bqRO787oTexLY_90AekoZOJ2KWPW-YDDZFNbzBnWkMjSl6pDUKrX5-7VqSvvZQ3ECiqu2r_Q4i7siMAGhi92d5Lnp6PK0nzeYPoOVLPx3HMe5WNgA/file\n",
            "Reusing existing connection to ucc549b006df70610c78c4cac3d6.dl.dropboxusercontent.com:443.\n",
            "HTTP request sent, awaiting response... 200 OK\n",
            "Length: 348494455 (332M) [application/x-gtar]\n",
            "Saving to: ‘gender.tgz.1’\n",
            "\n",
            "gender.tgz.1        100%[===================>] 332.35M  84.9MB/s    in 4.0s    \n",
            "\n",
            "2021-04-19 10:22:15 (84.0 MB/s) - ‘gender.tgz.1’ saved [348494455/348494455]\n",
            "\n",
            "./._x_test.npy\n",
            "x_test.npy\n",
            "./._x_train.npy\n",
            "x_train.npy\n",
            "./._y_test.npy\n",
            "y_test.npy\n",
            "./._y_train.npy\n",
            "y_train.npy\n"
          ],
          "name": "stdout"
        }
      ]
    },
    {
      "cell_type": "markdown",
      "metadata": {
        "id": "UfpSAifWxdFl"
      },
      "source": [
        "Import packages "
      ]
    },
    {
      "cell_type": "code",
      "metadata": {
        "id": "3qsOFZCExfFh"
      },
      "source": [
        "import numpy as np\n",
        "import matplotlib.pyplot as plt\n",
        "from __future__ import print_function\n",
        "import keras\n",
        "from keras.datasets import cifar10\n",
        "from keras.models import Sequential\n",
        "from keras.layers import Dense, Dropout, Activation, Flatten\n",
        "from keras.layers import Conv2D, MaxPooling2D\n",
        "from keras.layers.normalization import BatchNormalization as BN\n",
        "from keras.layers import GaussianNoise as GN\n",
        "from keras.optimizers import SGD\n",
        "\n",
        "from keras.callbacks import LearningRateScheduler as LRS\n",
        "from keras.preprocessing.image import ImageDataGenerator"
      ],
      "execution_count": 21,
      "outputs": []
    },
    {
      "cell_type": "markdown",
      "metadata": {
        "id": "mY5PAxIcN78O"
      },
      "source": [
        "Define batch size, number of epochs and number of classes"
      ]
    },
    {
      "cell_type": "code",
      "metadata": {
        "id": "gb5gDxZRN8f1"
      },
      "source": [
        "batch_size = 128\n",
        "epochs = 50\n",
        "num_classes=2"
      ],
      "execution_count": 31,
      "outputs": []
    },
    {
      "cell_type": "markdown",
      "metadata": {
        "id": "vbxzdKZIxiaO"
      },
      "source": [
        "Load and prepare data"
      ]
    },
    {
      "cell_type": "code",
      "metadata": {
        "id": "8X70BXsIxj_a",
        "colab": {
          "base_uri": "https://localhost:8080/",
          "height": 472
        },
        "outputId": "f4073582-7e6b-4fe9-a20a-12215d6764cd"
      },
      "source": [
        "# Load \n",
        "x_train = np.load('x_train.npy')\n",
        "x_test = np.load('x_test.npy')\n",
        "\n",
        "y_train = np.load('y_train.npy')\n",
        "y_test = np.load('y_test.npy')\n",
        "\n",
        "# Stats\n",
        "print(x_train.shape)\n",
        "print(y_train.shape)\n",
        "print(sum(y_train == 1))\n",
        "print(sum(y_train == 0))\n",
        "print(\"{:.4f}\".format(sum(y_train == 1)/y_train.shape[0]))\n",
        "print(x_test.shape)\n",
        "print(y_test.shape)\n",
        "print(sum(y_test == 1))\n",
        "print(sum(y_test == 0))\n",
        "print(\"{:.4f}\".format(sum(y_test == 1)/y_test.shape[0]))\n",
        "\n",
        "\n",
        "## View some images\n",
        "plt.imshow(x_train[0,:,:,: ] )\n",
        "plt.show()\n",
        "\n",
        "\n",
        "## Transforms\n",
        "x_train = x_train.astype('float32')\n",
        "x_test = x_test.astype('float32')\n",
        "\n",
        "y_train = y_train.astype('float32')\n",
        "y_test = y_test.astype('float32')\n",
        "\n",
        "\n",
        "x_train /= 255\n",
        "x_test /= 255\n",
        "\n",
        "print(x_train.shape)\n",
        "print(x_test.shape)\n",
        "\n",
        "\n",
        "num_classes = 2\n",
        "\n",
        "y_train = keras.utils.np_utils.to_categorical(y_train, num_classes)\n",
        "y_test = keras.utils.np_utils.to_categorical(y_test, num_classes)\n"
      ],
      "execution_count": 22,
      "outputs": [
        {
          "output_type": "stream",
          "text": [
            "(10585, 100, 100, 3)\n",
            "(10585,)\n",
            "2381\n",
            "8204\n",
            "0.2249\n",
            "(2648, 100, 100, 3)\n",
            "(2648,)\n",
            "596\n",
            "2052\n",
            "0.2251\n"
          ],
          "name": "stdout"
        },
        {
          "output_type": "display_data",
          "data": {
            "image/png": "[encoded data removed]",
            "text/plain": [
              "<Figure size 432x288 with 1 Axes>"
            ]
          },
          "metadata": {
            "tags": [],
            "needs_background": "light"
          }
        },
        {
          "output_type": "stream",
          "text": [
            "(10585, 100, 100, 3)\n",
            "(2648, 100, 100, 3)\n"
          ],
          "name": "stdout"
        }
      ]
    },
    {
      "cell_type": "markdown",
      "metadata": {
        "id": "wLTRtJVgx4MK"
      },
      "source": [
        "Create model, data augmentation etc... "
      ]
    },
    {
      "cell_type": "markdown",
      "metadata": {
        "id": "uPeqSsArLpRP"
      },
      "source": [
        "Data Augmentation with ImageGenerator"
      ]
    },
    {
      "cell_type": "code",
      "metadata": {
        "id": "BrBGTARaKveM"
      },
      "source": [
        "datagen = ImageDataGenerator(\n",
        "    width_shift_range=0.2,\n",
        "    height_shift_range=0.2,\n",
        "    horizontal_flip=False,\n",
        "    zoom_range=0.2,\n",
        "    rotation_range=45,\n",
        "    vertical_flip=False)"
      ],
      "execution_count": 23,
      "outputs": []
    },
    {
      "cell_type": "markdown",
      "metadata": {
        "id": "Ewb1aovTL5y-"
      },
      "source": [
        "Define a convolutional block. Batch norm + Gaussian Norm + Max Pool"
      ]
    },
    {
      "cell_type": "code",
      "metadata": {
        "id": "3oNX3WxfL47J"
      },
      "source": [
        "def CBGN(model,filters,ishape=0):\n",
        "  if (ishape!=0):\n",
        "    model.add(Conv2D(filters, (3, 3), padding='same',\n",
        "                 input_shape=ishape))\n",
        "  else:\n",
        "    model.add(Conv2D(filters, (3, 3), padding='same'))\n",
        "  \n",
        "  model.add(BN())\n",
        "  model.add(GN(0.25))\n",
        "  model.add(Activation('elu'))\n",
        "  #model.add(Dropout(0.25))\n",
        "  model.add(MaxPooling2D(pool_size=(2, 2)))\n",
        "  \n",
        "  return model"
      ],
      "execution_count": 24,
      "outputs": []
    },
    {
      "cell_type": "markdown",
      "metadata": {
        "id": "-37CTPvlMMT9"
      },
      "source": [
        "Define the NN topology"
      ]
    },
    {
      "cell_type": "code",
      "metadata": {
        "colab": {
          "base_uri": "https://localhost:8080/"
        },
        "id": "8QIBxWxNMPU2",
        "outputId": "9387fc2c-7207-4b65-cd45-97763872ffe7"
      },
      "source": [
        "## DEF NN TOPOLOGY  \n",
        "model = Sequential()\n",
        "\n",
        "model=CBGN(model,32,x_train.shape[1:])\n",
        "model=CBGN(model,64)\n",
        "model=CBGN(model,128)\n",
        "model=CBGN(model,256)\n",
        "model=CBGN(model,512)\n",
        "\n",
        "model.add(Conv2D(1024, (3, 3), padding='same'))\n",
        "model.add(BN())\n",
        "model.add(GN(0.25))\n",
        "model.add(Activation('elu'))\n",
        "model.add(MaxPooling2D((2,2), padding='same'))\n",
        "\n",
        "\n",
        "model.add(Flatten())\n",
        "model.add(Dense(1024))\n",
        "model.add(BN())\n",
        "model.add(GN(0.2))\n",
        "#model.add(Dropout(0.05))\n",
        "model.add(Activation('relu'))\n",
        "\n",
        "model.add(Dense(1024))\n",
        "model.add(BN())\n",
        "model.add(GN(0.2))\n",
        "model.add(Dropout(0.35))\n",
        "model.add(Activation('relu'))\n",
        "\n",
        "model.add(Dense(num_classes))\n",
        "model.add(Activation('softmax'))\n",
        "\n",
        "\n",
        "model.summary()"
      ],
      "execution_count": 25,
      "outputs": [
        {
          "output_type": "stream",
          "text": [
            "Model: \"sequential_1\"\n",
            "_________________________________________________________________\n",
            "Layer (type)                 Output Shape              Param #   \n",
            "=================================================================\n",
            "conv2d_6 (Conv2D)            (None, 100, 100, 32)      896       \n",
            "_________________________________________________________________\n",
            "batch_normalization_8 (Batch (None, 100, 100, 32)      128       \n",
            "_________________________________________________________________\n",
            "gaussian_noise_8 (GaussianNo (None, 100, 100, 32)      0         \n",
            "_________________________________________________________________\n",
            "activation_9 (Activation)    (None, 100, 100, 32)      0         \n",
            "_________________________________________________________________\n",
            "max_pooling2d_6 (MaxPooling2 (None, 50, 50, 32)        0         \n",
            "_________________________________________________________________\n",
            "conv2d_7 (Conv2D)            (None, 50, 50, 64)        18496     \n",
            "_________________________________________________________________\n",
            "batch_normalization_9 (Batch (None, 50, 50, 64)        256       \n",
            "_________________________________________________________________\n",
            "gaussian_noise_9 (GaussianNo (None, 50, 50, 64)        0         \n",
            "_________________________________________________________________\n",
            "activation_10 (Activation)   (None, 50, 50, 64)        0         \n",
            "_________________________________________________________________\n",
            "max_pooling2d_7 (MaxPooling2 (None, 25, 25, 64)        0         \n",
            "_________________________________________________________________\n",
            "conv2d_8 (Conv2D)            (None, 25, 25, 128)       73856     \n",
            "_________________________________________________________________\n",
            "batch_normalization_10 (Batc (None, 25, 25, 128)       512       \n",
            "_________________________________________________________________\n",
            "gaussian_noise_10 (GaussianN (None, 25, 25, 128)       0         \n",
            "_________________________________________________________________\n",
            "activation_11 (Activation)   (None, 25, 25, 128)       0         \n",
            "_________________________________________________________________\n",
            "max_pooling2d_8 (MaxPooling2 (None, 12, 12, 128)       0         \n",
            "_________________________________________________________________\n",
            "conv2d_9 (Conv2D)            (None, 12, 12, 256)       295168    \n",
            "_________________________________________________________________\n",
            "batch_normalization_11 (Batc (None, 12, 12, 256)       1024      \n",
            "_________________________________________________________________\n",
            "gaussian_noise_11 (GaussianN (None, 12, 12, 256)       0         \n",
            "_________________________________________________________________\n",
            "activation_12 (Activation)   (None, 12, 12, 256)       0         \n",
            "_________________________________________________________________\n",
            "max_pooling2d_9 (MaxPooling2 (None, 6, 6, 256)         0         \n",
            "_________________________________________________________________\n",
            "conv2d_10 (Conv2D)           (None, 6, 6, 512)         1180160   \n",
            "_________________________________________________________________\n",
            "batch_normalization_12 (Batc (None, 6, 6, 512)         2048      \n",
            "_________________________________________________________________\n",
            "gaussian_noise_12 (GaussianN (None, 6, 6, 512)         0         \n",
            "_________________________________________________________________\n",
            "activation_13 (Activation)   (None, 6, 6, 512)         0         \n",
            "_________________________________________________________________\n",
            "max_pooling2d_10 (MaxPooling (None, 3, 3, 512)         0         \n",
            "_________________________________________________________________\n",
            "conv2d_11 (Conv2D)           (None, 3, 3, 1024)        4719616   \n",
            "_________________________________________________________________\n",
            "batch_normalization_13 (Batc (None, 3, 3, 1024)        4096      \n",
            "_________________________________________________________________\n",
            "gaussian_noise_13 (GaussianN (None, 3, 3, 1024)        0         \n",
            "_________________________________________________________________\n",
            "activation_14 (Activation)   (None, 3, 3, 1024)        0         \n",
            "_________________________________________________________________\n",
            "max_pooling2d_11 (MaxPooling (None, 2, 2, 1024)        0         \n",
            "_________________________________________________________________\n",
            "flatten_1 (Flatten)          (None, 4096)              0         \n",
            "_________________________________________________________________\n",
            "dense_3 (Dense)              (None, 1024)              4195328   \n",
            "_________________________________________________________________\n",
            "batch_normalization_14 (Batc (None, 1024)              4096      \n",
            "_________________________________________________________________\n",
            "gaussian_noise_14 (GaussianN (None, 1024)              0         \n",
            "_________________________________________________________________\n",
            "activation_15 (Activation)   (None, 1024)              0         \n",
            "_________________________________________________________________\n",
            "dense_4 (Dense)              (None, 1024)              1049600   \n",
            "_________________________________________________________________\n",
            "batch_normalization_15 (Batc (None, 1024)              4096      \n",
            "_________________________________________________________________\n",
            "gaussian_noise_15 (GaussianN (None, 1024)              0         \n",
            "_________________________________________________________________\n",
            "dropout_1 (Dropout)          (None, 1024)              0         \n",
            "_________________________________________________________________\n",
            "activation_16 (Activation)   (None, 1024)              0         \n",
            "_________________________________________________________________\n",
            "dense_5 (Dense)              (None, 2)                 2050      \n",
            "_________________________________________________________________\n",
            "activation_17 (Activation)   (None, 2)                 0         \n",
            "=================================================================\n",
            "Total params: 11,551,426\n",
            "Trainable params: 11,543,298\n",
            "Non-trainable params: 8,128\n",
            "_________________________________________________________________\n"
          ],
          "name": "stdout"
        }
      ]
    },
    {
      "cell_type": "markdown",
      "metadata": {
        "id": "mFzCPpIYNNRj"
      },
      "source": [
        "Define an optimizer"
      ]
    },
    {
      "cell_type": "code",
      "metadata": {
        "id": "vfcdMse0NPWd"
      },
      "source": [
        "sgd=SGD(lr=0.1, decay=0.0, momentum=0.0)\n",
        "\n",
        "def scheduler(epoch):\n",
        "  if epoch < epochs / 3:\n",
        "    return 0.1\n",
        "  elif epoch < epochs / 3 * 2:\n",
        "    return 0.05\n",
        "  else:\n",
        "    return 0.02\n",
        "set_lr = LRS(scheduler)"
      ],
      "execution_count": 26,
      "outputs": []
    },
    {
      "cell_type": "markdown",
      "metadata": {
        "id": "CaiT0OI5NSrq"
      },
      "source": [
        "Compile the model, define loss and link the optimizer"
      ]
    },
    {
      "cell_type": "code",
      "metadata": {
        "id": "IsZrg8LyNYCb"
      },
      "source": [
        "model.compile(loss='categorical_crossentropy',\n",
        "              optimizer=sgd,\n",
        "              metrics=['accuracy'])"
      ],
      "execution_count": 27,
      "outputs": []
    },
    {
      "cell_type": "markdown",
      "metadata": {
        "id": "Vvzb5j2SNewj"
      },
      "source": [
        "Model training and evaluation"
      ]
    },
    {
      "cell_type": "code",
      "metadata": {
        "colab": {
          "base_uri": "https://localhost:8080/"
        },
        "id": "_BDqdX8pNhJ9",
        "outputId": "b72cc689-a5be-4a29-c98b-5743b6dec001"
      },
      "source": [
        "history=model.fit_generator(datagen.flow(x_train, y_train,batch_size=batch_size),\n",
        "                            steps_per_epoch=len(x_train) / batch_size, \n",
        "                            epochs=epochs,\n",
        "                            validation_data=(x_test, y_test),\n",
        "                            callbacks=[set_lr],\n",
        "                            verbose=1)\n",
        "\n",
        "\n",
        "score = model.evaluate(x_test, y_test, verbose=0)\n",
        "\n",
        "print('Test loss:', score[0])\n",
        "print('Test accuracy:', score[1])"
      ],
      "execution_count": 32,
      "outputs": [
        {
          "output_type": "stream",
          "text": [
            "/usr/local/lib/python3.7/dist-packages/tensorflow/python/keras/engine/training.py:1844: UserWarning: `Model.fit_generator` is deprecated and will be removed in a future version. Please use `Model.fit`, which supports generators.\n",
            "  warnings.warn('`Model.fit_generator` is deprecated and '\n"
          ],
          "name": "stderr"
        },
        {
          "output_type": "stream",
          "text": [
            "Epoch 1/50\n",
            "82/82 [==============================] - 28s 342ms/step - loss: 0.2202 - accuracy: 0.9096 - val_loss: 0.1487 - val_accuracy: 0.9456\n",
            "Epoch 2/50\n",
            "82/82 [==============================] - 28s 340ms/step - loss: 0.2089 - accuracy: 0.9153 - val_loss: 0.2285 - val_accuracy: 0.9143\n",
            "Epoch 3/50\n",
            "82/82 [==============================] - 28s 343ms/step - loss: 0.1986 - accuracy: 0.9164 - val_loss: 0.1909 - val_accuracy: 0.9377\n",
            "Epoch 4/50\n",
            "82/82 [==============================] - 29s 348ms/step - loss: 0.1961 - accuracy: 0.9216 - val_loss: 0.2518 - val_accuracy: 0.9097\n",
            "Epoch 5/50\n",
            "82/82 [==============================] - 29s 351ms/step - loss: 0.1927 - accuracy: 0.9256 - val_loss: 0.1575 - val_accuracy: 0.9381\n",
            "Epoch 6/50\n",
            "82/82 [==============================] - 29s 347ms/step - loss: 0.1833 - accuracy: 0.9281 - val_loss: 0.1925 - val_accuracy: 0.9430\n",
            "Epoch 7/50\n",
            "82/82 [==============================] - 28s 344ms/step - loss: 0.1783 - accuracy: 0.9278 - val_loss: 0.1810 - val_accuracy: 0.9490\n",
            "Epoch 8/50\n",
            "82/82 [==============================] - 28s 341ms/step - loss: 0.1681 - accuracy: 0.9339 - val_loss: 0.1829 - val_accuracy: 0.9471\n",
            "Epoch 9/50\n",
            "82/82 [==============================] - 28s 340ms/step - loss: 0.1716 - accuracy: 0.9312 - val_loss: 0.2013 - val_accuracy: 0.9415\n",
            "Epoch 10/50\n",
            "82/82 [==============================] - 28s 339ms/step - loss: 0.1716 - accuracy: 0.9311 - val_loss: 0.2684 - val_accuracy: 0.9343\n",
            "Epoch 11/50\n",
            "82/82 [==============================] - 28s 338ms/step - loss: 0.1571 - accuracy: 0.9386 - val_loss: 0.1367 - val_accuracy: 0.9528\n",
            "Epoch 12/50\n",
            "82/82 [==============================] - 28s 338ms/step - loss: 0.1536 - accuracy: 0.9393 - val_loss: 0.1312 - val_accuracy: 0.9585\n",
            "Epoch 13/50\n",
            "82/82 [==============================] - 28s 341ms/step - loss: 0.1550 - accuracy: 0.9392 - val_loss: 0.3004 - val_accuracy: 0.9203\n",
            "Epoch 14/50\n",
            "82/82 [==============================] - 28s 343ms/step - loss: 0.1579 - accuracy: 0.9395 - val_loss: 0.1339 - val_accuracy: 0.9535\n",
            "Epoch 15/50\n",
            "82/82 [==============================] - 28s 342ms/step - loss: 0.1470 - accuracy: 0.9427 - val_loss: 0.1261 - val_accuracy: 0.9547\n",
            "Epoch 16/50\n",
            "82/82 [==============================] - 28s 342ms/step - loss: 0.1355 - accuracy: 0.9482 - val_loss: 0.1508 - val_accuracy: 0.9502\n",
            "Epoch 17/50\n",
            "82/82 [==============================] - 29s 345ms/step - loss: 0.1415 - accuracy: 0.9444 - val_loss: 0.1011 - val_accuracy: 0.9679\n",
            "Epoch 18/50\n",
            "82/82 [==============================] - 29s 346ms/step - loss: 0.1272 - accuracy: 0.9495 - val_loss: 0.1174 - val_accuracy: 0.9611\n",
            "Epoch 19/50\n",
            "82/82 [==============================] - 29s 347ms/step - loss: 0.1220 - accuracy: 0.9537 - val_loss: 0.0961 - val_accuracy: 0.9622\n",
            "Epoch 20/50\n",
            "82/82 [==============================] - 29s 347ms/step - loss: 0.1162 - accuracy: 0.9558 - val_loss: 0.1145 - val_accuracy: 0.9630\n",
            "Epoch 21/50\n",
            "82/82 [==============================] - 29s 344ms/step - loss: 0.1152 - accuracy: 0.9540 - val_loss: 0.1857 - val_accuracy: 0.9513\n",
            "Epoch 22/50\n",
            "82/82 [==============================] - 28s 342ms/step - loss: 0.1093 - accuracy: 0.9568 - val_loss: 0.1040 - val_accuracy: 0.9698\n",
            "Epoch 23/50\n",
            "82/82 [==============================] - 28s 340ms/step - loss: 0.1168 - accuracy: 0.9544 - val_loss: 0.0976 - val_accuracy: 0.9649\n",
            "Epoch 24/50\n",
            "82/82 [==============================] - 28s 340ms/step - loss: 0.1145 - accuracy: 0.9547 - val_loss: 0.0922 - val_accuracy: 0.9671\n",
            "Epoch 25/50\n",
            "82/82 [==============================] - 28s 338ms/step - loss: 0.1128 - accuracy: 0.9576 - val_loss: 0.1122 - val_accuracy: 0.9653\n",
            "Epoch 26/50\n",
            "82/82 [==============================] - 28s 339ms/step - loss: 0.1066 - accuracy: 0.9590 - val_loss: 0.1376 - val_accuracy: 0.9569\n",
            "Epoch 27/50\n",
            "82/82 [==============================] - 28s 341ms/step - loss: 0.1119 - accuracy: 0.9551 - val_loss: 0.0970 - val_accuracy: 0.9683\n",
            "Epoch 28/50\n",
            "82/82 [==============================] - 28s 340ms/step - loss: 0.1083 - accuracy: 0.9591 - val_loss: 0.1020 - val_accuracy: 0.9694\n",
            "Epoch 29/50\n",
            "82/82 [==============================] - 28s 342ms/step - loss: 0.1027 - accuracy: 0.9583 - val_loss: 0.0905 - val_accuracy: 0.9713\n",
            "Epoch 30/50\n",
            "82/82 [==============================] - 28s 342ms/step - loss: 0.0996 - accuracy: 0.9603 - val_loss: 0.1854 - val_accuracy: 0.9471\n",
            "Epoch 31/50\n",
            "82/82 [==============================] - 28s 342ms/step - loss: 0.1105 - accuracy: 0.9581 - val_loss: 0.0895 - val_accuracy: 0.9660\n",
            "Epoch 32/50\n",
            "82/82 [==============================] - 28s 338ms/step - loss: 0.1029 - accuracy: 0.9597 - val_loss: 0.3770 - val_accuracy: 0.9188\n",
            "Epoch 33/50\n",
            "82/82 [==============================] - 28s 344ms/step - loss: 0.1002 - accuracy: 0.9607 - val_loss: 0.0983 - val_accuracy: 0.9668\n",
            "Epoch 34/50\n",
            "82/82 [==============================] - 28s 343ms/step - loss: 0.1024 - accuracy: 0.9604 - val_loss: 0.0951 - val_accuracy: 0.9656\n",
            "Epoch 35/50\n",
            "82/82 [==============================] - 28s 340ms/step - loss: 0.0942 - accuracy: 0.9617 - val_loss: 0.0922 - val_accuracy: 0.9702\n",
            "Epoch 36/50\n",
            "82/82 [==============================] - 28s 342ms/step - loss: 0.0893 - accuracy: 0.9656 - val_loss: 0.0868 - val_accuracy: 0.9709\n",
            "Epoch 37/50\n",
            "82/82 [==============================] - 28s 342ms/step - loss: 0.0884 - accuracy: 0.9659 - val_loss: 0.1053 - val_accuracy: 0.9679\n",
            "Epoch 38/50\n",
            "82/82 [==============================] - 29s 347ms/step - loss: 0.0926 - accuracy: 0.9649 - val_loss: 0.0886 - val_accuracy: 0.9717\n",
            "Epoch 39/50\n",
            "82/82 [==============================] - 29s 345ms/step - loss: 0.0935 - accuracy: 0.9631 - val_loss: 0.0822 - val_accuracy: 0.9721\n",
            "Epoch 40/50\n",
            "82/82 [==============================] - 29s 344ms/step - loss: 0.0865 - accuracy: 0.9650 - val_loss: 0.0841 - val_accuracy: 0.9717\n",
            "Epoch 41/50\n",
            "82/82 [==============================] - 29s 346ms/step - loss: 0.0893 - accuracy: 0.9639 - val_loss: 0.0989 - val_accuracy: 0.9671\n",
            "Epoch 42/50\n",
            "82/82 [==============================] - 28s 341ms/step - loss: 0.0841 - accuracy: 0.9674 - val_loss: 0.0874 - val_accuracy: 0.9698\n",
            "Epoch 43/50\n",
            "82/82 [==============================] - 28s 338ms/step - loss: 0.0813 - accuracy: 0.9692 - val_loss: 0.0936 - val_accuracy: 0.9709\n",
            "Epoch 44/50\n",
            "82/82 [==============================] - 28s 338ms/step - loss: 0.0855 - accuracy: 0.9675 - val_loss: 0.1026 - val_accuracy: 0.9664\n",
            "Epoch 45/50\n",
            "82/82 [==============================] - 28s 336ms/step - loss: 0.0834 - accuracy: 0.9676 - val_loss: 0.1119 - val_accuracy: 0.9649\n",
            "Epoch 46/50\n",
            "82/82 [==============================] - 28s 339ms/step - loss: 0.0852 - accuracy: 0.9679 - val_loss: 0.1058 - val_accuracy: 0.9690\n",
            "Epoch 47/50\n",
            "82/82 [==============================] - 28s 341ms/step - loss: 0.0848 - accuracy: 0.9679 - val_loss: 0.1015 - val_accuracy: 0.9675\n",
            "Epoch 48/50\n",
            "82/82 [==============================] - 28s 340ms/step - loss: 0.0835 - accuracy: 0.9666 - val_loss: 0.1021 - val_accuracy: 0.9653\n",
            "Epoch 49/50\n",
            "82/82 [==============================] - 28s 338ms/step - loss: 0.0815 - accuracy: 0.9684 - val_loss: 0.0883 - val_accuracy: 0.9690\n",
            "Epoch 50/50\n",
            "82/82 [==============================] - 28s 340ms/step - loss: 0.0859 - accuracy: 0.9670 - val_loss: 0.0904 - val_accuracy: 0.9709\n",
            "Test loss: 0.09038339555263519\n",
            "Test accuracy: 0.9709214568138123\n"
          ],
          "name": "stdout"
        }
      ]
    },
    {
      "cell_type": "code",
      "metadata": {
        "id": "kkpCBS0ZNktc"
      },
      "source": [
        "print(history.history.keys())"
      ],
      "execution_count": null,
      "outputs": []
    },
    {
      "cell_type": "code",
      "metadata": {
        "id": "fjvAE9R9NoHp"
      },
      "source": [
        "import matplotlib.pyplot as plt"
      ],
      "execution_count": 29,
      "outputs": []
    },
    {
      "cell_type": "code",
      "metadata": {
        "colab": {
          "base_uri": "https://localhost:8080/",
          "height": 295
        },
        "id": "UCzLWt5GNpuq",
        "outputId": "be28e7b6-e9cb-4421-ef1b-3efa858efeb9"
      },
      "source": [
        "plt.plot(history.history['accuracy'])\n",
        "plt.plot(history.history['val_accuracy'])\n",
        "plt.title('model accuracy')\n",
        "plt.ylabel('accuracy')\n",
        "plt.xlabel('epoch')\n",
        "plt.legend(['train', 'test'], loc='upper left')\n",
        "plt.show()"
      ],
      "execution_count": 30,
      "outputs": [
        {
          "output_type": "display_data",
          "data": {
            "image/png": "[encoded data removed]",
            "text/plain": [
              "<Figure size 432x288 with 1 Axes>"
            ]
          },
          "metadata": {
            "tags": [],
            "needs_background": "light"
          }
        }
      ]
    }
  ]
}