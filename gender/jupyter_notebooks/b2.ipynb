{
  "nbformat": 4,
  "nbformat_minor": 0,
  "metadata": {
    "colab": {
      "name": "gender.ipynb",
      "provenance": []
    },
    "kernelspec": {
      "name": "python3",
      "display_name": "Python 3"
    },
    "accelerator": "GPU"
  },
  "cells": [
    {
      "cell_type": "markdown",
      "metadata": {
        "id": "6ZVpkYQixSMP"
      },
      "source": [
        "Install keras"
      ]
    },
    {
      "cell_type": "code",
      "metadata": {
        "id": "F_z65L25xNTn",
        "colab": {
          "base_uri": "https://localhost:8080/"
        },
        "outputId": "c5032a15-5ea2-4cfc-99d9-2e7c0b6c5507"
      },
      "source": [
        "!pip3 install keras"
      ],
      "execution_count": 18,
      "outputs": [
        {
          "output_type": "stream",
          "text": [
            "Requirement already satisfied: keras in /usr/local/lib/python3.7/dist-packages (2.4.3)\n",
            "Requirement already satisfied: pyyaml in /usr/local/lib/python3.7/dist-packages (from keras) (3.13)\n",
            "Requirement already satisfied: h5py in /usr/local/lib/python3.7/dist-packages (from keras) (2.10.0)\n",
            "Requirement already satisfied: scipy>=0.14 in /usr/local/lib/python3.7/dist-packages (from keras) (1.4.1)\n",
            "Requirement already satisfied: numpy>=1.9.1 in /usr/local/lib/python3.7/dist-packages (from keras) (1.19.5)\n",
            "Requirement already satisfied: six in /usr/local/lib/python3.7/dist-packages (from h5py->keras) (1.15.0)\n"
          ],
          "name": "stdout"
        }
      ]
    },
    {
      "cell_type": "markdown",
      "metadata": {
        "id": "r4I_uhyrxVsi"
      },
      "source": [
        "Download data and uncompress"
      ]
    },
    {
      "cell_type": "code",
      "metadata": {
        "id": "FMT6N3G8xRxQ",
        "colab": {
          "base_uri": "https://localhost:8080/"
        },
        "outputId": "4f4ffdbd-fd9d-4de6-8cf6-43d8d17a9ff7"
      },
      "source": [
        "!wget https://www.dropbox.com/s/zcwlujrtz3izcw8/gender.tgz\n",
        "!tar xvzf gender.tgz"
      ],
      "execution_count": 19,
      "outputs": [
        {
          "output_type": "stream",
          "text": [
            "--2021-04-19 10:22:10--  https://www.dropbox.com/s/zcwlujrtz3izcw8/gender.tgz\n",
            "Resolving www.dropbox.com (www.dropbox.com)... 162.125.3.18, 2620:100:6018:18::a27d:312\n",
            "Connecting to www.dropbox.com (www.dropbox.com)|162.125.3.18|:443... connected.\n",
            "HTTP request sent, awaiting response... 301 Moved Permanently\n",
            "Location: /s/raw/zcwlujrtz3izcw8/gender.tgz [following]\n",
            "--2021-04-19 10:22:10--  https://www.dropbox.com/s/raw/zcwlujrtz3izcw8/gender.tgz\n",
            "Reusing existing connection to www.dropbox.com:443.\n",
            "HTTP request sent, awaiting response... 302 Found\n",
            "Location: https://ucc549b006df70610c78c4cac3d6.dl.dropboxusercontent.com/cd/0/inline/BM5JAMO7gRu6HyvV3zMZ573kvSWo2MKKtZfYdcZDn7MTu9VCz5Jw_OzguT_MRJFyRJTCcVSvrmvfCzxg7r3q4mmbWgWzYmOCIrj8ib8sODrzDsSu1yyWAwc7Myy5G52P3Rc-sxXkE_bMpVR8qcL_58XF/file# [following]\n",
            "--2021-04-19 10:22:10--  https://ucc549b006df70610c78c4cac3d6.dl.dropboxusercontent.com/cd/0/inline/BM5JAMO7gRu6HyvV3zMZ573kvSWo2MKKtZfYdcZDn7MTu9VCz5Jw_OzguT_MRJFyRJTCcVSvrmvfCzxg7r3q4mmbWgWzYmOCIrj8ib8sODrzDsSu1yyWAwc7Myy5G52P3Rc-sxXkE_bMpVR8qcL_58XF/file\n",
            "Resolving ucc549b006df70610c78c4cac3d6.dl.dropboxusercontent.com (ucc549b006df70610c78c4cac3d6.dl.dropboxusercontent.com)... 162.125.3.15, 2620:100:6018:15::a27d:30f\n",
            "Connecting to ucc549b006df70610c78c4cac3d6.dl.dropboxusercontent.com (ucc549b006df70610c78c4cac3d6.dl.dropboxusercontent.com)|162.125.3.15|:443... connected.\n",
            "HTTP request sent, awaiting response... 302 Found\n",
            "Location: /cd/0/inline2/BM57d2Xb5Oehruzr_s6zP_y42ppvS64TzOVLLUClNlCP1IhPGDW1AN_Zz-BIs79tEs_PI2wAuobMI8EXS5pM3hqAPkiHS14ECZuj7UIwCNIyDWjSKR8y4Kt0A6ePTDu6PknZ4kuERhck_zK0ii_F-T4V8TqqRxPwd5rweciOw3jOTW0M6nRnnpKDDRGHRXApTrA_jnbXinjEnTH4ImlElwwrBn7EAmuphnmohQws5eWuQfBcu10uDsGUPtVdL_0MvuFEOaHgIzua5j4kB5bqRO787oTexLY_90AekoZOJ2KWPW-YDDZFNbzBnWkMjSl6pDUKrX5-7VqSvvZQ3ECiqu2r_Q4i7siMAGhi92d5Lnp6PK0nzeYPoOVLPx3HMe5WNgA/file [following]\n",
            "--2021-04-19 10:22:11--  https://ucc549b006df70610c78c4cac3d6.dl.dropboxusercontent.com/cd/0/inline2/BM57d2Xb5Oehruzr_s6zP_y42ppvS64TzOVLLUClNlCP1IhPGDW1AN_Zz-BIs79tEs_PI2wAuobMI8EXS5pM3hqAPkiHS14ECZuj7UIwCNIyDWjSKR8y4Kt0A6ePTDu6PknZ4kuERhck_zK0ii_F-T4V8TqqRxPwd5rweciOw3jOTW0M6nRnnpKDDRGHRXApTrA_jnbXinjEnTH4ImlElwwrBn7EAmuphnmohQws5eWuQfBcu10uDsGUPtVdL_0MvuFEOaHgIzua5j4kB5bqRO787oTexLY_90AekoZOJ2KWPW-YDDZFNbzBnWkMjSl6pDUKrX5-7VqSvvZQ3ECiqu2r_Q4i7siMAGhi92d5Lnp6PK0nzeYPoOVLPx3HMe5WNgA/file\n",
            "Reusing existing connection to ucc549b006df70610c78c4cac3d6.dl.dropboxusercontent.com:443.\n",
            "HTTP request sent, awaiting response... 200 OK\n",
            "Length: 348494455 (332M) [application/x-gtar]\n",
            "Saving to: ‘gender.tgz.1’\n",
            "\n",
            "gender.tgz.1        100%[===================>] 332.35M  84.9MB/s    in 4.0s    \n",
            "\n",
            "2021-04-19 10:22:15 (84.0 MB/s) - ‘gender.tgz.1’ saved [348494455/348494455]\n",
            "\n",
            "./._x_test.npy\n",
            "x_test.npy\n",
            "./._x_train.npy\n",
            "x_train.npy\n",
            "./._y_test.npy\n",
            "y_test.npy\n",
            "./._y_train.npy\n",
            "y_train.npy\n"
          ],
          "name": "stdout"
        }
      ]
    },
    {
      "cell_type": "markdown",
      "metadata": {
        "id": "UfpSAifWxdFl"
      },
      "source": [
        "Import packages "
      ]
    },
    {
      "cell_type": "code",
      "metadata": {
        "id": "3qsOFZCExfFh"
      },
      "source": [
        "import numpy as np\n",
        "import matplotlib.pyplot as plt\n",
        "from __future__ import print_function\n",
        "import keras\n",
        "from keras.datasets import cifar10\n",
        "from keras.models import Sequential\n",
        "from keras.layers import Dense, Dropout, Activation, Flatten\n",
        "from keras.layers import Conv2D, MaxPooling2D\n",
        "from keras.layers.normalization import BatchNormalization as BN\n",
        "from keras.layers import GaussianNoise as GN\n",
        "from keras.optimizers import SGD\n",
        "\n",
        "from keras.callbacks import LearningRateScheduler as LRS\n",
        "from keras.preprocessing.image import ImageDataGenerator"
      ],
      "execution_count": 21,
      "outputs": []
    },
    {
      "cell_type": "markdown",
      "metadata": {
        "id": "mY5PAxIcN78O"
      },
      "source": [
        "Define batch size, number of epochs and number of classes"
      ]
    },
    {
      "cell_type": "code",
      "metadata": {
        "id": "gb5gDxZRN8f1"
      },
      "source": [
        "batch_size = 128\n",
        "epochs = 50\n",
        "num_classes=2"
      ],
      "execution_count": 35,
      "outputs": []
    },
    {
      "cell_type": "markdown",
      "metadata": {
        "id": "vbxzdKZIxiaO"
      },
      "source": [
        "Load and prepare data"
      ]
    },
    {
      "cell_type": "code",
      "metadata": {
        "id": "8X70BXsIxj_a",
        "colab": {
          "base_uri": "https://localhost:8080/",
          "height": 472
        },
        "outputId": "f4073582-7e6b-4fe9-a20a-12215d6764cd"
      },
      "source": [
        "# Load \n",
        "x_train = np.load('x_train.npy')\n",
        "x_test = np.load('x_test.npy')\n",
        "\n",
        "y_train = np.load('y_train.npy')\n",
        "y_test = np.load('y_test.npy')\n",
        "\n",
        "# Stats\n",
        "print(x_train.shape)\n",
        "print(y_train.shape)\n",
        "print(sum(y_train == 1))\n",
        "print(sum(y_train == 0))\n",
        "print(\"{:.4f}\".format(sum(y_train == 1)/y_train.shape[0]))\n",
        "print(x_test.shape)\n",
        "print(y_test.shape)\n",
        "print(sum(y_test == 1))\n",
        "print(sum(y_test == 0))\n",
        "print(\"{:.4f}\".format(sum(y_test == 1)/y_test.shape[0]))\n",
        "\n",
        "\n",
        "## View some images\n",
        "plt.imshow(x_train[0,:,:,: ] )\n",
        "plt.show()\n",
        "\n",
        "\n",
        "## Transforms\n",
        "x_train = x_train.astype('float32')\n",
        "x_test = x_test.astype('float32')\n",
        "\n",
        "y_train = y_train.astype('float32')\n",
        "y_test = y_test.astype('float32')\n",
        "\n",
        "\n",
        "x_train /= 255\n",
        "x_test /= 255\n",
        "\n",
        "print(x_train.shape)\n",
        "print(x_test.shape)\n",
        "\n",
        "\n",
        "num_classes = 2\n",
        "\n",
        "y_train = keras.utils.np_utils.to_categorical(y_train, num_classes)\n",
        "y_test = keras.utils.np_utils.to_categorical(y_test, num_classes)\n"
      ],
      "execution_count": 22,
      "outputs": [
        {
          "output_type": "stream",
          "text": [
            "(10585, 100, 100, 3)\n",
            "(10585,)\n",
            "2381\n",
            "8204\n",
            "0.2249\n",
            "(2648, 100, 100, 3)\n",
            "(2648,)\n",
            "596\n",
            "2052\n",
            "0.2251\n"
          ],
          "name": "stdout"
        },
        {
          "output_type": "display_data",
          "data": {
            "image/png": "[encoded data removed]",
            "text/plain": [
              "<Figure size 432x288 with 1 Axes>"
            ]
          },
          "metadata": {
            "tags": [],
            "needs_background": "light"
          }
        },
        {
          "output_type": "stream",
          "text": [
            "(10585, 100, 100, 3)\n",
            "(2648, 100, 100, 3)\n"
          ],
          "name": "stdout"
        }
      ]
    },
    {
      "cell_type": "markdown",
      "metadata": {
        "id": "wLTRtJVgx4MK"
      },
      "source": [
        "Create model, data augmentation etc... "
      ]
    },
    {
      "cell_type": "markdown",
      "metadata": {
        "id": "uPeqSsArLpRP"
      },
      "source": [
        "Data Augmentation with ImageGenerator"
      ]
    },
    {
      "cell_type": "code",
      "metadata": {
        "id": "BrBGTARaKveM"
      },
      "source": [
        "datagen = ImageDataGenerator(\n",
        "    width_shift_range=0.2,\n",
        "    height_shift_range=0.2,\n",
        "    horizontal_flip=True,\n",
        "    zoom_range=0.2,\n",
        "    rotation_range=45,\n",
        "    vertical_flip=True)"
      ],
      "execution_count": 23,
      "outputs": []
    },
    {
      "cell_type": "markdown",
      "metadata": {
        "id": "Ewb1aovTL5y-"
      },
      "source": [
        "Define a convolutional block. Batch norm + Gaussian Norm + Max Pool"
      ]
    },
    {
      "cell_type": "code",
      "metadata": {
        "id": "3oNX3WxfL47J"
      },
      "source": [
        "def CBGN(model,filters,ishape=0):\n",
        "  if (ishape!=0):\n",
        "    model.add(Conv2D(filters, (3, 3), padding='same',\n",
        "                 input_shape=ishape))\n",
        "  else:\n",
        "    model.add(Conv2D(filters, (3, 3), padding='same'))\n",
        "  \n",
        "  model.add(BN())\n",
        "  model.add(GN(0.25))\n",
        "  model.add(Activation('elu'))\n",
        "  model.add(MaxPooling2D(pool_size=(2, 2)))\n",
        "  \n",
        "  return model"
      ],
      "execution_count": 24,
      "outputs": []
    },
    {
      "cell_type": "markdown",
      "metadata": {
        "id": "-37CTPvlMMT9"
      },
      "source": [
        "Define the NN topology"
      ]
    },
    {
      "cell_type": "code",
      "metadata": {
        "colab": {
          "base_uri": "https://localhost:8080/"
        },
        "id": "8QIBxWxNMPU2",
        "outputId": "493b21e4-a9c3-43ee-829b-9adb821a30cf"
      },
      "source": [
        "## DEF NN TOPOLOGY  \n",
        "model = Sequential()\n",
        "\n",
        "model=CBGN(model,16,x_train.shape[1:])\n",
        "model=CBGN(model,32)\n",
        "model=CBGN(model,64)\n",
        "\n",
        "model.add(Conv2D(64, (3, 3), padding='same'))\n",
        "model.add(BN())\n",
        "model.add(GN(0.1))\n",
        "model.add(Activation('relu'))\n",
        "model.add(Dropout(0.5))\n",
        "model.add(MaxPooling2D((2,2), padding='same'))\n",
        "\n",
        "model.add(Flatten())\n",
        "model.add(Dense(16))\n",
        "model.add(BN())\n",
        "model.add(GN(0.1))\n",
        "model.add(Dropout(0.5))\n",
        "model.add(Activation('relu'))\n",
        "\n",
        "model.add(Dense(num_classes))\n",
        "model.add(Activation('softmax'))\n",
        "\n",
        "\n",
        "model.summary()"
      ],
      "execution_count": 62,
      "outputs": [
        {
          "output_type": "stream",
          "text": [
            "Model: \"sequential_23\"\n",
            "_________________________________________________________________\n",
            "Layer (type)                 Output Shape              Param #   \n",
            "=================================================================\n",
            "conv2d_105 (Conv2D)          (None, 100, 100, 16)      448       \n",
            "_________________________________________________________________\n",
            "batch_normalization_131 (Bat (None, 100, 100, 16)      64        \n",
            "_________________________________________________________________\n",
            "gaussian_noise_131 (Gaussian (None, 100, 100, 16)      0         \n",
            "_________________________________________________________________\n",
            "activation_154 (Activation)  (None, 100, 100, 16)      0         \n",
            "_________________________________________________________________\n",
            "max_pooling2d_105 (MaxPoolin (None, 50, 50, 16)        0         \n",
            "_________________________________________________________________\n",
            "conv2d_106 (Conv2D)          (None, 50, 50, 32)        4640      \n",
            "_________________________________________________________________\n",
            "batch_normalization_132 (Bat (None, 50, 50, 32)        128       \n",
            "_________________________________________________________________\n",
            "gaussian_noise_132 (Gaussian (None, 50, 50, 32)        0         \n",
            "_________________________________________________________________\n",
            "activation_155 (Activation)  (None, 50, 50, 32)        0         \n",
            "_________________________________________________________________\n",
            "max_pooling2d_106 (MaxPoolin (None, 25, 25, 32)        0         \n",
            "_________________________________________________________________\n",
            "conv2d_107 (Conv2D)          (None, 25, 25, 64)        18496     \n",
            "_________________________________________________________________\n",
            "batch_normalization_133 (Bat (None, 25, 25, 64)        256       \n",
            "_________________________________________________________________\n",
            "gaussian_noise_133 (Gaussian (None, 25, 25, 64)        0         \n",
            "_________________________________________________________________\n",
            "activation_156 (Activation)  (None, 25, 25, 64)        0         \n",
            "_________________________________________________________________\n",
            "max_pooling2d_107 (MaxPoolin (None, 12, 12, 64)        0         \n",
            "_________________________________________________________________\n",
            "conv2d_108 (Conv2D)          (None, 12, 12, 64)        36928     \n",
            "_________________________________________________________________\n",
            "batch_normalization_134 (Bat (None, 12, 12, 64)        256       \n",
            "_________________________________________________________________\n",
            "gaussian_noise_134 (Gaussian (None, 12, 12, 64)        0         \n",
            "_________________________________________________________________\n",
            "activation_157 (Activation)  (None, 12, 12, 64)        0         \n",
            "_________________________________________________________________\n",
            "dropout_21 (Dropout)         (None, 12, 12, 64)        0         \n",
            "_________________________________________________________________\n",
            "max_pooling2d_108 (MaxPoolin (None, 6, 6, 64)          0         \n",
            "_________________________________________________________________\n",
            "flatten_23 (Flatten)         (None, 2304)              0         \n",
            "_________________________________________________________________\n",
            "dense_49 (Dense)             (None, 16)                36880     \n",
            "_________________________________________________________________\n",
            "batch_normalization_135 (Bat (None, 16)                64        \n",
            "_________________________________________________________________\n",
            "gaussian_noise_135 (Gaussian (None, 16)                0         \n",
            "_________________________________________________________________\n",
            "dropout_22 (Dropout)         (None, 16)                0         \n",
            "_________________________________________________________________\n",
            "activation_158 (Activation)  (None, 16)                0         \n",
            "_________________________________________________________________\n",
            "dense_50 (Dense)             (None, 2)                 34        \n",
            "_________________________________________________________________\n",
            "activation_159 (Activation)  (None, 2)                 0         \n",
            "=================================================================\n",
            "Total params: 98,194\n",
            "Trainable params: 97,810\n",
            "Non-trainable params: 384\n",
            "_________________________________________________________________\n"
          ],
          "name": "stdout"
        }
      ]
    },
    {
      "cell_type": "markdown",
      "metadata": {
        "id": "mFzCPpIYNNRj"
      },
      "source": [
        "Define an optimizer"
      ]
    },
    {
      "cell_type": "code",
      "metadata": {
        "id": "vfcdMse0NPWd"
      },
      "source": [
        "sgd=SGD(lr=0.1, decay=0.0, momentum=0.0)\n",
        "\n",
        "def scheduler(epoch):\n",
        "  if epoch < epochs / 3:\n",
        "    return 0.1\n",
        "  elif epoch < epochs / 3 * 2:\n",
        "    return 0.05\n",
        "  else:\n",
        "    return 0.02\n",
        "set_lr = LRS(scheduler)"
      ],
      "execution_count": 63,
      "outputs": []
    },
    {
      "cell_type": "markdown",
      "metadata": {
        "id": "CaiT0OI5NSrq"
      },
      "source": [
        "Compile the model, define loss and link the optimizer"
      ]
    },
    {
      "cell_type": "code",
      "metadata": {
        "id": "IsZrg8LyNYCb"
      },
      "source": [
        "model.compile(loss='categorical_crossentropy',\n",
        "              optimizer=sgd,\n",
        "              metrics=['accuracy'])"
      ],
      "execution_count": 64,
      "outputs": []
    },
    {
      "cell_type": "markdown",
      "metadata": {
        "id": "Vvzb5j2SNewj"
      },
      "source": [
        "Model training and evaluation"
      ]
    },
    {
      "cell_type": "code",
      "metadata": {
        "colab": {
          "base_uri": "https://localhost:8080/"
        },
        "id": "_BDqdX8pNhJ9",
        "outputId": "86785d3d-d739-4fd0-c540-696266a44580"
      },
      "source": [
        "history=model.fit_generator(datagen.flow(x_train, y_train,batch_size=batch_size),\n",
        "                            steps_per_epoch=len(x_train) / batch_size, \n",
        "                            epochs=epochs,\n",
        "                            validation_data=(x_test, y_test),\n",
        "                            callbacks=[set_lr],\n",
        "                            verbose=1)\n",
        "\n",
        "\n",
        "score = model.evaluate(x_test, y_test, verbose=0)\n",
        "\n",
        "print('Test loss:', score[0])\n",
        "print('Test accuracy:', score[1])"
      ],
      "execution_count": null,
      "outputs": [
        {
          "output_type": "stream",
          "text": [
            "/usr/local/lib/python3.7/dist-packages/tensorflow/python/keras/engine/training.py:1844: UserWarning: `Model.fit_generator` is deprecated and will be removed in a future version. Please use `Model.fit`, which supports generators.\n",
            "  warnings.warn('`Model.fit_generator` is deprecated and '\n"
          ],
          "name": "stderr"
        },
        {
          "output_type": "stream",
          "text": [
            "Epoch 1/25\n",
            "21/82 [======>.......................] - ETA: 17s - loss: 0.7791 - accuracy: 0.6149"
          ],
          "name": "stdout"
        }
      ]
    },
    {
      "cell_type": "code",
      "metadata": {
        "id": "kkpCBS0ZNktc"
      },
      "source": [
        "print(history.history.keys())"
      ],
      "execution_count": null,
      "outputs": []
    },
    {
      "cell_type": "code",
      "metadata": {
        "id": "fjvAE9R9NoHp"
      },
      "source": [
        "import matplotlib.pyplot as plt"
      ],
      "execution_count": 29,
      "outputs": []
    },
    {
      "cell_type": "code",
      "metadata": {
        "colab": {
          "base_uri": "https://localhost:8080/",
          "height": 295
        },
        "id": "UCzLWt5GNpuq",
        "outputId": "327e4253-cc84-46ad-ae27-0a2b01efb230"
      },
      "source": [
        "plt.plot(history.history['accuracy'])\n",
        "plt.plot(history.history['val_accuracy'])\n",
        "plt.title('model accuracy')\n",
        "plt.ylabel('accuracy')\n",
        "plt.xlabel('epoch')\n",
        "plt.legend(['train', 'test'], loc='upper left')\n",
        "plt.show()"
      ],
      "execution_count": 53,
      "outputs": [
        {
          "output_type": "display_data",
          "data": {
            "image/png": "[encoded data removed]",
            "text/plain": [
              "<Figure size 432x288 with 1 Axes>"
            ]
          },
          "metadata": {
            "tags": [],
            "needs_background": "light"
          }
        }
      ]
    }
  ]
}