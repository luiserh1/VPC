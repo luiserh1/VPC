{
  "nbformat": 4,
  "nbformat_minor": 0,
  "metadata": {
    "colab": {
      "name": "b2.ipynb",
      "provenance": []
    },
    "kernelspec": {
      "name": "python3",
      "display_name": "Python 3"
    },
    "accelerator": "GPU"
  },
  "cells": [
    {
      "cell_type": "markdown",
      "metadata": {
        "id": "6ZVpkYQixSMP"
      },
      "source": [
        "Install keras"
      ]
    },
    {
      "cell_type": "code",
      "metadata": {
        "id": "F_z65L25xNTn",
        "colab": {
          "base_uri": "https://localhost:8080/"
        },
        "outputId": "d6c5df4c-dd37-48c1-eab3-3ced3eea3d41"
      },
      "source": [
        "!pip3 install keras"
      ],
      "execution_count": 1,
      "outputs": [
        {
          "output_type": "stream",
          "text": [
            "Requirement already satisfied: keras in /usr/local/lib/python3.7/dist-packages (2.4.3)\n",
            "Requirement already satisfied: pyyaml in /usr/local/lib/python3.7/dist-packages (from keras) (3.13)\n",
            "Requirement already satisfied: numpy>=1.9.1 in /usr/local/lib/python3.7/dist-packages (from keras) (1.19.5)\n",
            "Requirement already satisfied: scipy>=0.14 in /usr/local/lib/python3.7/dist-packages (from keras) (1.4.1)\n",
            "Requirement already satisfied: h5py in /usr/local/lib/python3.7/dist-packages (from keras) (3.1.0)\n",
            "Requirement already satisfied: cached-property; python_version < \"3.8\" in /usr/local/lib/python3.7/dist-packages (from h5py->keras) (1.5.2)\n"
          ],
          "name": "stdout"
        }
      ]
    },
    {
      "cell_type": "markdown",
      "metadata": {
        "id": "r4I_uhyrxVsi"
      },
      "source": [
        "Download data and uncompress"
      ]
    },
    {
      "cell_type": "code",
      "metadata": {
        "id": "FMT6N3G8xRxQ",
        "colab": {
          "base_uri": "https://localhost:8080/"
        },
        "outputId": "11c35911-1841-483b-a8b8-d42ea9e4a595"
      },
      "source": [
        "!wget https://www.dropbox.com/s/zcwlujrtz3izcw8/gender.tgz\n",
        "!tar xvzf gender.tgz"
      ],
      "execution_count": 2,
      "outputs": [
        {
          "output_type": "stream",
          "text": [
            "--2021-06-02 13:56:45--  https://www.dropbox.com/s/zcwlujrtz3izcw8/gender.tgz\n",
            "Resolving www.dropbox.com (www.dropbox.com)... 162.125.2.18, 2620:100:6017:18::a27d:212\n",
            "Connecting to www.dropbox.com (www.dropbox.com)|162.125.2.18|:443... connected.\n",
            "HTTP request sent, awaiting response... 301 Moved Permanently\n",
            "Location: /s/raw/zcwlujrtz3izcw8/gender.tgz [following]\n",
            "--2021-06-02 13:56:45--  https://www.dropbox.com/s/raw/zcwlujrtz3izcw8/gender.tgz\n",
            "Reusing existing connection to www.dropbox.com:443.\n",
            "HTTP request sent, awaiting response... 302 Found\n",
            "Location: https://uca8379c000dc63c31103df6494c.dl.dropboxusercontent.com/cd/0/inline/BPrwDRDSJhBrAQpBQ_qqrzIYv-Rk3H3Ys748MQdc5PXsk5SRS-ji4x4KX8neadAr0KzZ3Mi8E1isQVsgF-M3qIyOirEHWRHFl0iuinWUL1A6Nvuds9rSLA2Is5cnOeymMjOEF4THXjMBlD7vtNH-R4Qv/file# [following]\n",
            "--2021-06-02 13:56:45--  https://uca8379c000dc63c31103df6494c.dl.dropboxusercontent.com/cd/0/inline/BPrwDRDSJhBrAQpBQ_qqrzIYv-Rk3H3Ys748MQdc5PXsk5SRS-ji4x4KX8neadAr0KzZ3Mi8E1isQVsgF-M3qIyOirEHWRHFl0iuinWUL1A6Nvuds9rSLA2Is5cnOeymMjOEF4THXjMBlD7vtNH-R4Qv/file\n",
            "Resolving uca8379c000dc63c31103df6494c.dl.dropboxusercontent.com (uca8379c000dc63c31103df6494c.dl.dropboxusercontent.com)... 162.125.2.15, 2620:100:6017:15::a27d:20f\n",
            "Connecting to uca8379c000dc63c31103df6494c.dl.dropboxusercontent.com (uca8379c000dc63c31103df6494c.dl.dropboxusercontent.com)|162.125.2.15|:443... connected.\n",
            "HTTP request sent, awaiting response... 302 Found\n",
            "Location: /cd/0/inline2/BPrtAuGwYxwnsSa0DfM_VZIYYZ5f-j1qWARv8ZUXl-0d1iwg6uynMwt_TeSID4Jl5unrIV9kuCxCKZD20NaptaNvPRxjr_p652vM248ad4weo3NDfESX2FHN_rwcL-NQibII6h5JTc7Qhhi8ib5VsB4bFa3OVOyGzgPSnq_wQdIn6q5fXy7Mx3I0zRqQiA2Fw4zroZtWY_EDPDT5LwmvjT0EXN6v1FqkM8qoQWFZF54AfJf3oXSZFNJ6ayYdFeO5tBaJ5SuPLSLSVEnlqukxJ5dbfpQJdrX0KuAmz7bLSoVKfIegXRfdhU_47ltSLs_kzDUmDo0_mug0NMVaJgF33DPUlNcKD2DCq42VMVrslfjtAd97UfarHg8nCAx5HhttXx8/file [following]\n",
            "--2021-06-02 13:56:45--  https://uca8379c000dc63c31103df6494c.dl.dropboxusercontent.com/cd/0/inline2/BPrtAuGwYxwnsSa0DfM_VZIYYZ5f-j1qWARv8ZUXl-0d1iwg6uynMwt_TeSID4Jl5unrIV9kuCxCKZD20NaptaNvPRxjr_p652vM248ad4weo3NDfESX2FHN_rwcL-NQibII6h5JTc7Qhhi8ib5VsB4bFa3OVOyGzgPSnq_wQdIn6q5fXy7Mx3I0zRqQiA2Fw4zroZtWY_EDPDT5LwmvjT0EXN6v1FqkM8qoQWFZF54AfJf3oXSZFNJ6ayYdFeO5tBaJ5SuPLSLSVEnlqukxJ5dbfpQJdrX0KuAmz7bLSoVKfIegXRfdhU_47ltSLs_kzDUmDo0_mug0NMVaJgF33DPUlNcKD2DCq42VMVrslfjtAd97UfarHg8nCAx5HhttXx8/file\n",
            "Reusing existing connection to uca8379c000dc63c31103df6494c.dl.dropboxusercontent.com:443.\n",
            "HTTP request sent, awaiting response... 200 OK\n",
            "Length: 348494455 (332M) [application/x-gtar]\n",
            "Saving to: ‘gender.tgz’\n",
            "\n",
            "gender.tgz          100%[===================>] 332.35M  99.6MB/s    in 3.6s    \n",
            "\n",
            "2021-06-02 13:56:49 (92.7 MB/s) - ‘gender.tgz’ saved [348494455/348494455]\n",
            "\n",
            "./._x_test.npy\n",
            "x_test.npy\n",
            "./._x_train.npy\n",
            "x_train.npy\n",
            "./._y_test.npy\n",
            "y_test.npy\n",
            "./._y_train.npy\n",
            "y_train.npy\n"
          ],
          "name": "stdout"
        }
      ]
    },
    {
      "cell_type": "markdown",
      "metadata": {
        "id": "UfpSAifWxdFl"
      },
      "source": [
        "Import packages "
      ]
    },
    {
      "cell_type": "code",
      "metadata": {
        "id": "3qsOFZCExfFh"
      },
      "source": [
        "import numpy as np\n",
        "import matplotlib.pyplot as plt\n",
        "from __future__ import print_function\n",
        "import keras\n",
        "from keras.datasets import cifar10\n",
        "from keras.models import Sequential\n",
        "from keras.layers import Dense, Dropout, Activation, Flatten\n",
        "from keras.layers import Conv2D, MaxPooling2D\n",
        "from keras.layers.normalization import BatchNormalization as BN\n",
        "from keras.layers import GaussianNoise as GN\n",
        "from keras.optimizers import SGD\n",
        "\n",
        "from keras.callbacks import LearningRateScheduler as LRS\n",
        "from keras.preprocessing.image import ImageDataGenerator"
      ],
      "execution_count": 3,
      "outputs": []
    },
    {
      "cell_type": "markdown",
      "metadata": {
        "id": "mY5PAxIcN78O"
      },
      "source": [
        "Define batch size, number of epochs and number of classes"
      ]
    },
    {
      "cell_type": "code",
      "metadata": {
        "id": "gb5gDxZRN8f1"
      },
      "source": [
        "batch_size = 128\n",
        "epochs = 50\n",
        "num_classes=2"
      ],
      "execution_count": 23,
      "outputs": []
    },
    {
      "cell_type": "markdown",
      "metadata": {
        "id": "vbxzdKZIxiaO"
      },
      "source": [
        "Load and prepare data"
      ]
    },
    {
      "cell_type": "code",
      "metadata": {
        "id": "8X70BXsIxj_a",
        "colab": {
          "base_uri": "https://localhost:8080/",
          "height": 472
        },
        "outputId": "974756ec-16bd-48dd-a546-330ad1f7d407"
      },
      "source": [
        "# Load \n",
        "x_train = np.load('x_train.npy')\n",
        "x_test = np.load('x_test.npy')\n",
        "\n",
        "y_train = np.load('y_train.npy')\n",
        "y_test = np.load('y_test.npy')\n",
        "\n",
        "# Stats\n",
        "print(x_train.shape)\n",
        "print(y_train.shape)\n",
        "print(sum(y_train == 1))\n",
        "print(sum(y_train == 0))\n",
        "print(\"{:.4f}\".format(sum(y_train == 1)/y_train.shape[0]))\n",
        "print(x_test.shape)\n",
        "print(y_test.shape)\n",
        "print(sum(y_test == 1))\n",
        "print(sum(y_test == 0))\n",
        "print(\"{:.4f}\".format(sum(y_test == 1)/y_test.shape[0]))\n",
        "\n",
        "\n",
        "## View some images\n",
        "plt.imshow(x_train[0,:,:,: ] )\n",
        "plt.show()\n",
        "\n",
        "\n",
        "## Transforms\n",
        "x_train = x_train.astype('float32')\n",
        "x_test = x_test.astype('float32')\n",
        "\n",
        "y_train = y_train.astype('float32')\n",
        "y_test = y_test.astype('float32')\n",
        "\n",
        "\n",
        "x_train /= 255\n",
        "x_test /= 255\n",
        "\n",
        "print(x_train.shape)\n",
        "print(x_test.shape)\n",
        "\n",
        "\n",
        "num_classes = 2\n",
        "\n",
        "y_train = keras.utils.np_utils.to_categorical(y_train, num_classes)\n",
        "y_test = keras.utils.np_utils.to_categorical(y_test, num_classes)\n"
      ],
      "execution_count": 5,
      "outputs": [
        {
          "output_type": "stream",
          "text": [
            "(10585, 100, 100, 3)\n",
            "(10585,)\n",
            "2381\n",
            "8204\n",
            "0.2249\n",
            "(2648, 100, 100, 3)\n",
            "(2648,)\n",
            "596\n",
            "2052\n",
            "0.2251\n"
          ],
          "name": "stdout"
        },
        {
          "output_type": "display_data",
          "data": {
            "image/png": "[encoded data removed]",
            "text/plain": [
              "<Figure size 432x288 with 1 Axes>"
            ]
          },
          "metadata": {
            "tags": [],
            "needs_background": "light"
          }
        },
        {
          "output_type": "stream",
          "text": [
            "(10585, 100, 100, 3)\n",
            "(2648, 100, 100, 3)\n"
          ],
          "name": "stdout"
        }
      ]
    },
    {
      "cell_type": "markdown",
      "metadata": {
        "id": "wLTRtJVgx4MK"
      },
      "source": [
        "Create model, data augmentation etc... "
      ]
    },
    {
      "cell_type": "markdown",
      "metadata": {
        "id": "uPeqSsArLpRP"
      },
      "source": [
        "Data Augmentation with ImageGenerator"
      ]
    },
    {
      "cell_type": "code",
      "metadata": {
        "id": "BrBGTARaKveM"
      },
      "source": [
        "datagen = ImageDataGenerator(\n",
        "    width_shift_range=0.2,\n",
        "    height_shift_range=0.2,\n",
        "    horizontal_flip=True,\n",
        "    zoom_range=0.2,\n",
        "    rotation_range=45,\n",
        "    vertical_flip=True)"
      ],
      "execution_count": 6,
      "outputs": []
    },
    {
      "cell_type": "markdown",
      "metadata": {
        "id": "Ewb1aovTL5y-"
      },
      "source": [
        "Define a convolutional block. Batch norm + Gaussian Norm + Max Pool"
      ]
    },
    {
      "cell_type": "code",
      "metadata": {
        "id": "3oNX3WxfL47J"
      },
      "source": [
        "def CBGN(model,filters,ishape=0):\n",
        "  if (ishape!=0):\n",
        "    model.add(Conv2D(filters, (3, 3), padding='same',\n",
        "                 input_shape=ishape))\n",
        "  else:\n",
        "    model.add(Conv2D(filters, (3, 3), padding='same'))\n",
        "  \n",
        "  model.add(BN())\n",
        "  model.add(GN(0.25))\n",
        "  model.add(Activation('elu'))\n",
        "  model.add(MaxPooling2D(pool_size=(2, 2)))\n",
        "  \n",
        "  return model"
      ],
      "execution_count": 7,
      "outputs": []
    },
    {
      "cell_type": "markdown",
      "metadata": {
        "id": "-37CTPvlMMT9"
      },
      "source": [
        "Define the NN topology"
      ]
    },
    {
      "cell_type": "code",
      "metadata": {
        "colab": {
          "base_uri": "https://localhost:8080/"
        },
        "id": "8QIBxWxNMPU2",
        "outputId": "b830e33f-3d50-4c98-f41b-4bbc11d0e618"
      },
      "source": [
        "## DEF NN TOPOLOGY  \n",
        "model = Sequential()\n",
        "\n",
        "model=CBGN(model,16,x_train.shape[1:])\n",
        "model=CBGN(model,32)\n",
        "model=CBGN(model,64)\n",
        "\n",
        "model.add(Conv2D(64, (3, 3), padding='same'))\n",
        "model.add(BN())\n",
        "model.add(GN(0.1))\n",
        "model.add(Activation('elu'))\n",
        "model.add(MaxPooling2D((2,2), padding='same'))\n",
        "\n",
        "model.add(Flatten())\n",
        "model.add(Dense(16))\n",
        "model.add(BN())\n",
        "model.add(GN(0.1))\n",
        "model.add(Dropout(0.5))\n",
        "model.add(Activation('relu'))\n",
        "\n",
        "model.add(Dense(num_classes))\n",
        "model.add(Activation('softmax'))\n",
        "\n",
        "\n",
        "model.summary()"
      ],
      "execution_count": 19,
      "outputs": [
        {
          "output_type": "stream",
          "text": [
            "Model: \"sequential_5\"\n",
            "_________________________________________________________________\n",
            "Layer (type)                 Output Shape              Param #   \n",
            "=================================================================\n",
            "conv2d_20 (Conv2D)           (None, 100, 100, 16)      448       \n",
            "_________________________________________________________________\n",
            "batch_normalization_25 (Batc (None, 100, 100, 16)      64        \n",
            "_________________________________________________________________\n",
            "gaussian_noise_25 (GaussianN (None, 100, 100, 16)      0         \n",
            "_________________________________________________________________\n",
            "activation_30 (Activation)   (None, 100, 100, 16)      0         \n",
            "_________________________________________________________________\n",
            "max_pooling2d_20 (MaxPooling (None, 50, 50, 16)        0         \n",
            "_________________________________________________________________\n",
            "conv2d_21 (Conv2D)           (None, 50, 50, 32)        4640      \n",
            "_________________________________________________________________\n",
            "batch_normalization_26 (Batc (None, 50, 50, 32)        128       \n",
            "_________________________________________________________________\n",
            "gaussian_noise_26 (GaussianN (None, 50, 50, 32)        0         \n",
            "_________________________________________________________________\n",
            "activation_31 (Activation)   (None, 50, 50, 32)        0         \n",
            "_________________________________________________________________\n",
            "max_pooling2d_21 (MaxPooling (None, 25, 25, 32)        0         \n",
            "_________________________________________________________________\n",
            "conv2d_22 (Conv2D)           (None, 25, 25, 64)        18496     \n",
            "_________________________________________________________________\n",
            "batch_normalization_27 (Batc (None, 25, 25, 64)        256       \n",
            "_________________________________________________________________\n",
            "gaussian_noise_27 (GaussianN (None, 25, 25, 64)        0         \n",
            "_________________________________________________________________\n",
            "activation_32 (Activation)   (None, 25, 25, 64)        0         \n",
            "_________________________________________________________________\n",
            "max_pooling2d_22 (MaxPooling (None, 12, 12, 64)        0         \n",
            "_________________________________________________________________\n",
            "conv2d_23 (Conv2D)           (None, 12, 12, 64)        36928     \n",
            "_________________________________________________________________\n",
            "batch_normalization_28 (Batc (None, 12, 12, 64)        256       \n",
            "_________________________________________________________________\n",
            "gaussian_noise_28 (GaussianN (None, 12, 12, 64)        0         \n",
            "_________________________________________________________________\n",
            "activation_33 (Activation)   (None, 12, 12, 64)        0         \n",
            "_________________________________________________________________\n",
            "max_pooling2d_23 (MaxPooling (None, 6, 6, 64)          0         \n",
            "_________________________________________________________________\n",
            "flatten_5 (Flatten)          (None, 2304)              0         \n",
            "_________________________________________________________________\n",
            "dense_10 (Dense)             (None, 16)                36880     \n",
            "_________________________________________________________________\n",
            "batch_normalization_29 (Batc (None, 16)                64        \n",
            "_________________________________________________________________\n",
            "gaussian_noise_29 (GaussianN (None, 16)                0         \n",
            "_________________________________________________________________\n",
            "dropout_6 (Dropout)          (None, 16)                0         \n",
            "_________________________________________________________________\n",
            "activation_34 (Activation)   (None, 16)                0         \n",
            "_________________________________________________________________\n",
            "dense_11 (Dense)             (None, 2)                 34        \n",
            "_________________________________________________________________\n",
            "activation_35 (Activation)   (None, 2)                 0         \n",
            "=================================================================\n",
            "Total params: 98,194\n",
            "Trainable params: 97,810\n",
            "Non-trainable params: 384\n",
            "_________________________________________________________________\n"
          ],
          "name": "stdout"
        }
      ]
    },
    {
      "cell_type": "markdown",
      "metadata": {
        "id": "mFzCPpIYNNRj"
      },
      "source": [
        "Define an optimizer"
      ]
    },
    {
      "cell_type": "code",
      "metadata": {
        "id": "vfcdMse0NPWd",
        "colab": {
          "base_uri": "https://localhost:8080/"
        },
        "outputId": "7398eec9-38c3-4b65-9c54-476c38f055cd"
      },
      "source": [
        "sgd=SGD(lr=0.1, decay=0.0, momentum=0.0)\n",
        "\n",
        "def scheduler(epoch):\n",
        "  if epoch < epochs / 3:\n",
        "    return 0.1\n",
        "  elif epoch < epochs / 3 * 2:\n",
        "    return 0.05\n",
        "  else:\n",
        "    return 0.02\n",
        "set_lr = LRS(scheduler)"
      ],
      "execution_count": 20,
      "outputs": [
        {
          "output_type": "stream",
          "text": [
            "/usr/local/lib/python3.7/dist-packages/tensorflow/python/keras/optimizer_v2/optimizer_v2.py:375: UserWarning: The `lr` argument is deprecated, use `learning_rate` instead.\n",
            "  \"The `lr` argument is deprecated, use `learning_rate` instead.\")\n"
          ],
          "name": "stderr"
        }
      ]
    },
    {
      "cell_type": "markdown",
      "metadata": {
        "id": "CaiT0OI5NSrq"
      },
      "source": [
        "Compile the model, define loss and link the optimizer"
      ]
    },
    {
      "cell_type": "code",
      "metadata": {
        "id": "IsZrg8LyNYCb"
      },
      "source": [
        "model.compile(loss='categorical_crossentropy',\n",
        "              optimizer=sgd,\n",
        "              metrics=['accuracy'])"
      ],
      "execution_count": 21,
      "outputs": []
    },
    {
      "cell_type": "markdown",
      "metadata": {
        "id": "Vvzb5j2SNewj"
      },
      "source": [
        "Model training and evaluation"
      ]
    },
    {
      "cell_type": "code",
      "metadata": {
        "colab": {
          "base_uri": "https://localhost:8080/"
        },
        "id": "_BDqdX8pNhJ9",
        "outputId": "5b5b84e1-0157-4f3d-b71c-905c8bceef48"
      },
      "source": [
        "history=model.fit_generator(datagen.flow(x_train, y_train,batch_size=batch_size),\n",
        "                            steps_per_epoch=len(x_train) / batch_size, \n",
        "                            epochs=epochs,\n",
        "                            validation_data=(x_test, y_test),\n",
        "                            callbacks=[set_lr],\n",
        "                            verbose=1)\n",
        "\n",
        "\n",
        "score = model.evaluate(x_test, y_test, verbose=0)\n",
        "\n",
        "print('Test loss:', score[0])\n",
        "print('Test accuracy:', score[1])"
      ],
      "execution_count": 24,
      "outputs": [
        {
          "output_type": "stream",
          "text": [
            "/usr/local/lib/python3.7/dist-packages/keras/engine/training.py:1915: UserWarning: `Model.fit_generator` is deprecated and will be removed in a future version. Please use `Model.fit`, which supports generators.\n",
            "  warnings.warn('`Model.fit_generator` is deprecated and '\n"
          ],
          "name": "stderr"
        },
        {
          "output_type": "stream",
          "text": [
            "Epoch 1/50\n",
            "82/82 [==============================] - 22s 271ms/step - loss: 0.4598 - accuracy: 0.7892 - val_loss: 0.4232 - val_accuracy: 0.8146\n",
            "Epoch 2/50\n",
            "82/82 [==============================] - 22s 268ms/step - loss: 0.4572 - accuracy: 0.7870 - val_loss: 0.4579 - val_accuracy: 0.7961\n",
            "Epoch 3/50\n",
            "82/82 [==============================] - 22s 270ms/step - loss: 0.4594 - accuracy: 0.7865 - val_loss: 0.5387 - val_accuracy: 0.7829\n",
            "Epoch 4/50\n",
            "82/82 [==============================] - 22s 268ms/step - loss: 0.4547 - accuracy: 0.7906 - val_loss: 0.5779 - val_accuracy: 0.7832\n",
            "Epoch 5/50\n",
            "82/82 [==============================] - 22s 271ms/step - loss: 0.4528 - accuracy: 0.7874 - val_loss: 0.4228 - val_accuracy: 0.8146\n",
            "Epoch 6/50\n",
            "82/82 [==============================] - 22s 270ms/step - loss: 0.4472 - accuracy: 0.7915 - val_loss: 0.6439 - val_accuracy: 0.7757\n",
            "Epoch 7/50\n",
            "82/82 [==============================] - 23s 272ms/step - loss: 0.4499 - accuracy: 0.7919 - val_loss: 0.4093 - val_accuracy: 0.8100\n",
            "Epoch 8/50\n",
            "82/82 [==============================] - 24s 288ms/step - loss: 0.4460 - accuracy: 0.7939 - val_loss: 0.4967 - val_accuracy: 0.7840\n",
            "Epoch 9/50\n",
            "82/82 [==============================] - 23s 281ms/step - loss: 0.4405 - accuracy: 0.7929 - val_loss: 0.5557 - val_accuracy: 0.7915\n",
            "Epoch 10/50\n",
            "82/82 [==============================] - 22s 270ms/step - loss: 0.4403 - accuracy: 0.7964 - val_loss: 0.5856 - val_accuracy: 0.7881\n",
            "Epoch 11/50\n",
            "82/82 [==============================] - 23s 272ms/step - loss: 0.4391 - accuracy: 0.7988 - val_loss: 0.4890 - val_accuracy: 0.8032\n",
            "Epoch 12/50\n",
            "82/82 [==============================] - 22s 268ms/step - loss: 0.4381 - accuracy: 0.8016 - val_loss: 0.6534 - val_accuracy: 0.7817\n",
            "Epoch 13/50\n",
            "82/82 [==============================] - 23s 274ms/step - loss: 0.4356 - accuracy: 0.8006 - val_loss: 0.7545 - val_accuracy: 0.7768\n",
            "Epoch 14/50\n",
            "82/82 [==============================] - 22s 271ms/step - loss: 0.4350 - accuracy: 0.7963 - val_loss: 0.6693 - val_accuracy: 0.7893\n",
            "Epoch 15/50\n",
            "82/82 [==============================] - 22s 270ms/step - loss: 0.4287 - accuracy: 0.8021 - val_loss: 0.4716 - val_accuracy: 0.8108\n",
            "Epoch 16/50\n",
            "82/82 [==============================] - 22s 269ms/step - loss: 0.4300 - accuracy: 0.8025 - val_loss: 0.4117 - val_accuracy: 0.8119\n",
            "Epoch 17/50\n",
            "82/82 [==============================] - 22s 271ms/step - loss: 0.4226 - accuracy: 0.8060 - val_loss: 0.4950 - val_accuracy: 0.8161\n",
            "Epoch 18/50\n",
            "82/82 [==============================] - 22s 267ms/step - loss: 0.4155 - accuracy: 0.8110 - val_loss: 0.5455 - val_accuracy: 0.7995\n",
            "Epoch 19/50\n",
            "82/82 [==============================] - 22s 269ms/step - loss: 0.4153 - accuracy: 0.8082 - val_loss: 0.4023 - val_accuracy: 0.8297\n",
            "Epoch 20/50\n",
            "82/82 [==============================] - 22s 269ms/step - loss: 0.4140 - accuracy: 0.8111 - val_loss: 0.4526 - val_accuracy: 0.7953\n",
            "Epoch 21/50\n",
            "82/82 [==============================] - 22s 270ms/step - loss: 0.4058 - accuracy: 0.8160 - val_loss: 0.4392 - val_accuracy: 0.8229\n",
            "Epoch 22/50\n",
            "82/82 [==============================] - 22s 269ms/step - loss: 0.4064 - accuracy: 0.8128 - val_loss: 0.3737 - val_accuracy: 0.8316\n",
            "Epoch 23/50\n",
            "82/82 [==============================] - 22s 269ms/step - loss: 0.4015 - accuracy: 0.8183 - val_loss: 0.5093 - val_accuracy: 0.8063\n",
            "Epoch 24/50\n",
            "82/82 [==============================] - 22s 271ms/step - loss: 0.4048 - accuracy: 0.8162 - val_loss: 0.3494 - val_accuracy: 0.8380\n",
            "Epoch 25/50\n",
            "82/82 [==============================] - 22s 271ms/step - loss: 0.4046 - accuracy: 0.8121 - val_loss: 0.3693 - val_accuracy: 0.8319\n",
            "Epoch 26/50\n",
            "82/82 [==============================] - 23s 273ms/step - loss: 0.4043 - accuracy: 0.8159 - val_loss: 0.4556 - val_accuracy: 0.8244\n",
            "Epoch 27/50\n",
            "82/82 [==============================] - 22s 271ms/step - loss: 0.4016 - accuracy: 0.8179 - val_loss: 0.6663 - val_accuracy: 0.8025\n",
            "Epoch 28/50\n",
            "82/82 [==============================] - 23s 273ms/step - loss: 0.4005 - accuracy: 0.8186 - val_loss: 0.5590 - val_accuracy: 0.8184\n",
            "Epoch 29/50\n",
            "82/82 [==============================] - 23s 272ms/step - loss: 0.3920 - accuracy: 0.8212 - val_loss: 0.3825 - val_accuracy: 0.8403\n",
            "Epoch 30/50\n",
            "82/82 [==============================] - 22s 268ms/step - loss: 0.3859 - accuracy: 0.8234 - val_loss: 0.4574 - val_accuracy: 0.8214\n",
            "Epoch 31/50\n",
            "82/82 [==============================] - 23s 275ms/step - loss: 0.3875 - accuracy: 0.8240 - val_loss: 0.3447 - val_accuracy: 0.8425\n",
            "Epoch 32/50\n",
            "82/82 [==============================] - 23s 273ms/step - loss: 0.3862 - accuracy: 0.8245 - val_loss: 0.4053 - val_accuracy: 0.8319\n",
            "Epoch 33/50\n",
            "82/82 [==============================] - 23s 273ms/step - loss: 0.3877 - accuracy: 0.8252 - val_loss: 0.3718 - val_accuracy: 0.8440\n",
            "Epoch 34/50\n",
            "82/82 [==============================] - 23s 274ms/step - loss: 0.3819 - accuracy: 0.8289 - val_loss: 0.3346 - val_accuracy: 0.8452\n",
            "Epoch 35/50\n",
            "82/82 [==============================] - 23s 275ms/step - loss: 0.3775 - accuracy: 0.8298 - val_loss: 0.3351 - val_accuracy: 0.8497\n",
            "Epoch 36/50\n",
            "82/82 [==============================] - 23s 277ms/step - loss: 0.3765 - accuracy: 0.8308 - val_loss: 0.3642 - val_accuracy: 0.8501\n",
            "Epoch 37/50\n",
            "82/82 [==============================] - 23s 274ms/step - loss: 0.3729 - accuracy: 0.8340 - val_loss: 0.3929 - val_accuracy: 0.8410\n",
            "Epoch 38/50\n",
            "82/82 [==============================] - 23s 277ms/step - loss: 0.3812 - accuracy: 0.8249 - val_loss: 0.3112 - val_accuracy: 0.8603\n",
            "Epoch 39/50\n",
            "82/82 [==============================] - 23s 272ms/step - loss: 0.3706 - accuracy: 0.8320 - val_loss: 0.6040 - val_accuracy: 0.8138\n",
            "Epoch 40/50\n",
            "82/82 [==============================] - 22s 271ms/step - loss: 0.3640 - accuracy: 0.8363 - val_loss: 0.3300 - val_accuracy: 0.8573\n",
            "Epoch 41/50\n",
            "82/82 [==============================] - 22s 272ms/step - loss: 0.3673 - accuracy: 0.8358 - val_loss: 0.3672 - val_accuracy: 0.8474\n",
            "Epoch 42/50\n",
            "82/82 [==============================] - 22s 272ms/step - loss: 0.3628 - accuracy: 0.8375 - val_loss: 0.4174 - val_accuracy: 0.8399\n",
            "Epoch 43/50\n",
            "82/82 [==============================] - 22s 270ms/step - loss: 0.3653 - accuracy: 0.8386 - val_loss: 0.3026 - val_accuracy: 0.8652\n",
            "Epoch 44/50\n",
            "82/82 [==============================] - 22s 267ms/step - loss: 0.3654 - accuracy: 0.8359 - val_loss: 0.3231 - val_accuracy: 0.8512\n",
            "Epoch 45/50\n",
            "82/82 [==============================] - 23s 272ms/step - loss: 0.3669 - accuracy: 0.8359 - val_loss: 0.3613 - val_accuracy: 0.8516\n",
            "Epoch 46/50\n",
            "82/82 [==============================] - 22s 269ms/step - loss: 0.3599 - accuracy: 0.8406 - val_loss: 0.2993 - val_accuracy: 0.8690\n",
            "Epoch 47/50\n",
            "82/82 [==============================] - 23s 272ms/step - loss: 0.3614 - accuracy: 0.8385 - val_loss: 0.2990 - val_accuracy: 0.8652\n",
            "Epoch 48/50\n",
            "82/82 [==============================] - 23s 272ms/step - loss: 0.3577 - accuracy: 0.8410 - val_loss: 0.5209 - val_accuracy: 0.8229\n",
            "Epoch 49/50\n",
            "82/82 [==============================] - 23s 272ms/step - loss: 0.3579 - accuracy: 0.8369 - val_loss: 0.4431 - val_accuracy: 0.8353\n",
            "Epoch 50/50\n",
            "82/82 [==============================] - 23s 276ms/step - loss: 0.3590 - accuracy: 0.8426 - val_loss: 0.3133 - val_accuracy: 0.8667\n",
            "Test loss: 0.313286155462265\n",
            "Test accuracy: 0.8666918277740479\n"
          ],
          "name": "stdout"
        }
      ]
    },
    {
      "cell_type": "code",
      "metadata": {
        "id": "kkpCBS0ZNktc",
        "colab": {
          "base_uri": "https://localhost:8080/"
        },
        "outputId": "27b14b00-76e7-482b-c87f-73e82140bed4"
      },
      "source": [
        "print(history.history.keys())"
      ],
      "execution_count": 25,
      "outputs": [
        {
          "output_type": "stream",
          "text": [
            "dict_keys(['loss', 'accuracy', 'val_loss', 'val_accuracy', 'lr'])\n"
          ],
          "name": "stdout"
        }
      ]
    },
    {
      "cell_type": "code",
      "metadata": {
        "id": "fjvAE9R9NoHp"
      },
      "source": [
        "import matplotlib.pyplot as plt"
      ],
      "execution_count": 26,
      "outputs": []
    },
    {
      "cell_type": "code",
      "metadata": {
        "colab": {
          "base_uri": "https://localhost:8080/",
          "height": 295
        },
        "id": "UCzLWt5GNpuq",
        "outputId": "da748811-4ff1-44aa-90a8-6509d899c7f4"
      },
      "source": [
        "plt.plot(history.history['accuracy'])\n",
        "plt.plot(history.history['val_accuracy'])\n",
        "plt.title('model accuracy')\n",
        "plt.ylabel('accuracy')\n",
        "plt.xlabel('epoch')\n",
        "plt.legend(['train', 'test'], loc='upper left')\n",
        "plt.show()"
      ],
      "execution_count": 27,
      "outputs": [
        {
          "output_type": "display_data",
          "data": {
            "image/png": "[encoded data removed]",
            "text/plain": [
              "<Figure size 432x288 with 1 Axes>"
            ]
          },
          "metadata": {
            "tags": [],
            "needs_background": "light"
          }
        }
      ]
    }
  ]
}