{
  "nbformat": 4,
  "nbformat_minor": 0,
  "metadata": {
    "colab": {
      "name": "VGG11.ipynb",
      "provenance": [],
      "collapsed_sections": []
    },
    "kernelspec": {
      "name": "python3",
      "display_name": "Python 3"
    },
    "accelerator": "GPU"
  },
  "cells": [
    {
      "cell_type": "markdown",
      "metadata": {
        "id": "ORvwib-YSR-p"
      },
      "source": [
        "CIFAR10 - VGG11 solution"
      ]
    },
    {
      "cell_type": "markdown",
      "metadata": {
        "id": "0YRXPjE-Sf1a"
      },
      "source": [
        "Install Keras just in case..."
      ]
    },
    {
      "cell_type": "code",
      "metadata": {
        "id": "MhsFJNHpSSKE",
        "colab": {
          "base_uri": "https://localhost:8080/"
        },
        "outputId": "020d11d1-dfa0-4011-baeb-75e9db4df1f8"
      },
      "source": [
        "!pip3 install keras"
      ],
      "execution_count": 1,
      "outputs": [
        {
          "output_type": "stream",
          "text": [
            "Requirement already satisfied: keras in /usr/local/lib/python3.7/dist-packages (2.4.3)\n",
            "Requirement already satisfied: h5py in /usr/local/lib/python3.7/dist-packages (from keras) (3.1.0)\n",
            "Requirement already satisfied: pyyaml in /usr/local/lib/python3.7/dist-packages (from keras) (3.13)\n",
            "Requirement already satisfied: numpy>=1.9.1 in /usr/local/lib/python3.7/dist-packages (from keras) (1.19.5)\n",
            "Requirement already satisfied: scipy>=0.14 in /usr/local/lib/python3.7/dist-packages (from keras) (1.4.1)\n",
            "Requirement already satisfied: cached-property; python_version < \"3.8\" in /usr/local/lib/python3.7/dist-packages (from h5py->keras) (1.5.2)\n"
          ],
          "name": "stdout"
        }
      ]
    },
    {
      "cell_type": "markdown",
      "metadata": {
        "id": "CGX8RGwHSSTr"
      },
      "source": [
        "Imports..."
      ]
    },
    {
      "cell_type": "code",
      "metadata": {
        "id": "D8qeBuPiSSdc"
      },
      "source": [
        "from __future__ import print_function\n",
        "import keras\n",
        "from keras.datasets import cifar10\n",
        "from keras.models import Sequential\n",
        "from keras.layers import Dense, Dropout, Activation, Flatten\n",
        "from keras.layers import Conv2D, MaxPooling2D\n",
        "from keras.layers.normalization import BatchNormalization as BN\n",
        "from keras.layers import GaussianNoise as GN\n",
        "from keras.optimizers import SGD\n",
        "\n",
        "from keras.callbacks import LearningRateScheduler as LRS\n",
        "from keras.preprocessing.image import ImageDataGenerator"
      ],
      "execution_count": 2,
      "outputs": []
    },
    {
      "cell_type": "markdown",
      "metadata": {
        "id": "-M9uBGifSSqd"
      },
      "source": [
        "Define batch size, number of epochs and number of classes\n"
      ]
    },
    {
      "cell_type": "code",
      "metadata": {
        "id": "iaWFWm8mSTBj"
      },
      "source": [
        "batch_size = 100\n",
        "num_classes = 10\n",
        "epochs = 75"
      ],
      "execution_count": 3,
      "outputs": []
    },
    {
      "cell_type": "markdown",
      "metadata": {
        "id": "IKwjPVkoSTLr"
      },
      "source": [
        "Load MNIST and transform"
      ]
    },
    {
      "cell_type": "code",
      "metadata": {
        "id": "fZ9D1F8FSTWW",
        "colab": {
          "base_uri": "https://localhost:8080/"
        },
        "outputId": "029325ff-83b4-4b4d-bdc0-1a8ede7a4bbb"
      },
      "source": [
        "(x_train, y_train), (x_test, y_test) = cifar10.load_data()\n",
        "\n",
        "x_train = x_train.astype('float32')\n",
        "x_test = x_test.astype('float32')\n",
        "\n",
        "x_train /= 255\n",
        "x_test /= 255\n",
        "\n",
        "print(x_train.shape)\n",
        "print(x_test.shape)\n",
        "\n",
        "y_train = keras.utils.np_utils.to_categorical(y_train, num_classes)\n",
        "y_test = keras.utils.np_utils.to_categorical(y_test, num_classes)"
      ],
      "execution_count": 4,
      "outputs": [
        {
          "output_type": "stream",
          "text": [
            "Downloading data from https://www.cs.toronto.edu/~kriz/cifar-10-python.tar.gz\n",
            "170500096/170498071 [==============================] - 2s 0us/step\n",
            "170508288/170498071 [==============================] - 2s 0us/step\n",
            "(50000, 32, 32, 3)\n",
            "(10000, 32, 32, 3)\n"
          ],
          "name": "stdout"
        }
      ]
    },
    {
      "cell_type": "markdown",
      "metadata": {
        "id": "bjwRXtmOejax"
      },
      "source": [
        "DEFINE A DATA AUGMENTATION GENERATOR\n",
        "\n",
        "> Bloque con sangría\n",
        "\n"
      ]
    },
    {
      "cell_type": "code",
      "metadata": {
        "id": "w0CgF6jTejyx"
      },
      "source": [
        "datagen = ImageDataGenerator(\n",
        "    width_shift_range=0.2,\n",
        "    height_shift_range=0.2,\n",
        "    horizontal_flip=True)"
      ],
      "execution_count": 5,
      "outputs": []
    },
    {
      "cell_type": "markdown",
      "metadata": {
        "id": "C7xGHEMSeqOW"
      },
      "source": [
        "DEF A BLOCK CONV + BN + GN"
      ]
    },
    {
      "cell_type": "code",
      "metadata": {
        "id": "avYg0aMmeqS_"
      },
      "source": [
        "def CBGN(model,filters,ishape=0):\n",
        "  if (ishape!=0):\n",
        "    model.add(Conv2D(filters, (3, 3), padding='same',\n",
        "                 input_shape=ishape))\n",
        "  else:\n",
        "    model.add(Conv2D(filters, (3, 3), padding='same'))\n",
        "  \n",
        "  model.add(BN())\n",
        "  model.add(GN(0.3))\n",
        "  model.add(Activation('relu'))  \n",
        "  \n",
        "  return model"
      ],
      "execution_count": 6,
      "outputs": []
    },
    {
      "cell_type": "markdown",
      "metadata": {
        "id": "24bIWSBXSThW"
      },
      "source": [
        "Define the NN topology, a sequential model with 2 hidden layers"
      ]
    },
    {
      "cell_type": "code",
      "metadata": {
        "id": "pFy6tdc0STtb",
        "colab": {
          "base_uri": "https://localhost:8080/"
        },
        "outputId": "c96bebfb-4c7e-4d4d-a14c-6c75a8389be9"
      },
      "source": [
        "model = Sequential()\n",
        "\n",
        "model=CBGN(model,64,x_train.shape[1:])\n",
        "model.add(MaxPooling2D(pool_size=(2, 2)))\n",
        "\n",
        "model=CBGN(model,128)\n",
        "model.add(MaxPooling2D(pool_size=(2, 2)))\n",
        "\n",
        "model=CBGN(model,256)\n",
        "model=CBGN(model,256)\n",
        "model.add(MaxPooling2D(pool_size=(2, 2)))\n",
        "\n",
        "model=CBGN(model,512)\n",
        "model=CBGN(model,512)\n",
        "model.add(MaxPooling2D(pool_size=(2, 2)))\n",
        "\n",
        "model=CBGN(model,512)\n",
        "model=CBGN(model,512)\n",
        "model.add(MaxPooling2D(pool_size=(2, 2)))\n",
        "\n",
        "model.add(Flatten())\n",
        "model.add(Dense(4096))\n",
        "model.add(Activation('relu'))\n",
        "\n",
        "model.add(Flatten())\n",
        "model.add(Dense(4096))\n",
        "model.add(Activation('relu'))\n",
        "\n",
        "model.add(Flatten())\n",
        "model.add(Dense(1000))\n",
        "model.add(Activation('relu'))\n",
        "\n",
        "model.add(Dense(num_classes))\n",
        "model.add(Activation('softmax'))\n",
        "\n",
        "\n",
        "model.summary()"
      ],
      "execution_count": 7,
      "outputs": [
        {
          "output_type": "stream",
          "text": [
            "Model: \"sequential\"\n",
            "_________________________________________________________________\n",
            "Layer (type)                 Output Shape              Param #   \n",
            "=================================================================\n",
            "conv2d (Conv2D)              (None, 32, 32, 64)        1792      \n",
            "_________________________________________________________________\n",
            "batch_normalization (BatchNo (None, 32, 32, 64)        256       \n",
            "_________________________________________________________________\n",
            "gaussian_noise (GaussianNois (None, 32, 32, 64)        0         \n",
            "_________________________________________________________________\n",
            "activation (Activation)      (None, 32, 32, 64)        0         \n",
            "_________________________________________________________________\n",
            "max_pooling2d (MaxPooling2D) (None, 16, 16, 64)        0         \n",
            "_________________________________________________________________\n",
            "conv2d_1 (Conv2D)            (None, 16, 16, 128)       73856     \n",
            "_________________________________________________________________\n",
            "batch_normalization_1 (Batch (None, 16, 16, 128)       512       \n",
            "_________________________________________________________________\n",
            "gaussian_noise_1 (GaussianNo (None, 16, 16, 128)       0         \n",
            "_________________________________________________________________\n",
            "activation_1 (Activation)    (None, 16, 16, 128)       0         \n",
            "_________________________________________________________________\n",
            "max_pooling2d_1 (MaxPooling2 (None, 8, 8, 128)         0         \n",
            "_________________________________________________________________\n",
            "conv2d_2 (Conv2D)            (None, 8, 8, 256)         295168    \n",
            "_________________________________________________________________\n",
            "batch_normalization_2 (Batch (None, 8, 8, 256)         1024      \n",
            "_________________________________________________________________\n",
            "gaussian_noise_2 (GaussianNo (None, 8, 8, 256)         0         \n",
            "_________________________________________________________________\n",
            "activation_2 (Activation)    (None, 8, 8, 256)         0         \n",
            "_________________________________________________________________\n",
            "conv2d_3 (Conv2D)            (None, 8, 8, 256)         590080    \n",
            "_________________________________________________________________\n",
            "batch_normalization_3 (Batch (None, 8, 8, 256)         1024      \n",
            "_________________________________________________________________\n",
            "gaussian_noise_3 (GaussianNo (None, 8, 8, 256)         0         \n",
            "_________________________________________________________________\n",
            "activation_3 (Activation)    (None, 8, 8, 256)         0         \n",
            "_________________________________________________________________\n",
            "max_pooling2d_2 (MaxPooling2 (None, 4, 4, 256)         0         \n",
            "_________________________________________________________________\n",
            "conv2d_4 (Conv2D)            (None, 4, 4, 512)         1180160   \n",
            "_________________________________________________________________\n",
            "batch_normalization_4 (Batch (None, 4, 4, 512)         2048      \n",
            "_________________________________________________________________\n",
            "gaussian_noise_4 (GaussianNo (None, 4, 4, 512)         0         \n",
            "_________________________________________________________________\n",
            "activation_4 (Activation)    (None, 4, 4, 512)         0         \n",
            "_________________________________________________________________\n",
            "conv2d_5 (Conv2D)            (None, 4, 4, 512)         2359808   \n",
            "_________________________________________________________________\n",
            "batch_normalization_5 (Batch (None, 4, 4, 512)         2048      \n",
            "_________________________________________________________________\n",
            "gaussian_noise_5 (GaussianNo (None, 4, 4, 512)         0         \n",
            "_________________________________________________________________\n",
            "activation_5 (Activation)    (None, 4, 4, 512)         0         \n",
            "_________________________________________________________________\n",
            "max_pooling2d_3 (MaxPooling2 (None, 2, 2, 512)         0         \n",
            "_________________________________________________________________\n",
            "conv2d_6 (Conv2D)            (None, 2, 2, 512)         2359808   \n",
            "_________________________________________________________________\n",
            "batch_normalization_6 (Batch (None, 2, 2, 512)         2048      \n",
            "_________________________________________________________________\n",
            "gaussian_noise_6 (GaussianNo (None, 2, 2, 512)         0         \n",
            "_________________________________________________________________\n",
            "activation_6 (Activation)    (None, 2, 2, 512)         0         \n",
            "_________________________________________________________________\n",
            "conv2d_7 (Conv2D)            (None, 2, 2, 512)         2359808   \n",
            "_________________________________________________________________\n",
            "batch_normalization_7 (Batch (None, 2, 2, 512)         2048      \n",
            "_________________________________________________________________\n",
            "gaussian_noise_7 (GaussianNo (None, 2, 2, 512)         0         \n",
            "_________________________________________________________________\n",
            "activation_7 (Activation)    (None, 2, 2, 512)         0         \n",
            "_________________________________________________________________\n",
            "max_pooling2d_4 (MaxPooling2 (None, 1, 1, 512)         0         \n",
            "_________________________________________________________________\n",
            "flatten (Flatten)            (None, 512)               0         \n",
            "_________________________________________________________________\n",
            "dense (Dense)                (None, 4096)              2101248   \n",
            "_________________________________________________________________\n",
            "activation_8 (Activation)    (None, 4096)              0         \n",
            "_________________________________________________________________\n",
            "flatten_1 (Flatten)          (None, 4096)              0         \n",
            "_________________________________________________________________\n",
            "dense_1 (Dense)              (None, 4096)              16781312  \n",
            "_________________________________________________________________\n",
            "activation_9 (Activation)    (None, 4096)              0         \n",
            "_________________________________________________________________\n",
            "flatten_2 (Flatten)          (None, 4096)              0         \n",
            "_________________________________________________________________\n",
            "dense_2 (Dense)              (None, 1000)              4097000   \n",
            "_________________________________________________________________\n",
            "activation_10 (Activation)   (None, 1000)              0         \n",
            "_________________________________________________________________\n",
            "dense_3 (Dense)              (None, 10)                10010     \n",
            "_________________________________________________________________\n",
            "activation_11 (Activation)   (None, 10)                0         \n",
            "=================================================================\n",
            "Total params: 32,221,058\n",
            "Trainable params: 32,215,554\n",
            "Non-trainable params: 5,504\n",
            "_________________________________________________________________\n"
          ],
          "name": "stdout"
        }
      ]
    },
    {
      "cell_type": "markdown",
      "metadata": {
        "id": "dkDjl8exTTDZ"
      },
      "source": [
        "Define an optimizer "
      ]
    },
    {
      "cell_type": "code",
      "metadata": {
        "id": "LTRuAT1FTTOw",
        "colab": {
          "base_uri": "https://localhost:8080/"
        },
        "outputId": "f47e9c24-9065-4afc-8765-9cbaade0b360"
      },
      "source": [
        "opt = SGD(lr=0.1, decay=1e-6)"
      ],
      "execution_count": 8,
      "outputs": [
        {
          "output_type": "stream",
          "text": [
            "/usr/local/lib/python3.7/dist-packages/tensorflow/python/keras/optimizer_v2/optimizer_v2.py:375: UserWarning: The `lr` argument is deprecated, use `learning_rate` instead.\n",
            "  \"The `lr` argument is deprecated, use `learning_rate` instead.\")\n"
          ],
          "name": "stderr"
        }
      ]
    },
    {
      "cell_type": "markdown",
      "metadata": {
        "id": "SmhjZqVhfV18"
      },
      "source": [
        "DEFINE A LEARNING RATE SCHEDULER"
      ]
    },
    {
      "cell_type": "code",
      "metadata": {
        "id": "vjGe1KAwfV7F"
      },
      "source": [
        "def scheduler(epoch):\n",
        "    if epoch < 25:\n",
        "        return .1\n",
        "    elif epoch < 50:\n",
        "        return 0.01\n",
        "    else:\n",
        "        return 0.001\n",
        "\n",
        "# Callbacks\n",
        "set_lr = LRS(scheduler)\n",
        "es = keras.callbacks.EarlyStopping(monitor='loss', patience=3)"
      ],
      "execution_count": 9,
      "outputs": []
    },
    {
      "cell_type": "markdown",
      "metadata": {
        "id": "bHhBHWFjTTYy"
      },
      "source": [
        "Compile the model, define loss and link the optimizer"
      ]
    },
    {
      "cell_type": "code",
      "metadata": {
        "id": "8W8KCPtcTTii"
      },
      "source": [
        "model.compile(loss='categorical_crossentropy',\n",
        "              optimizer=opt,\n",
        "              metrics=['accuracy'])"
      ],
      "execution_count": 10,
      "outputs": []
    },
    {
      "cell_type": "markdown",
      "metadata": {
        "id": "HBOKdV6MTTtA"
      },
      "source": [
        "Finally, train the model and evaluate over the test data"
      ]
    },
    {
      "cell_type": "code",
      "metadata": {
        "id": "gLPsSdVDTT37",
        "colab": {
          "base_uri": "https://localhost:8080/"
        },
        "outputId": "a58dbbe4-9bc3-42a7-bb0d-c99b8c225add"
      },
      "source": [
        "history=model.fit(datagen.flow(x_train, y_train,batch_size=batch_size),\n",
        "                  steps_per_epoch=len(x_train) / batch_size, \n",
        "                  epochs=epochs,\n",
        "                  validation_data=(x_test, y_test),\n",
        "                  callbacks=[set_lr, es],\n",
        "                  verbose=1)\n",
        "\n",
        "# Evaluate over test\n",
        "score = model.evaluate(x_test, y_test, verbose=0)\n",
        "\n",
        "\n",
        "print('Test loss:', score[0])\n",
        "print('Test accuracy:', score[1])"
      ],
      "execution_count": 11,
      "outputs": [
        {
          "output_type": "stream",
          "text": [
            "Epoch 1/75\n",
            "500/500 [==============================] - 78s 60ms/step - loss: 1.9131 - accuracy: 0.3055 - val_loss: 1.5616 - val_accuracy: 0.4294\n",
            "Epoch 2/75\n",
            "500/500 [==============================] - 28s 57ms/step - loss: 1.3369 - accuracy: 0.5173 - val_loss: 1.3273 - val_accuracy: 0.5499\n",
            "Epoch 3/75\n",
            "500/500 [==============================] - 28s 56ms/step - loss: 1.1269 - accuracy: 0.5967 - val_loss: 1.0389 - val_accuracy: 0.6369\n",
            "Epoch 4/75\n",
            "500/500 [==============================] - 28s 57ms/step - loss: 0.9831 - accuracy: 0.6506 - val_loss: 1.0566 - val_accuracy: 0.6507\n",
            "Epoch 5/75\n",
            "500/500 [==============================] - 28s 56ms/step - loss: 0.8858 - accuracy: 0.6869 - val_loss: 0.8961 - val_accuracy: 0.6957\n",
            "Epoch 6/75\n",
            "500/500 [==============================] - 28s 56ms/step - loss: 0.8018 - accuracy: 0.7187 - val_loss: 0.8286 - val_accuracy: 0.7280\n",
            "Epoch 7/75\n",
            "500/500 [==============================] - 29s 58ms/step - loss: 0.7543 - accuracy: 0.7332 - val_loss: 0.9253 - val_accuracy: 0.7173\n",
            "Epoch 8/75\n",
            "500/500 [==============================] - 28s 57ms/step - loss: 0.7072 - accuracy: 0.7547 - val_loss: 0.9039 - val_accuracy: 0.7027\n",
            "Epoch 9/75\n",
            "500/500 [==============================] - 28s 56ms/step - loss: 0.6695 - accuracy: 0.7659 - val_loss: 0.7243 - val_accuracy: 0.7604\n",
            "Epoch 10/75\n",
            "500/500 [==============================] - 28s 56ms/step - loss: 0.6347 - accuracy: 0.7790 - val_loss: 0.7330 - val_accuracy: 0.7554\n",
            "Epoch 11/75\n",
            "500/500 [==============================] - 28s 56ms/step - loss: 0.6031 - accuracy: 0.7906 - val_loss: 0.9809 - val_accuracy: 0.7029\n",
            "Epoch 12/75\n",
            "500/500 [==============================] - 29s 58ms/step - loss: 0.5865 - accuracy: 0.7948 - val_loss: 0.7869 - val_accuracy: 0.7535\n",
            "Epoch 13/75\n",
            "500/500 [==============================] - 29s 58ms/step - loss: 0.5552 - accuracy: 0.8076 - val_loss: 1.1066 - val_accuracy: 0.6873\n",
            "Epoch 14/75\n",
            "500/500 [==============================] - 29s 57ms/step - loss: 0.5321 - accuracy: 0.8147 - val_loss: 0.6995 - val_accuracy: 0.7793\n",
            "Epoch 15/75\n",
            "500/500 [==============================] - 28s 56ms/step - loss: 0.5186 - accuracy: 0.8199 - val_loss: 0.6420 - val_accuracy: 0.7935\n",
            "Epoch 16/75\n",
            "500/500 [==============================] - 28s 56ms/step - loss: 0.5032 - accuracy: 0.8259 - val_loss: 0.6318 - val_accuracy: 0.8040\n",
            "Epoch 17/75\n",
            "500/500 [==============================] - 28s 56ms/step - loss: 0.4851 - accuracy: 0.8311 - val_loss: 0.7151 - val_accuracy: 0.7798\n",
            "Epoch 18/75\n",
            "500/500 [==============================] - 28s 56ms/step - loss: 0.4722 - accuracy: 0.8351 - val_loss: 0.5890 - val_accuracy: 0.8072\n",
            "Epoch 19/75\n",
            "500/500 [==============================] - 28s 56ms/step - loss: 0.4463 - accuracy: 0.8456 - val_loss: 0.6208 - val_accuracy: 0.8108\n",
            "Epoch 20/75\n",
            "500/500 [==============================] - 28s 56ms/step - loss: 0.4353 - accuracy: 0.8475 - val_loss: 0.7067 - val_accuracy: 0.7838\n",
            "Epoch 21/75\n",
            "500/500 [==============================] - 28s 56ms/step - loss: 0.4293 - accuracy: 0.8509 - val_loss: 0.6012 - val_accuracy: 0.8112\n",
            "Epoch 22/75\n",
            "500/500 [==============================] - 28s 56ms/step - loss: 0.4190 - accuracy: 0.8517 - val_loss: 0.5803 - val_accuracy: 0.8198\n",
            "Epoch 23/75\n",
            "500/500 [==============================] - 28s 56ms/step - loss: 0.4036 - accuracy: 0.8582 - val_loss: 0.5731 - val_accuracy: 0.8178\n",
            "Epoch 24/75\n",
            "500/500 [==============================] - 28s 56ms/step - loss: 0.3969 - accuracy: 0.8592 - val_loss: 0.5654 - val_accuracy: 0.8204\n",
            "Epoch 25/75\n",
            "500/500 [==============================] - 28s 56ms/step - loss: 0.3857 - accuracy: 0.8635 - val_loss: 0.5437 - val_accuracy: 0.8291\n",
            "Epoch 26/75\n",
            "500/500 [==============================] - 28s 56ms/step - loss: 0.3192 - accuracy: 0.8890 - val_loss: 0.4195 - val_accuracy: 0.8697\n",
            "Epoch 27/75\n",
            "500/500 [==============================] - 30s 59ms/step - loss: 0.2925 - accuracy: 0.8986 - val_loss: 0.4293 - val_accuracy: 0.8635\n",
            "Epoch 28/75\n",
            "500/500 [==============================] - 28s 57ms/step - loss: 0.2826 - accuracy: 0.9028 - val_loss: 0.4315 - val_accuracy: 0.8651\n",
            "Epoch 29/75\n",
            "500/500 [==============================] - 28s 56ms/step - loss: 0.2786 - accuracy: 0.9018 - val_loss: 0.4191 - val_accuracy: 0.8696\n",
            "Epoch 30/75\n",
            "500/500 [==============================] - 28s 56ms/step - loss: 0.2811 - accuracy: 0.9010 - val_loss: 0.4331 - val_accuracy: 0.8692\n",
            "Epoch 31/75\n",
            "500/500 [==============================] - 28s 56ms/step - loss: 0.2682 - accuracy: 0.9055 - val_loss: 0.4113 - val_accuracy: 0.8743\n",
            "Epoch 32/75\n",
            "500/500 [==============================] - 28s 56ms/step - loss: 0.2651 - accuracy: 0.9069 - val_loss: 0.4283 - val_accuracy: 0.8703\n",
            "Epoch 33/75\n",
            "500/500 [==============================] - 29s 57ms/step - loss: 0.2594 - accuracy: 0.9070 - val_loss: 0.4507 - val_accuracy: 0.8638\n",
            "Epoch 34/75\n",
            "500/500 [==============================] - 28s 56ms/step - loss: 0.2599 - accuracy: 0.9079 - val_loss: 0.4189 - val_accuracy: 0.8733\n",
            "Epoch 35/75\n",
            "500/500 [==============================] - 28s 56ms/step - loss: 0.2560 - accuracy: 0.9107 - val_loss: 0.4221 - val_accuracy: 0.8746\n",
            "Epoch 36/75\n",
            "500/500 [==============================] - 29s 57ms/step - loss: 0.2538 - accuracy: 0.9112 - val_loss: 0.4307 - val_accuracy: 0.8694\n",
            "Epoch 37/75\n",
            "500/500 [==============================] - 29s 57ms/step - loss: 0.2537 - accuracy: 0.9100 - val_loss: 0.4348 - val_accuracy: 0.8687\n",
            "Epoch 38/75\n",
            "500/500 [==============================] - 28s 57ms/step - loss: 0.2509 - accuracy: 0.9129 - val_loss: 0.4167 - val_accuracy: 0.8730\n",
            "Epoch 39/75\n",
            "500/500 [==============================] - 28s 57ms/step - loss: 0.2509 - accuracy: 0.9112 - val_loss: 0.4261 - val_accuracy: 0.8735\n",
            "Epoch 40/75\n",
            "500/500 [==============================] - 28s 57ms/step - loss: 0.2390 - accuracy: 0.9160 - val_loss: 0.4278 - val_accuracy: 0.8696\n",
            "Epoch 41/75\n",
            "500/500 [==============================] - 29s 58ms/step - loss: 0.2406 - accuracy: 0.9154 - val_loss: 0.4200 - val_accuracy: 0.8734\n",
            "Epoch 42/75\n",
            "500/500 [==============================] - 28s 57ms/step - loss: 0.2365 - accuracy: 0.9164 - val_loss: 0.4389 - val_accuracy: 0.8715\n",
            "Epoch 43/75\n",
            "500/500 [==============================] - 28s 57ms/step - loss: 0.2431 - accuracy: 0.9139 - val_loss: 0.4398 - val_accuracy: 0.8697\n",
            "Epoch 44/75\n",
            "500/500 [==============================] - 28s 57ms/step - loss: 0.2418 - accuracy: 0.9166 - val_loss: 0.4201 - val_accuracy: 0.8743\n",
            "Epoch 45/75\n",
            "500/500 [==============================] - 29s 57ms/step - loss: 0.2432 - accuracy: 0.9121 - val_loss: 0.4333 - val_accuracy: 0.8717\n",
            "Test loss: 0.43334805965423584\n",
            "Test accuracy: 0.8716999888420105\n"
          ],
          "name": "stdout"
        }
      ]
    },
    {
      "cell_type": "code",
      "metadata": {
        "id": "9_oBDiZbbO0G",
        "colab": {
          "base_uri": "https://localhost:8080/"
        },
        "outputId": "aac8adf9-a6d0-44cf-f7d1-6b2dd6f710c8"
      },
      "source": [
        "print(history.history.keys())"
      ],
      "execution_count": 12,
      "outputs": [
        {
          "output_type": "stream",
          "text": [
            "dict_keys(['loss', 'accuracy', 'val_loss', 'val_accuracy', 'lr'])\n"
          ],
          "name": "stdout"
        }
      ]
    },
    {
      "cell_type": "code",
      "metadata": {
        "id": "K4uLWmxCbaq9"
      },
      "source": [
        "import matplotlib.pyplot as plt"
      ],
      "execution_count": 13,
      "outputs": []
    },
    {
      "cell_type": "code",
      "metadata": {
        "id": "1wlYhPH9bcz9",
        "colab": {
          "base_uri": "https://localhost:8080/",
          "height": 295
        },
        "outputId": "8d21dacd-cd5d-4116-fded-6cd301d08dc6"
      },
      "source": [
        "plt.plot(history.history['accuracy'])\n",
        "plt.plot(history.history['val_accuracy'])\n",
        "plt.title('model accuracy')\n",
        "plt.ylabel('accuracy')\n",
        "plt.xlabel('epoch')\n",
        "plt.legend(['train', 'test'], loc='upper left')\n",
        "plt.show()"
      ],
      "execution_count": 14,
      "outputs": [
        {
          "output_type": "display_data",
          "data": {
            "image/png": "[encoded data removed]",
            "text/plain": [
              "<Figure size 432x288 with 1 Axes>"
            ]
          },
          "metadata": {
            "tags": [],
            "needs_background": "light"
          }
        }
      ]
    }
  ]
}