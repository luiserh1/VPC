{
  "nbformat": 4,
  "nbformat_minor": 0,
  "metadata": {
    "colab": {
      "name": "VGG11_DA.ipynb",
      "provenance": [],
      "collapsed_sections": []
    },
    "kernelspec": {
      "name": "python3",
      "display_name": "Python 3"
    },
    "accelerator": "GPU"
  },
  "cells": [
    {
      "cell_type": "markdown",
      "metadata": {
        "id": "ORvwib-YSR-p"
      },
      "source": [
        "CIFAR10 - VGG11 solution"
      ]
    },
    {
      "cell_type": "markdown",
      "metadata": {
        "id": "0YRXPjE-Sf1a"
      },
      "source": [
        "Install Keras just in case..."
      ]
    },
    {
      "cell_type": "code",
      "metadata": {
        "id": "MhsFJNHpSSKE",
        "colab": {
          "base_uri": "https://localhost:8080/"
        },
        "outputId": "ba1fb40e-e84b-43f5-db28-40b700d5a576"
      },
      "source": [
        "!pip3 install keras"
      ],
      "execution_count": 1,
      "outputs": [
        {
          "output_type": "stream",
          "text": [
            "Requirement already satisfied: keras in /usr/local/lib/python3.7/dist-packages (2.4.3)\n",
            "Requirement already satisfied: h5py in /usr/local/lib/python3.7/dist-packages (from keras) (3.1.0)\n",
            "Requirement already satisfied: scipy>=0.14 in /usr/local/lib/python3.7/dist-packages (from keras) (1.4.1)\n",
            "Requirement already satisfied: numpy>=1.9.1 in /usr/local/lib/python3.7/dist-packages (from keras) (1.19.5)\n",
            "Requirement already satisfied: pyyaml in /usr/local/lib/python3.7/dist-packages (from keras) (3.13)\n",
            "Requirement already satisfied: cached-property; python_version < \"3.8\" in /usr/local/lib/python3.7/dist-packages (from h5py->keras) (1.5.2)\n"
          ],
          "name": "stdout"
        }
      ]
    },
    {
      "cell_type": "markdown",
      "metadata": {
        "id": "CGX8RGwHSSTr"
      },
      "source": [
        "Imports..."
      ]
    },
    {
      "cell_type": "code",
      "metadata": {
        "id": "D8qeBuPiSSdc"
      },
      "source": [
        "from __future__ import print_function\n",
        "import keras\n",
        "from keras.datasets import cifar10\n",
        "from keras.models import Sequential\n",
        "from keras.layers import Dense, Dropout, Activation, Flatten\n",
        "from keras.layers import Conv2D, MaxPooling2D\n",
        "from keras.layers.normalization import BatchNormalization as BN\n",
        "from keras.layers import GaussianNoise as GN\n",
        "from keras.optimizers import SGD\n",
        "\n",
        "from keras.callbacks import LearningRateScheduler as LRS\n",
        "from keras.preprocessing.image import ImageDataGenerator"
      ],
      "execution_count": 2,
      "outputs": []
    },
    {
      "cell_type": "markdown",
      "metadata": {
        "id": "-M9uBGifSSqd"
      },
      "source": [
        "Define batch size, number of epochs and number of classes\n"
      ]
    },
    {
      "cell_type": "code",
      "metadata": {
        "id": "iaWFWm8mSTBj"
      },
      "source": [
        "batch_size = 100\n",
        "num_classes = 10\n",
        "epochs = 75"
      ],
      "execution_count": 3,
      "outputs": []
    },
    {
      "cell_type": "markdown",
      "metadata": {
        "id": "IKwjPVkoSTLr"
      },
      "source": [
        "Load MNIST and transform"
      ]
    },
    {
      "cell_type": "code",
      "metadata": {
        "id": "fZ9D1F8FSTWW",
        "colab": {
          "base_uri": "https://localhost:8080/"
        },
        "outputId": "fa1a433f-bf18-4846-d919-02bbec0d83d8"
      },
      "source": [
        "(x_train, y_train), (x_test, y_test) = cifar10.load_data()\n",
        "\n",
        "x_train = x_train.astype('float32')\n",
        "x_test = x_test.astype('float32')\n",
        "\n",
        "x_train /= 255\n",
        "x_test /= 255\n",
        "\n",
        "print(x_train.shape)\n",
        "print(x_test.shape)\n",
        "\n",
        "y_train = keras.utils.np_utils.to_categorical(y_train, num_classes)\n",
        "y_test = keras.utils.np_utils.to_categorical(y_test, num_classes)"
      ],
      "execution_count": 4,
      "outputs": [
        {
          "output_type": "stream",
          "text": [
            "Downloading data from https://www.cs.toronto.edu/~kriz/cifar-10-python.tar.gz\n",
            "170500096/170498071 [==============================] - 4s 0us/step\n",
            "170508288/170498071 [==============================] - 4s 0us/step\n",
            "(50000, 32, 32, 3)\n",
            "(10000, 32, 32, 3)\n"
          ],
          "name": "stdout"
        }
      ]
    },
    {
      "cell_type": "markdown",
      "metadata": {
        "id": "bjwRXtmOejax"
      },
      "source": [
        "DEFINE A DATA AUGMENTATION GENERATOR\n",
        "\n",
        "> Bloque con sangría\n",
        "\n"
      ]
    },
    {
      "cell_type": "code",
      "metadata": {
        "id": "w0CgF6jTejyx"
      },
      "source": [
        "## Data Augmentation with an ImageGenerator\n",
        "datagen = ImageDataGenerator(\n",
        "    width_shift_range=0.1,\n",
        "    height_shift_range=0.1,\n",
        "    horizontal_flip=True,\n",
        "    zoom_range=0.3,\n",
        "    rotation_range=45,\n",
        "    vertical_flip=True)"
      ],
      "execution_count": 5,
      "outputs": []
    },
    {
      "cell_type": "markdown",
      "metadata": {
        "id": "C7xGHEMSeqOW"
      },
      "source": [
        "DEF A BLOCK CONV + BN + GN"
      ]
    },
    {
      "cell_type": "code",
      "metadata": {
        "id": "avYg0aMmeqS_"
      },
      "source": [
        "def CBGN(model,filters,ishape=0):\n",
        "  if (ishape!=0):\n",
        "    model.add(Conv2D(filters, (3, 3), padding='same',\n",
        "                 input_shape=ishape))\n",
        "  else:\n",
        "    model.add(Conv2D(filters, (3, 3), padding='same'))\n",
        "  \n",
        "  model.add(BN())\n",
        "  model.add(GN(0.3))\n",
        "  model.add(Activation('relu'))  \n",
        "  \n",
        "  return model"
      ],
      "execution_count": 6,
      "outputs": []
    },
    {
      "cell_type": "markdown",
      "metadata": {
        "id": "24bIWSBXSThW"
      },
      "source": [
        "Define the NN topology, a sequential model with 2 hidden layers"
      ]
    },
    {
      "cell_type": "code",
      "metadata": {
        "id": "pFy6tdc0STtb",
        "colab": {
          "base_uri": "https://localhost:8080/"
        },
        "outputId": "f146b5b0-f3fe-492a-ace3-baf039cc6af2"
      },
      "source": [
        "model = Sequential()\n",
        "\n",
        "model=CBGN(model,64,x_train.shape[1:])\n",
        "model.add(MaxPooling2D(pool_size=(2, 2)))\n",
        "\n",
        "model=CBGN(model,128)\n",
        "model.add(MaxPooling2D(pool_size=(2, 2)))\n",
        "\n",
        "model=CBGN(model,256)\n",
        "model=CBGN(model,256)\n",
        "model.add(MaxPooling2D(pool_size=(2, 2)))\n",
        "\n",
        "model=CBGN(model,512)\n",
        "model=CBGN(model,512)\n",
        "model.add(MaxPooling2D(pool_size=(2, 2)))\n",
        "\n",
        "model=CBGN(model,512)\n",
        "model=CBGN(model,512)\n",
        "model.add(MaxPooling2D(pool_size=(2, 2)))\n",
        "\n",
        "model.add(Flatten())\n",
        "model.add(Dense(4096))\n",
        "model.add(Activation('relu'))\n",
        "\n",
        "model.add(Flatten())\n",
        "model.add(Dense(4096))\n",
        "model.add(Activation('relu'))\n",
        "\n",
        "model.add(Flatten())\n",
        "model.add(Dense(1000))\n",
        "model.add(Activation('relu'))\n",
        "\n",
        "model.add(Dense(num_classes))\n",
        "model.add(Activation('softmax'))\n",
        "\n",
        "\n",
        "model.summary()"
      ],
      "execution_count": 7,
      "outputs": [
        {
          "output_type": "stream",
          "text": [
            "Model: \"sequential\"\n",
            "_________________________________________________________________\n",
            "Layer (type)                 Output Shape              Param #   \n",
            "=================================================================\n",
            "conv2d (Conv2D)              (None, 32, 32, 64)        1792      \n",
            "_________________________________________________________________\n",
            "batch_normalization (BatchNo (None, 32, 32, 64)        256       \n",
            "_________________________________________________________________\n",
            "gaussian_noise (GaussianNois (None, 32, 32, 64)        0         \n",
            "_________________________________________________________________\n",
            "activation (Activation)      (None, 32, 32, 64)        0         \n",
            "_________________________________________________________________\n",
            "max_pooling2d (MaxPooling2D) (None, 16, 16, 64)        0         \n",
            "_________________________________________________________________\n",
            "conv2d_1 (Conv2D)            (None, 16, 16, 128)       73856     \n",
            "_________________________________________________________________\n",
            "batch_normalization_1 (Batch (None, 16, 16, 128)       512       \n",
            "_________________________________________________________________\n",
            "gaussian_noise_1 (GaussianNo (None, 16, 16, 128)       0         \n",
            "_________________________________________________________________\n",
            "activation_1 (Activation)    (None, 16, 16, 128)       0         \n",
            "_________________________________________________________________\n",
            "max_pooling2d_1 (MaxPooling2 (None, 8, 8, 128)         0         \n",
            "_________________________________________________________________\n",
            "conv2d_2 (Conv2D)            (None, 8, 8, 256)         295168    \n",
            "_________________________________________________________________\n",
            "batch_normalization_2 (Batch (None, 8, 8, 256)         1024      \n",
            "_________________________________________________________________\n",
            "gaussian_noise_2 (GaussianNo (None, 8, 8, 256)         0         \n",
            "_________________________________________________________________\n",
            "activation_2 (Activation)    (None, 8, 8, 256)         0         \n",
            "_________________________________________________________________\n",
            "conv2d_3 (Conv2D)            (None, 8, 8, 256)         590080    \n",
            "_________________________________________________________________\n",
            "batch_normalization_3 (Batch (None, 8, 8, 256)         1024      \n",
            "_________________________________________________________________\n",
            "gaussian_noise_3 (GaussianNo (None, 8, 8, 256)         0         \n",
            "_________________________________________________________________\n",
            "activation_3 (Activation)    (None, 8, 8, 256)         0         \n",
            "_________________________________________________________________\n",
            "max_pooling2d_2 (MaxPooling2 (None, 4, 4, 256)         0         \n",
            "_________________________________________________________________\n",
            "conv2d_4 (Conv2D)            (None, 4, 4, 512)         1180160   \n",
            "_________________________________________________________________\n",
            "batch_normalization_4 (Batch (None, 4, 4, 512)         2048      \n",
            "_________________________________________________________________\n",
            "gaussian_noise_4 (GaussianNo (None, 4, 4, 512)         0         \n",
            "_________________________________________________________________\n",
            "activation_4 (Activation)    (None, 4, 4, 512)         0         \n",
            "_________________________________________________________________\n",
            "conv2d_5 (Conv2D)            (None, 4, 4, 512)         2359808   \n",
            "_________________________________________________________________\n",
            "batch_normalization_5 (Batch (None, 4, 4, 512)         2048      \n",
            "_________________________________________________________________\n",
            "gaussian_noise_5 (GaussianNo (None, 4, 4, 512)         0         \n",
            "_________________________________________________________________\n",
            "activation_5 (Activation)    (None, 4, 4, 512)         0         \n",
            "_________________________________________________________________\n",
            "max_pooling2d_3 (MaxPooling2 (None, 2, 2, 512)         0         \n",
            "_________________________________________________________________\n",
            "conv2d_6 (Conv2D)            (None, 2, 2, 512)         2359808   \n",
            "_________________________________________________________________\n",
            "batch_normalization_6 (Batch (None, 2, 2, 512)         2048      \n",
            "_________________________________________________________________\n",
            "gaussian_noise_6 (GaussianNo (None, 2, 2, 512)         0         \n",
            "_________________________________________________________________\n",
            "activation_6 (Activation)    (None, 2, 2, 512)         0         \n",
            "_________________________________________________________________\n",
            "conv2d_7 (Conv2D)            (None, 2, 2, 512)         2359808   \n",
            "_________________________________________________________________\n",
            "batch_normalization_7 (Batch (None, 2, 2, 512)         2048      \n",
            "_________________________________________________________________\n",
            "gaussian_noise_7 (GaussianNo (None, 2, 2, 512)         0         \n",
            "_________________________________________________________________\n",
            "activation_7 (Activation)    (None, 2, 2, 512)         0         \n",
            "_________________________________________________________________\n",
            "max_pooling2d_4 (MaxPooling2 (None, 1, 1, 512)         0         \n",
            "_________________________________________________________________\n",
            "flatten (Flatten)            (None, 512)               0         \n",
            "_________________________________________________________________\n",
            "dense (Dense)                (None, 4096)              2101248   \n",
            "_________________________________________________________________\n",
            "activation_8 (Activation)    (None, 4096)              0         \n",
            "_________________________________________________________________\n",
            "flatten_1 (Flatten)          (None, 4096)              0         \n",
            "_________________________________________________________________\n",
            "dense_1 (Dense)              (None, 4096)              16781312  \n",
            "_________________________________________________________________\n",
            "activation_9 (Activation)    (None, 4096)              0         \n",
            "_________________________________________________________________\n",
            "flatten_2 (Flatten)          (None, 4096)              0         \n",
            "_________________________________________________________________\n",
            "dense_2 (Dense)              (None, 1000)              4097000   \n",
            "_________________________________________________________________\n",
            "activation_10 (Activation)   (None, 1000)              0         \n",
            "_________________________________________________________________\n",
            "dense_3 (Dense)              (None, 10)                10010     \n",
            "_________________________________________________________________\n",
            "activation_11 (Activation)   (None, 10)                0         \n",
            "=================================================================\n",
            "Total params: 32,221,058\n",
            "Trainable params: 32,215,554\n",
            "Non-trainable params: 5,504\n",
            "_________________________________________________________________\n"
          ],
          "name": "stdout"
        }
      ]
    },
    {
      "cell_type": "markdown",
      "metadata": {
        "id": "dkDjl8exTTDZ"
      },
      "source": [
        "Define an optimizer "
      ]
    },
    {
      "cell_type": "code",
      "metadata": {
        "id": "LTRuAT1FTTOw",
        "colab": {
          "base_uri": "https://localhost:8080/"
        },
        "outputId": "b5e38ba8-5e40-49ac-bee7-4b2e157208d0"
      },
      "source": [
        "opt = SGD(lr=0.1, decay=1e-6)"
      ],
      "execution_count": 8,
      "outputs": [
        {
          "output_type": "stream",
          "text": [
            "/usr/local/lib/python3.7/dist-packages/tensorflow/python/keras/optimizer_v2/optimizer_v2.py:375: UserWarning: The `lr` argument is deprecated, use `learning_rate` instead.\n",
            "  \"The `lr` argument is deprecated, use `learning_rate` instead.\")\n"
          ],
          "name": "stderr"
        }
      ]
    },
    {
      "cell_type": "markdown",
      "metadata": {
        "id": "SmhjZqVhfV18"
      },
      "source": [
        "DEFINE A LEARNING RATE SCHEDULER"
      ]
    },
    {
      "cell_type": "code",
      "metadata": {
        "id": "vjGe1KAwfV7F"
      },
      "source": [
        "def scheduler(epoch):\n",
        "    if epoch < 25:\n",
        "        return .1\n",
        "    elif epoch < 50:\n",
        "        return 0.01\n",
        "    else:\n",
        "        return 0.001\n",
        "\n",
        "# Callbacks\n",
        "set_lr = LRS(scheduler)\n",
        "es = keras.callbacks.EarlyStopping(monitor='loss', patience=3)"
      ],
      "execution_count": 9,
      "outputs": []
    },
    {
      "cell_type": "markdown",
      "metadata": {
        "id": "bHhBHWFjTTYy"
      },
      "source": [
        "Compile the model, define loss and link the optimizer"
      ]
    },
    {
      "cell_type": "code",
      "metadata": {
        "id": "8W8KCPtcTTii"
      },
      "source": [
        "model.compile(loss='categorical_crossentropy',\n",
        "              optimizer=opt,\n",
        "              metrics=['accuracy'])"
      ],
      "execution_count": 10,
      "outputs": []
    },
    {
      "cell_type": "markdown",
      "metadata": {
        "id": "HBOKdV6MTTtA"
      },
      "source": [
        "Finally, train the model and evaluate over the test data"
      ]
    },
    {
      "cell_type": "code",
      "metadata": {
        "id": "gLPsSdVDTT37",
        "colab": {
          "base_uri": "https://localhost:8080/"
        },
        "outputId": "926d1950-e872-42f4-efc9-1bf2badf9ec8"
      },
      "source": [
        "history=model.fit(datagen.flow(x_train, y_train,batch_size=batch_size),\n",
        "                  steps_per_epoch=len(x_train) / batch_size, \n",
        "                  epochs=epochs,\n",
        "                  validation_data=(x_test, y_test),\n",
        "                  callbacks=[set_lr, es],\n",
        "                  verbose=1)\n",
        "\n",
        "# Evaluate over test\n",
        "score = model.evaluate(x_test, y_test, verbose=0)\n",
        "\n",
        "\n",
        "print('Test loss:', score[0])\n",
        "print('Test accuracy:', score[1])"
      ],
      "execution_count": 11,
      "outputs": [
        {
          "output_type": "stream",
          "text": [
            "Epoch 1/75\n",
            "500/500 [==============================] - 80s 64ms/step - loss: 2.1165 - accuracy: 0.2493 - val_loss: 2.1484 - val_accuracy: 0.2665\n",
            "Epoch 2/75\n",
            "500/500 [==============================] - 30s 60ms/step - loss: 1.6315 - accuracy: 0.4054 - val_loss: 1.7795 - val_accuracy: 0.4003\n",
            "Epoch 3/75\n",
            "500/500 [==============================] - 30s 60ms/step - loss: 1.4838 - accuracy: 0.4612 - val_loss: 1.4701 - val_accuracy: 0.5095\n",
            "Epoch 4/75\n",
            "500/500 [==============================] - 30s 60ms/step - loss: 1.3909 - accuracy: 0.5025 - val_loss: 1.2385 - val_accuracy: 0.5631\n",
            "Epoch 5/75\n",
            "500/500 [==============================] - 30s 60ms/step - loss: 1.3122 - accuracy: 0.5248 - val_loss: 1.1911 - val_accuracy: 0.5770\n",
            "Epoch 6/75\n",
            "500/500 [==============================] - 30s 60ms/step - loss: 1.2539 - accuracy: 0.5496 - val_loss: 1.4999 - val_accuracy: 0.4933\n",
            "Epoch 7/75\n",
            "500/500 [==============================] - 30s 60ms/step - loss: 1.2067 - accuracy: 0.5713 - val_loss: 1.4661 - val_accuracy: 0.5278\n",
            "Epoch 8/75\n",
            "500/500 [==============================] - 31s 61ms/step - loss: 1.1569 - accuracy: 0.5879 - val_loss: 1.7507 - val_accuracy: 0.4950\n",
            "Epoch 9/75\n",
            "500/500 [==============================] - 30s 61ms/step - loss: 1.1309 - accuracy: 0.5982 - val_loss: 1.0830 - val_accuracy: 0.6201\n",
            "Epoch 10/75\n",
            "500/500 [==============================] - 31s 61ms/step - loss: 1.0800 - accuracy: 0.6165 - val_loss: 1.7267 - val_accuracy: 0.5459\n",
            "Epoch 11/75\n",
            "500/500 [==============================] - 30s 60ms/step - loss: 1.0530 - accuracy: 0.6274 - val_loss: 1.1389 - val_accuracy: 0.6256\n",
            "Epoch 12/75\n",
            "500/500 [==============================] - 31s 61ms/step - loss: 1.0164 - accuracy: 0.6377 - val_loss: 1.0136 - val_accuracy: 0.6440\n",
            "Epoch 13/75\n",
            "500/500 [==============================] - 31s 61ms/step - loss: 0.9968 - accuracy: 0.6493 - val_loss: 1.1086 - val_accuracy: 0.6334\n",
            "Epoch 14/75\n",
            "500/500 [==============================] - 30s 60ms/step - loss: 0.9811 - accuracy: 0.6551 - val_loss: 1.2631 - val_accuracy: 0.6018\n",
            "Epoch 15/75\n",
            "500/500 [==============================] - 30s 60ms/step - loss: 0.9578 - accuracy: 0.6634 - val_loss: 0.9564 - val_accuracy: 0.6813\n",
            "Epoch 16/75\n",
            "500/500 [==============================] - 30s 60ms/step - loss: 0.9254 - accuracy: 0.6738 - val_loss: 0.9118 - val_accuracy: 0.6930\n",
            "Epoch 17/75\n",
            "500/500 [==============================] - 30s 60ms/step - loss: 0.9148 - accuracy: 0.6771 - val_loss: 1.2835 - val_accuracy: 0.6123\n",
            "Epoch 18/75\n",
            "500/500 [==============================] - 30s 60ms/step - loss: 0.9090 - accuracy: 0.6808 - val_loss: 0.8388 - val_accuracy: 0.7117\n",
            "Epoch 19/75\n",
            "500/500 [==============================] - 31s 61ms/step - loss: 0.8841 - accuracy: 0.6872 - val_loss: 1.1308 - val_accuracy: 0.6369\n",
            "Epoch 20/75\n",
            "500/500 [==============================] - 31s 61ms/step - loss: 0.8740 - accuracy: 0.6911 - val_loss: 0.8974 - val_accuracy: 0.6968\n",
            "Epoch 21/75\n",
            "500/500 [==============================] - 31s 61ms/step - loss: 0.8572 - accuracy: 0.6995 - val_loss: 0.8368 - val_accuracy: 0.7213\n",
            "Epoch 22/75\n",
            "500/500 [==============================] - 30s 60ms/step - loss: 0.8379 - accuracy: 0.7093 - val_loss: 1.0158 - val_accuracy: 0.6645\n",
            "Epoch 23/75\n",
            "500/500 [==============================] - 30s 60ms/step - loss: 0.8226 - accuracy: 0.7100 - val_loss: 0.8912 - val_accuracy: 0.7017\n",
            "Epoch 24/75\n",
            "500/500 [==============================] - 30s 60ms/step - loss: 0.8132 - accuracy: 0.7132 - val_loss: 0.7963 - val_accuracy: 0.7315\n",
            "Epoch 25/75\n",
            "500/500 [==============================] - 31s 61ms/step - loss: 0.7988 - accuracy: 0.7193 - val_loss: 0.8445 - val_accuracy: 0.7288\n",
            "Epoch 26/75\n",
            "500/500 [==============================] - 30s 60ms/step - loss: 0.7388 - accuracy: 0.7399 - val_loss: 0.6802 - val_accuracy: 0.7736\n",
            "Epoch 27/75\n",
            "500/500 [==============================] - 31s 62ms/step - loss: 0.6948 - accuracy: 0.7568 - val_loss: 0.7241 - val_accuracy: 0.7613\n",
            "Epoch 28/75\n",
            "500/500 [==============================] - 30s 60ms/step - loss: 0.6865 - accuracy: 0.7597 - val_loss: 0.7184 - val_accuracy: 0.7636\n",
            "Epoch 29/75\n",
            "500/500 [==============================] - 30s 60ms/step - loss: 0.6806 - accuracy: 0.7597 - val_loss: 0.7198 - val_accuracy: 0.7627\n",
            "Epoch 30/75\n",
            "500/500 [==============================] - 31s 61ms/step - loss: 0.6805 - accuracy: 0.7593 - val_loss: 0.6808 - val_accuracy: 0.7719\n",
            "Epoch 31/75\n",
            "500/500 [==============================] - 31s 61ms/step - loss: 0.6659 - accuracy: 0.7663 - val_loss: 0.7365 - val_accuracy: 0.7611\n",
            "Epoch 32/75\n",
            "500/500 [==============================] - 31s 62ms/step - loss: 0.6742 - accuracy: 0.7636 - val_loss: 0.6684 - val_accuracy: 0.7768\n",
            "Epoch 33/75\n",
            "500/500 [==============================] - 30s 60ms/step - loss: 0.6628 - accuracy: 0.7685 - val_loss: 0.6806 - val_accuracy: 0.7765\n",
            "Epoch 34/75\n",
            "500/500 [==============================] - 30s 61ms/step - loss: 0.6606 - accuracy: 0.7654 - val_loss: 0.6824 - val_accuracy: 0.7729\n",
            "Epoch 35/75\n",
            "500/500 [==============================] - 30s 61ms/step - loss: 0.6440 - accuracy: 0.7722 - val_loss: 0.6778 - val_accuracy: 0.7743\n",
            "Epoch 36/75\n",
            "500/500 [==============================] - 30s 61ms/step - loss: 0.6576 - accuracy: 0.7694 - val_loss: 0.6748 - val_accuracy: 0.7744\n",
            "Epoch 37/75\n",
            "500/500 [==============================] - 31s 61ms/step - loss: 0.6389 - accuracy: 0.7742 - val_loss: 0.6790 - val_accuracy: 0.7727\n",
            "Epoch 38/75\n",
            "500/500 [==============================] - 30s 61ms/step - loss: 0.6473 - accuracy: 0.7715 - val_loss: 0.6843 - val_accuracy: 0.7720\n",
            "Epoch 39/75\n",
            "500/500 [==============================] - 30s 60ms/step - loss: 0.6400 - accuracy: 0.7760 - val_loss: 0.6573 - val_accuracy: 0.7816\n",
            "Epoch 40/75\n",
            "500/500 [==============================] - 30s 60ms/step - loss: 0.6296 - accuracy: 0.7810 - val_loss: 0.6731 - val_accuracy: 0.7761\n",
            "Epoch 41/75\n",
            "500/500 [==============================] - 30s 60ms/step - loss: 0.6398 - accuracy: 0.7714 - val_loss: 0.6759 - val_accuracy: 0.7750\n",
            "Epoch 42/75\n",
            "500/500 [==============================] - 30s 60ms/step - loss: 0.6321 - accuracy: 0.7760 - val_loss: 0.6528 - val_accuracy: 0.7826\n",
            "Epoch 43/75\n",
            "500/500 [==============================] - 31s 61ms/step - loss: 0.6322 - accuracy: 0.7779 - val_loss: 0.7139 - val_accuracy: 0.7631\n",
            "Epoch 44/75\n",
            "500/500 [==============================] - 30s 60ms/step - loss: 0.6311 - accuracy: 0.7794 - val_loss: 0.6434 - val_accuracy: 0.7851\n",
            "Epoch 45/75\n",
            "500/500 [==============================] - 30s 60ms/step - loss: 0.6279 - accuracy: 0.7808 - val_loss: 0.6503 - val_accuracy: 0.7842\n",
            "Epoch 46/75\n",
            "500/500 [==============================] - 31s 61ms/step - loss: 0.6303 - accuracy: 0.7762 - val_loss: 0.6580 - val_accuracy: 0.7808\n",
            "Epoch 47/75\n",
            "500/500 [==============================] - 30s 60ms/step - loss: 0.6188 - accuracy: 0.7805 - val_loss: 0.6454 - val_accuracy: 0.7833\n",
            "Epoch 48/75\n",
            "500/500 [==============================] - 30s 60ms/step - loss: 0.6214 - accuracy: 0.7766 - val_loss: 0.6674 - val_accuracy: 0.7808\n",
            "Epoch 49/75\n",
            "500/500 [==============================] - 30s 60ms/step - loss: 0.6114 - accuracy: 0.7832 - val_loss: 0.6528 - val_accuracy: 0.7834\n",
            "Epoch 50/75\n",
            "500/500 [==============================] - 31s 62ms/step - loss: 0.6190 - accuracy: 0.7810 - val_loss: 0.6531 - val_accuracy: 0.7834\n",
            "Epoch 51/75\n",
            "500/500 [==============================] - 30s 60ms/step - loss: 0.6059 - accuracy: 0.7867 - val_loss: 0.6522 - val_accuracy: 0.7850\n",
            "Epoch 52/75\n",
            "500/500 [==============================] - 31s 61ms/step - loss: 0.6055 - accuracy: 0.7878 - val_loss: 0.6503 - val_accuracy: 0.7845\n",
            "Epoch 53/75\n",
            "500/500 [==============================] - 30s 61ms/step - loss: 0.6061 - accuracy: 0.7869 - val_loss: 0.6453 - val_accuracy: 0.7854\n",
            "Epoch 54/75\n",
            "500/500 [==============================] - 30s 61ms/step - loss: 0.6027 - accuracy: 0.7852 - val_loss: 0.6445 - val_accuracy: 0.7873\n",
            "Epoch 55/75\n",
            "500/500 [==============================] - 31s 61ms/step - loss: 0.6040 - accuracy: 0.7887 - val_loss: 0.6409 - val_accuracy: 0.7887\n",
            "Epoch 56/75\n",
            "500/500 [==============================] - 30s 61ms/step - loss: 0.5970 - accuracy: 0.7905 - val_loss: 0.6455 - val_accuracy: 0.7868\n",
            "Epoch 57/75\n",
            "500/500 [==============================] - 30s 60ms/step - loss: 0.6054 - accuracy: 0.7859 - val_loss: 0.6362 - val_accuracy: 0.7884\n",
            "Epoch 58/75\n",
            "500/500 [==============================] - 30s 60ms/step - loss: 0.6044 - accuracy: 0.7833 - val_loss: 0.6457 - val_accuracy: 0.7871\n",
            "Epoch 59/75\n",
            "500/500 [==============================] - 30s 60ms/step - loss: 0.5987 - accuracy: 0.7897 - val_loss: 0.6456 - val_accuracy: 0.7874\n",
            "Test loss: 0.6456354856491089\n",
            "Test accuracy: 0.7874000072479248\n"
          ],
          "name": "stdout"
        }
      ]
    },
    {
      "cell_type": "code",
      "metadata": {
        "id": "9_oBDiZbbO0G",
        "colab": {
          "base_uri": "https://localhost:8080/"
        },
        "outputId": "baaffb97-5c90-4bdf-9423-bdc647df8a16"
      },
      "source": [
        "print(history.history.keys())"
      ],
      "execution_count": 12,
      "outputs": [
        {
          "output_type": "stream",
          "text": [
            "dict_keys(['loss', 'accuracy', 'val_loss', 'val_accuracy', 'lr'])\n"
          ],
          "name": "stdout"
        }
      ]
    },
    {
      "cell_type": "code",
      "metadata": {
        "id": "K4uLWmxCbaq9"
      },
      "source": [
        "import matplotlib.pyplot as plt"
      ],
      "execution_count": 13,
      "outputs": []
    },
    {
      "cell_type": "code",
      "metadata": {
        "id": "1wlYhPH9bcz9",
        "colab": {
          "base_uri": "https://localhost:8080/",
          "height": 295
        },
        "outputId": "fcd66878-ddaa-4eb7-ace3-399be4a25cbc"
      },
      "source": [
        "plt.plot(history.history['accuracy'])\n",
        "plt.plot(history.history['val_accuracy'])\n",
        "plt.title('model accuracy')\n",
        "plt.ylabel('accuracy')\n",
        "plt.xlabel('epoch')\n",
        "plt.legend(['train', 'test'], loc='upper left')\n",
        "plt.show()"
      ],
      "execution_count": 14,
      "outputs": [
        {
          "output_type": "display_data",
          "data": {
            "image/png": "[encoded data removed]",
            "text/plain": [
              "<Figure size 432x288 with 1 Axes>"
            ]
          },
          "metadata": {
            "tags": [],
            "needs_background": "light"
          }
        }
      ]
    }
  ]
}