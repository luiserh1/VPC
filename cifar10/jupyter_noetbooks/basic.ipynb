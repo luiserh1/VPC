{
  "nbformat": 4,
  "nbformat_minor": 0,
  "metadata": {
    "colab": {
      "name": "basic.ipynb",
      "provenance": [],
      "collapsed_sections": []
    },
    "kernelspec": {
      "name": "python3",
      "display_name": "Python 3"
    },
    "accelerator": "GPU"
  },
  "cells": [
    {
      "cell_type": "markdown",
      "metadata": {
        "id": "ORvwib-YSR-p"
      },
      "source": [
        "BASIC CIFAR 10 EXAMPLE"
      ]
    },
    {
      "cell_type": "markdown",
      "metadata": {
        "id": "0YRXPjE-Sf1a"
      },
      "source": [
        "Install Keras just in case..."
      ]
    },
    {
      "cell_type": "code",
      "metadata": {
        "id": "MhsFJNHpSSKE",
        "colab": {
          "base_uri": "https://localhost:8080/"
        },
        "outputId": "69bb9374-7c8c-4cc2-ef29-bd89c29b4add"
      },
      "source": [
        "!pip3 install keras"
      ],
      "execution_count": null,
      "outputs": [
        {
          "output_type": "stream",
          "text": [
            "Requirement already satisfied: keras in /usr/local/lib/python3.7/dist-packages (2.4.3)\n",
            "Requirement already satisfied: numpy>=1.9.1 in /usr/local/lib/python3.7/dist-packages (from keras) (1.19.5)\n",
            "Requirement already satisfied: h5py in /usr/local/lib/python3.7/dist-packages (from keras) (3.1.0)\n",
            "Requirement already satisfied: pyyaml in /usr/local/lib/python3.7/dist-packages (from keras) (3.13)\n",
            "Requirement already satisfied: scipy>=0.14 in /usr/local/lib/python3.7/dist-packages (from keras) (1.4.1)\n",
            "Requirement already satisfied: cached-property; python_version < \"3.8\" in /usr/local/lib/python3.7/dist-packages (from h5py->keras) (1.5.2)\n"
          ],
          "name": "stdout"
        }
      ]
    },
    {
      "cell_type": "markdown",
      "metadata": {
        "id": "CGX8RGwHSSTr"
      },
      "source": [
        "Imports..."
      ]
    },
    {
      "cell_type": "code",
      "metadata": {
        "id": "D8qeBuPiSSdc"
      },
      "source": [
        "from __future__ import print_function\n",
        "import keras\n",
        "from keras.datasets import cifar10\n",
        "from keras.models import Sequential\n",
        "from keras.layers import Dense, Dropout, Activation, Flatten\n",
        "from keras.layers import Conv2D, MaxPooling2D\n",
        "from keras.layers.normalization import BatchNormalization as BN\n",
        "from keras.layers import GaussianNoise as GN\n",
        "from keras.optimizers import SGD\n",
        "\n",
        "from keras.callbacks import LearningRateScheduler as LRS\n",
        "from keras.preprocessing.image import ImageDataGenerator"
      ],
      "execution_count": null,
      "outputs": []
    },
    {
      "cell_type": "markdown",
      "metadata": {
        "id": "-M9uBGifSSqd"
      },
      "source": [
        "Define batch size, number of epochs and number of classes\n"
      ]
    },
    {
      "cell_type": "code",
      "metadata": {
        "id": "iaWFWm8mSTBj"
      },
      "source": [
        "batch_size = 100\n",
        "num_classes = 10\n",
        "epochs = 75"
      ],
      "execution_count": null,
      "outputs": []
    },
    {
      "cell_type": "markdown",
      "metadata": {
        "id": "IKwjPVkoSTLr"
      },
      "source": [
        "Load MNIST and transform"
      ]
    },
    {
      "cell_type": "code",
      "metadata": {
        "id": "fZ9D1F8FSTWW",
        "colab": {
          "base_uri": "https://localhost:8080/"
        },
        "outputId": "662971f8-def6-403e-be77-ebea726906b8"
      },
      "source": [
        "(x_train, y_train), (x_test, y_test) = cifar10.load_data()\n",
        "\n",
        "x_train = x_train.astype('float32')\n",
        "x_test = x_test.astype('float32')\n",
        "\n",
        "x_train /= 255\n",
        "x_test /= 255\n",
        "\n",
        "print(x_train.shape)\n",
        "print(x_test.shape)\n",
        "\n",
        "y_train = keras.utils.np_utils.to_categorical(y_train, num_classes)\n",
        "y_test = keras.utils.np_utils.to_categorical(y_test, num_classes)\n"
      ],
      "execution_count": null,
      "outputs": [
        {
          "output_type": "stream",
          "text": [
            "Downloading data from https://www.cs.toronto.edu/~kriz/cifar-10-python.tar.gz\n",
            "170500096/170498071 [==============================] - 4s 0us/step\n",
            "170508288/170498071 [==============================] - 5s 0us/step\n",
            "(50000, 32, 32, 3)\n",
            "(10000, 32, 32, 3)\n"
          ],
          "name": "stdout"
        }
      ]
    },
    {
      "cell_type": "markdown",
      "metadata": {
        "id": "bjwRXtmOejax"
      },
      "source": [
        "DEFINE A DATA AUGMENTATION GENERATOR\n",
        "\n",
        "> Bloque con sangría\n",
        "\n"
      ]
    },
    {
      "cell_type": "code",
      "metadata": {
        "id": "w0CgF6jTejyx"
      },
      "source": [
        "datagen = ImageDataGenerator(\n",
        "    width_shift_range=0.2,\n",
        "    height_shift_range=0.2,\n",
        "    horizontal_flip=True)"
      ],
      "execution_count": null,
      "outputs": []
    },
    {
      "cell_type": "markdown",
      "metadata": {
        "id": "C7xGHEMSeqOW"
      },
      "source": [
        "DEF A BLOCK CONV + BN + GN + MAXPOOL"
      ]
    },
    {
      "cell_type": "code",
      "metadata": {
        "id": "avYg0aMmeqS_"
      },
      "source": [
        "def CBGN(model,filters,ishape=0):\n",
        "  if (ishape!=0):\n",
        "    model.add(Conv2D(filters, (3, 3), padding='same',\n",
        "                 input_shape=ishape))\n",
        "  else:\n",
        "    model.add(Conv2D(filters, (3, 3), padding='same'))\n",
        "  \n",
        "  model.add(BN())\n",
        "  model.add(GN(0.3))\n",
        "  model.add(Activation('relu'))\n",
        "  model.add(MaxPooling2D(pool_size=(2, 2)))\n",
        "  \n",
        "  \n",
        "  return model"
      ],
      "execution_count": null,
      "outputs": []
    },
    {
      "cell_type": "markdown",
      "metadata": {
        "id": "24bIWSBXSThW"
      },
      "source": [
        "Define the NN topology, a sequential model with 2 hidden layers"
      ]
    },
    {
      "cell_type": "code",
      "metadata": {
        "id": "pFy6tdc0STtb",
        "colab": {
          "base_uri": "https://localhost:8080/"
        },
        "outputId": "2ed6e6f8-9ee8-4ed3-d82d-09495250275c"
      },
      "source": [
        "model = Sequential()\n",
        "\n",
        "model=CBGN(model,32,x_train.shape[1:])\n",
        "model=CBGN(model,64)\n",
        "model=CBGN(model,128)\n",
        "model=CBGN(model,256)\n",
        "model=CBGN(model,512)\n",
        "\n",
        "model.add(Flatten())\n",
        "model.add(Dense(512))\n",
        "model.add(Activation('relu'))\n",
        "\n",
        "model.add(Dense(num_classes))\n",
        "model.add(Activation('softmax'))\n",
        "\n",
        "\n",
        "model.summary()"
      ],
      "execution_count": null,
      "outputs": [
        {
          "output_type": "stream",
          "text": [
            "Model: \"sequential\"\n",
            "_________________________________________________________________\n",
            "Layer (type)                 Output Shape              Param #   \n",
            "=================================================================\n",
            "conv2d (Conv2D)              (None, 32, 32, 32)        896       \n",
            "_________________________________________________________________\n",
            "batch_normalization (BatchNo (None, 32, 32, 32)        128       \n",
            "_________________________________________________________________\n",
            "gaussian_noise (GaussianNois (None, 32, 32, 32)        0         \n",
            "_________________________________________________________________\n",
            "activation (Activation)      (None, 32, 32, 32)        0         \n",
            "_________________________________________________________________\n",
            "max_pooling2d (MaxPooling2D) (None, 16, 16, 32)        0         \n",
            "_________________________________________________________________\n",
            "conv2d_1 (Conv2D)            (None, 16, 16, 64)        18496     \n",
            "_________________________________________________________________\n",
            "batch_normalization_1 (Batch (None, 16, 16, 64)        256       \n",
            "_________________________________________________________________\n",
            "gaussian_noise_1 (GaussianNo (None, 16, 16, 64)        0         \n",
            "_________________________________________________________________\n",
            "activation_1 (Activation)    (None, 16, 16, 64)        0         \n",
            "_________________________________________________________________\n",
            "max_pooling2d_1 (MaxPooling2 (None, 8, 8, 64)          0         \n",
            "_________________________________________________________________\n",
            "conv2d_2 (Conv2D)            (None, 8, 8, 128)         73856     \n",
            "_________________________________________________________________\n",
            "batch_normalization_2 (Batch (None, 8, 8, 128)         512       \n",
            "_________________________________________________________________\n",
            "gaussian_noise_2 (GaussianNo (None, 8, 8, 128)         0         \n",
            "_________________________________________________________________\n",
            "activation_2 (Activation)    (None, 8, 8, 128)         0         \n",
            "_________________________________________________________________\n",
            "max_pooling2d_2 (MaxPooling2 (None, 4, 4, 128)         0         \n",
            "_________________________________________________________________\n",
            "conv2d_3 (Conv2D)            (None, 4, 4, 256)         295168    \n",
            "_________________________________________________________________\n",
            "batch_normalization_3 (Batch (None, 4, 4, 256)         1024      \n",
            "_________________________________________________________________\n",
            "gaussian_noise_3 (GaussianNo (None, 4, 4, 256)         0         \n",
            "_________________________________________________________________\n",
            "activation_3 (Activation)    (None, 4, 4, 256)         0         \n",
            "_________________________________________________________________\n",
            "max_pooling2d_3 (MaxPooling2 (None, 2, 2, 256)         0         \n",
            "_________________________________________________________________\n",
            "conv2d_4 (Conv2D)            (None, 2, 2, 512)         1180160   \n",
            "_________________________________________________________________\n",
            "batch_normalization_4 (Batch (None, 2, 2, 512)         2048      \n",
            "_________________________________________________________________\n",
            "gaussian_noise_4 (GaussianNo (None, 2, 2, 512)         0         \n",
            "_________________________________________________________________\n",
            "activation_4 (Activation)    (None, 2, 2, 512)         0         \n",
            "_________________________________________________________________\n",
            "max_pooling2d_4 (MaxPooling2 (None, 1, 1, 512)         0         \n",
            "_________________________________________________________________\n",
            "flatten (Flatten)            (None, 512)               0         \n",
            "_________________________________________________________________\n",
            "dense (Dense)                (None, 512)               262656    \n",
            "_________________________________________________________________\n",
            "activation_5 (Activation)    (None, 512)               0         \n",
            "_________________________________________________________________\n",
            "dense_1 (Dense)              (None, 10)                5130      \n",
            "_________________________________________________________________\n",
            "activation_6 (Activation)    (None, 10)                0         \n",
            "=================================================================\n",
            "Total params: 1,840,330\n",
            "Trainable params: 1,838,346\n",
            "Non-trainable params: 1,984\n",
            "_________________________________________________________________\n"
          ],
          "name": "stdout"
        }
      ]
    },
    {
      "cell_type": "markdown",
      "metadata": {
        "id": "dkDjl8exTTDZ"
      },
      "source": [
        "Define an optimizer "
      ]
    },
    {
      "cell_type": "code",
      "metadata": {
        "id": "LTRuAT1FTTOw",
        "colab": {
          "base_uri": "https://localhost:8080/"
        },
        "outputId": "4f919f69-6c8b-4335-b09f-a24ac63ce93a"
      },
      "source": [
        "opt = SGD(lr=0.1, decay=1e-6)"
      ],
      "execution_count": null,
      "outputs": [
        {
          "output_type": "stream",
          "text": [
            "/usr/local/lib/python3.7/dist-packages/tensorflow/python/keras/optimizer_v2/optimizer_v2.py:375: UserWarning: The `lr` argument is deprecated, use `learning_rate` instead.\n",
            "  \"The `lr` argument is deprecated, use `learning_rate` instead.\")\n"
          ],
          "name": "stderr"
        }
      ]
    },
    {
      "cell_type": "markdown",
      "metadata": {
        "id": "SmhjZqVhfV18"
      },
      "source": [
        "DEFINE A LEARNING RATE SCHEDULER"
      ]
    },
    {
      "cell_type": "code",
      "metadata": {
        "id": "vjGe1KAwfV7F"
      },
      "source": [
        "def scheduler(epoch):\n",
        "    if epoch < 25:\n",
        "        return .1\n",
        "    elif epoch < 50:\n",
        "        return 0.01\n",
        "    else:\n",
        "        return 0.001\n",
        "\n",
        "# Callbacks\n",
        "set_lr = LRS(scheduler)\n",
        "es = keras.callbacks.EarlyStopping(monitor='loss', patience=3)"
      ],
      "execution_count": null,
      "outputs": []
    },
    {
      "cell_type": "markdown",
      "metadata": {
        "id": "bHhBHWFjTTYy"
      },
      "source": [
        "Compile the model, define loss and link the optimizer"
      ]
    },
    {
      "cell_type": "code",
      "metadata": {
        "id": "8W8KCPtcTTii"
      },
      "source": [
        "model.compile(loss='categorical_crossentropy',\n",
        "              optimizer=opt,\n",
        "              metrics=['accuracy'])"
      ],
      "execution_count": null,
      "outputs": []
    },
    {
      "cell_type": "markdown",
      "metadata": {
        "id": "HBOKdV6MTTtA"
      },
      "source": [
        "Finally, train the model and evaluate over the test data"
      ]
    },
    {
      "cell_type": "code",
      "metadata": {
        "id": "gLPsSdVDTT37",
        "colab": {
          "base_uri": "https://localhost:8080/"
        },
        "outputId": "5d96788f-f366-4bbf-edd2-cb669b2fa81f"
      },
      "source": [
        "history=model.fit(datagen.flow(x_train, y_train,batch_size=batch_size),\n",
        "                  steps_per_epoch=len(x_train) / batch_size, \n",
        "                  epochs=epochs,\n",
        "                  validation_data=(x_test, y_test),\n",
        "                  callbacks=[set_lr, es],\n",
        "                  verbose=1)\n",
        "\n",
        "# Evaluate over test\n",
        "score = model.evaluate(x_test, y_test, verbose=0)\n",
        "\n",
        "\n",
        "print('Test loss:', score[0])\n",
        "print('Test accuracy:', score[1])"
      ],
      "execution_count": null,
      "outputs": [
        {
          "output_type": "stream",
          "text": [
            "Epoch 1/75\n",
            "500/500 [==============================] - 70s 47ms/step - loss: 2.0458 - accuracy: 0.3237 - val_loss: 1.4334 - val_accuracy: 0.4705\n",
            "Epoch 2/75\n",
            "500/500 [==============================] - 23s 46ms/step - loss: 1.4190 - accuracy: 0.4824 - val_loss: 2.0103 - val_accuracy: 0.3688\n",
            "Epoch 3/75\n",
            "500/500 [==============================] - 23s 46ms/step - loss: 1.2504 - accuracy: 0.5481 - val_loss: 1.4835 - val_accuracy: 0.5243\n",
            "Epoch 4/75\n",
            "500/500 [==============================] - 23s 45ms/step - loss: 1.1228 - accuracy: 0.5950 - val_loss: 1.5252 - val_accuracy: 0.5233\n",
            "Epoch 5/75\n",
            "500/500 [==============================] - 23s 45ms/step - loss: 1.0447 - accuracy: 0.6261 - val_loss: 1.2402 - val_accuracy: 0.5715\n",
            "Epoch 6/75\n",
            "500/500 [==============================] - 22s 45ms/step - loss: 0.9764 - accuracy: 0.6513 - val_loss: 1.9371 - val_accuracy: 0.5093\n",
            "Epoch 7/75\n",
            "500/500 [==============================] - 23s 45ms/step - loss: 0.9146 - accuracy: 0.6760 - val_loss: 1.1191 - val_accuracy: 0.6253\n",
            "Epoch 8/75\n",
            "500/500 [==============================] - 22s 45ms/step - loss: 0.8718 - accuracy: 0.6935 - val_loss: 1.4043 - val_accuracy: 0.5862\n",
            "Epoch 9/75\n",
            "500/500 [==============================] - 23s 46ms/step - loss: 0.8357 - accuracy: 0.7051 - val_loss: 0.7635 - val_accuracy: 0.7346\n",
            "Epoch 10/75\n",
            "500/500 [==============================] - 23s 45ms/step - loss: 0.8083 - accuracy: 0.7120 - val_loss: 0.8558 - val_accuracy: 0.7131\n",
            "Epoch 11/75\n",
            "500/500 [==============================] - 23s 45ms/step - loss: 0.7745 - accuracy: 0.7264 - val_loss: 0.9576 - val_accuracy: 0.6977\n",
            "Epoch 12/75\n",
            "500/500 [==============================] - 23s 46ms/step - loss: 0.7433 - accuracy: 0.7398 - val_loss: 0.7559 - val_accuracy: 0.7438\n",
            "Epoch 13/75\n",
            "500/500 [==============================] - 23s 46ms/step - loss: 0.7221 - accuracy: 0.7477 - val_loss: 0.7749 - val_accuracy: 0.7442\n",
            "Epoch 14/75\n",
            "500/500 [==============================] - 22s 45ms/step - loss: 0.6993 - accuracy: 0.7524 - val_loss: 0.9185 - val_accuracy: 0.7057\n",
            "Epoch 15/75\n",
            "500/500 [==============================] - 23s 45ms/step - loss: 0.6894 - accuracy: 0.7597 - val_loss: 1.0973 - val_accuracy: 0.6731\n",
            "Epoch 16/75\n",
            "500/500 [==============================] - 23s 45ms/step - loss: 0.6654 - accuracy: 0.7688 - val_loss: 0.6470 - val_accuracy: 0.7785\n",
            "Epoch 17/75\n",
            "500/500 [==============================] - 23s 45ms/step - loss: 0.6490 - accuracy: 0.7725 - val_loss: 0.7757 - val_accuracy: 0.7480\n",
            "Epoch 18/75\n",
            "500/500 [==============================] - 23s 45ms/step - loss: 0.6279 - accuracy: 0.7795 - val_loss: 0.6991 - val_accuracy: 0.7756\n",
            "Epoch 19/75\n",
            "500/500 [==============================] - 22s 45ms/step - loss: 0.6241 - accuracy: 0.7839 - val_loss: 0.6725 - val_accuracy: 0.7790\n",
            "Epoch 20/75\n",
            "500/500 [==============================] - 23s 46ms/step - loss: 0.6104 - accuracy: 0.7858 - val_loss: 0.6624 - val_accuracy: 0.7765\n",
            "Epoch 21/75\n",
            "500/500 [==============================] - 22s 45ms/step - loss: 0.5924 - accuracy: 0.7919 - val_loss: 0.5886 - val_accuracy: 0.8027\n",
            "Epoch 22/75\n",
            "500/500 [==============================] - 23s 46ms/step - loss: 0.5775 - accuracy: 0.7987 - val_loss: 0.8351 - val_accuracy: 0.7373\n",
            "Epoch 23/75\n",
            "500/500 [==============================] - 23s 46ms/step - loss: 0.5724 - accuracy: 0.7993 - val_loss: 0.6378 - val_accuracy: 0.7908\n",
            "Epoch 24/75\n",
            "500/500 [==============================] - 23s 46ms/step - loss: 0.5603 - accuracy: 0.8029 - val_loss: 0.6867 - val_accuracy: 0.7801\n",
            "Epoch 25/75\n",
            "500/500 [==============================] - 23s 45ms/step - loss: 0.5554 - accuracy: 0.8037 - val_loss: 0.6797 - val_accuracy: 0.7851\n",
            "Epoch 26/75\n",
            "500/500 [==============================] - 23s 45ms/step - loss: 0.4947 - accuracy: 0.8259 - val_loss: 0.5172 - val_accuracy: 0.8269\n",
            "Epoch 27/75\n",
            "500/500 [==============================] - 23s 46ms/step - loss: 0.4717 - accuracy: 0.8353 - val_loss: 0.5049 - val_accuracy: 0.8313\n",
            "Epoch 28/75\n",
            "500/500 [==============================] - 23s 45ms/step - loss: 0.4538 - accuracy: 0.8392 - val_loss: 0.5154 - val_accuracy: 0.8301\n",
            "Epoch 29/75\n",
            "500/500 [==============================] - 23s 46ms/step - loss: 0.4528 - accuracy: 0.8405 - val_loss: 0.5258 - val_accuracy: 0.8274\n",
            "Epoch 30/75\n",
            "500/500 [==============================] - 22s 45ms/step - loss: 0.4515 - accuracy: 0.8424 - val_loss: 0.5080 - val_accuracy: 0.8321\n",
            "Epoch 31/75\n",
            "500/500 [==============================] - 23s 46ms/step - loss: 0.4355 - accuracy: 0.8463 - val_loss: 0.5209 - val_accuracy: 0.8303\n",
            "Epoch 32/75\n",
            "500/500 [==============================] - 22s 45ms/step - loss: 0.4397 - accuracy: 0.8432 - val_loss: 0.5042 - val_accuracy: 0.8333\n",
            "Epoch 33/75\n",
            "500/500 [==============================] - 23s 45ms/step - loss: 0.4445 - accuracy: 0.8443 - val_loss: 0.5085 - val_accuracy: 0.8315\n",
            "Epoch 34/75\n",
            "500/500 [==============================] - 23s 45ms/step - loss: 0.4193 - accuracy: 0.8523 - val_loss: 0.5224 - val_accuracy: 0.8306\n",
            "Epoch 35/75\n",
            "500/500 [==============================] - 23s 46ms/step - loss: 0.4393 - accuracy: 0.8448 - val_loss: 0.5039 - val_accuracy: 0.8352\n",
            "Epoch 36/75\n",
            "500/500 [==============================] - 23s 45ms/step - loss: 0.4295 - accuracy: 0.8488 - val_loss: 0.5129 - val_accuracy: 0.8314\n",
            "Epoch 37/75\n",
            "500/500 [==============================] - 23s 45ms/step - loss: 0.4266 - accuracy: 0.8509 - val_loss: 0.4960 - val_accuracy: 0.8367\n",
            "Epoch 38/75\n",
            "500/500 [==============================] - 23s 45ms/step - loss: 0.4278 - accuracy: 0.8515 - val_loss: 0.5273 - val_accuracy: 0.8284\n",
            "Epoch 39/75\n",
            "500/500 [==============================] - 23s 46ms/step - loss: 0.4182 - accuracy: 0.8517 - val_loss: 0.4891 - val_accuracy: 0.8407\n",
            "Epoch 40/75\n",
            "500/500 [==============================] - 23s 46ms/step - loss: 0.4257 - accuracy: 0.8477 - val_loss: 0.5141 - val_accuracy: 0.8335\n",
            "Epoch 41/75\n",
            "500/500 [==============================] - 23s 46ms/step - loss: 0.4199 - accuracy: 0.8505 - val_loss: 0.4860 - val_accuracy: 0.8368\n",
            "Epoch 42/75\n",
            "500/500 [==============================] - 23s 46ms/step - loss: 0.4222 - accuracy: 0.8505 - val_loss: 0.5004 - val_accuracy: 0.8354\n",
            "Epoch 43/75\n",
            "500/500 [==============================] - 23s 45ms/step - loss: 0.4133 - accuracy: 0.8547 - val_loss: 0.5500 - val_accuracy: 0.8226\n",
            "Epoch 44/75\n",
            "500/500 [==============================] - 23s 46ms/step - loss: 0.4148 - accuracy: 0.8547 - val_loss: 0.5022 - val_accuracy: 0.8380\n",
            "Epoch 45/75\n",
            "500/500 [==============================] - 23s 46ms/step - loss: 0.4102 - accuracy: 0.8553 - val_loss: 0.4847 - val_accuracy: 0.8395\n",
            "Epoch 46/75\n",
            "500/500 [==============================] - 23s 45ms/step - loss: 0.4089 - accuracy: 0.8558 - val_loss: 0.4880 - val_accuracy: 0.8395\n",
            "Epoch 47/75\n",
            "500/500 [==============================] - 23s 46ms/step - loss: 0.4075 - accuracy: 0.8564 - val_loss: 0.5058 - val_accuracy: 0.8355\n",
            "Epoch 48/75\n",
            "500/500 [==============================] - 23s 45ms/step - loss: 0.4061 - accuracy: 0.8556 - val_loss: 0.5121 - val_accuracy: 0.8315\n",
            "Epoch 49/75\n",
            "500/500 [==============================] - 23s 46ms/step - loss: 0.4099 - accuracy: 0.8549 - val_loss: 0.5133 - val_accuracy: 0.8333\n",
            "Epoch 50/75\n",
            "500/500 [==============================] - 23s 45ms/step - loss: 0.4081 - accuracy: 0.8544 - val_loss: 0.4944 - val_accuracy: 0.8388\n",
            "Epoch 51/75\n",
            "500/500 [==============================] - 23s 46ms/step - loss: 0.4035 - accuracy: 0.8583 - val_loss: 0.4856 - val_accuracy: 0.8410\n",
            "Epoch 52/75\n",
            "500/500 [==============================] - 23s 46ms/step - loss: 0.4016 - accuracy: 0.8599 - val_loss: 0.4824 - val_accuracy: 0.8417\n",
            "Epoch 53/75\n",
            "500/500 [==============================] - 23s 46ms/step - loss: 0.3993 - accuracy: 0.8595 - val_loss: 0.4862 - val_accuracy: 0.8403\n",
            "Epoch 54/75\n",
            "500/500 [==============================] - 23s 46ms/step - loss: 0.4034 - accuracy: 0.8580 - val_loss: 0.4836 - val_accuracy: 0.8413\n",
            "Epoch 55/75\n",
            "500/500 [==============================] - 23s 46ms/step - loss: 0.3962 - accuracy: 0.8618 - val_loss: 0.4863 - val_accuracy: 0.8414\n",
            "Epoch 56/75\n",
            "500/500 [==============================] - 23s 46ms/step - loss: 0.3878 - accuracy: 0.8640 - val_loss: 0.4864 - val_accuracy: 0.8410\n",
            "Epoch 57/75\n",
            "500/500 [==============================] - 23s 46ms/step - loss: 0.4019 - accuracy: 0.8580 - val_loss: 0.4829 - val_accuracy: 0.8415\n",
            "Epoch 58/75\n",
            "500/500 [==============================] - 23s 46ms/step - loss: 0.3973 - accuracy: 0.8575 - val_loss: 0.4825 - val_accuracy: 0.8420\n",
            "Epoch 59/75\n",
            "500/500 [==============================] - 23s 46ms/step - loss: 0.3929 - accuracy: 0.8637 - val_loss: 0.4786 - val_accuracy: 0.8426\n",
            "Test loss: 0.47858378291130066\n",
            "Test accuracy: 0.8425999879837036\n"
          ],
          "name": "stdout"
        }
      ]
    },
    {
      "cell_type": "code",
      "metadata": {
        "id": "9_oBDiZbbO0G",
        "colab": {
          "base_uri": "https://localhost:8080/"
        },
        "outputId": "f913148e-0772-4ff5-8366-1706e03eda02"
      },
      "source": [
        "print(history.history.keys())"
      ],
      "execution_count": null,
      "outputs": [
        {
          "output_type": "stream",
          "text": [
            "dict_keys(['loss', 'accuracy', 'val_loss', 'val_accuracy', 'lr'])\n"
          ],
          "name": "stdout"
        }
      ]
    },
    {
      "cell_type": "code",
      "metadata": {
        "id": "K4uLWmxCbaq9"
      },
      "source": [
        "import matplotlib.pyplot as plt"
      ],
      "execution_count": null,
      "outputs": []
    },
    {
      "cell_type": "code",
      "metadata": {
        "id": "1wlYhPH9bcz9",
        "colab": {
          "base_uri": "https://localhost:8080/",
          "height": 295
        },
        "outputId": "ccf5ecd2-e95a-4021-d9a3-4a249dee9862"
      },
      "source": [
        "plt.plot(history.history['accuracy'])\n",
        "plt.plot(history.history['val_accuracy'])\n",
        "plt.title('model accuracy')\n",
        "plt.ylabel('accuracy')\n",
        "plt.xlabel('epoch')\n",
        "plt.legend(['train', 'test'], loc='upper left')\n",
        "plt.show()"
      ],
      "execution_count": null,
      "outputs": [
        {
          "output_type": "display_data",
          "data": {
            "image/png": "[encoded data removed]",
            "text/plain": [
              "<Figure size 432x288 with 1 Axes>"
            ]
          },
          "metadata": {
            "tags": [],
            "needs_background": "light"
          }
        }
      ]
    }
  ]
}