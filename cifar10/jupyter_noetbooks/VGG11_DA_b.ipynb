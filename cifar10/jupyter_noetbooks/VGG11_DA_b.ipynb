{
  "nbformat": 4,
  "nbformat_minor": 0,
  "metadata": {
    "colab": {
      "name": "VGG11_DA_b.ipynb",
      "provenance": [],
      "collapsed_sections": []
    },
    "kernelspec": {
      "name": "python3",
      "display_name": "Python 3"
    },
    "accelerator": "GPU"
  },
  "cells": [
    {
      "cell_type": "markdown",
      "metadata": {
        "id": "ORvwib-YSR-p"
      },
      "source": [
        "CIFAR10 - VGG11 solution"
      ]
    },
    {
      "cell_type": "markdown",
      "metadata": {
        "id": "0YRXPjE-Sf1a"
      },
      "source": [
        "Install Keras just in case..."
      ]
    },
    {
      "cell_type": "code",
      "metadata": {
        "id": "MhsFJNHpSSKE",
        "colab": {
          "base_uri": "https://localhost:8080/"
        },
        "outputId": "e7a66bc3-9636-49f7-c70f-20908a637eae"
      },
      "source": [
        "!pip3 install keras"
      ],
      "execution_count": 15,
      "outputs": [
        {
          "output_type": "stream",
          "text": [
            "Requirement already satisfied: keras in /usr/local/lib/python3.7/dist-packages (2.4.3)\n",
            "Requirement already satisfied: h5py in /usr/local/lib/python3.7/dist-packages (from keras) (3.1.0)\n",
            "Requirement already satisfied: pyyaml in /usr/local/lib/python3.7/dist-packages (from keras) (3.13)\n",
            "Requirement already satisfied: numpy>=1.9.1 in /usr/local/lib/python3.7/dist-packages (from keras) (1.19.5)\n",
            "Requirement already satisfied: scipy>=0.14 in /usr/local/lib/python3.7/dist-packages (from keras) (1.4.1)\n",
            "Requirement already satisfied: cached-property; python_version < \"3.8\" in /usr/local/lib/python3.7/dist-packages (from h5py->keras) (1.5.2)\n"
          ],
          "name": "stdout"
        }
      ]
    },
    {
      "cell_type": "markdown",
      "metadata": {
        "id": "CGX8RGwHSSTr"
      },
      "source": [
        "Imports..."
      ]
    },
    {
      "cell_type": "code",
      "metadata": {
        "id": "D8qeBuPiSSdc"
      },
      "source": [
        "from __future__ import print_function\n",
        "import keras\n",
        "from keras.datasets import cifar10\n",
        "from keras.models import Sequential\n",
        "from keras.layers import Dense, Dropout, Activation, Flatten\n",
        "from keras.layers import Conv2D, MaxPooling2D\n",
        "from keras.layers.normalization import BatchNormalization as BN\n",
        "from keras.layers import GaussianNoise as GN\n",
        "from keras.optimizers import SGD\n",
        "\n",
        "from keras.callbacks import LearningRateScheduler as LRS\n",
        "from keras.preprocessing.image import ImageDataGenerator"
      ],
      "execution_count": 16,
      "outputs": []
    },
    {
      "cell_type": "markdown",
      "metadata": {
        "id": "-M9uBGifSSqd"
      },
      "source": [
        "Define batch size, number of epochs and number of classes\n"
      ]
    },
    {
      "cell_type": "code",
      "metadata": {
        "id": "iaWFWm8mSTBj"
      },
      "source": [
        "batch_size = 100\n",
        "num_classes = 10\n",
        "epochs = 75"
      ],
      "execution_count": 17,
      "outputs": []
    },
    {
      "cell_type": "markdown",
      "metadata": {
        "id": "IKwjPVkoSTLr"
      },
      "source": [
        "Load MNIST and transform"
      ]
    },
    {
      "cell_type": "code",
      "metadata": {
        "id": "fZ9D1F8FSTWW",
        "colab": {
          "base_uri": "https://localhost:8080/"
        },
        "outputId": "d642b0ec-db98-4bc9-a820-e2f3afa54c5a"
      },
      "source": [
        "(x_train, y_train), (x_test, y_test) = cifar10.load_data()\n",
        "\n",
        "x_train = x_train.astype('float32')\n",
        "x_test = x_test.astype('float32')\n",
        "\n",
        "x_train /= 255\n",
        "x_test /= 255\n",
        "\n",
        "print(x_train.shape)\n",
        "print(x_test.shape)\n",
        "\n",
        "y_train = keras.utils.np_utils.to_categorical(y_train, num_classes)\n",
        "y_test = keras.utils.np_utils.to_categorical(y_test, num_classes)"
      ],
      "execution_count": 18,
      "outputs": [
        {
          "output_type": "stream",
          "text": [
            "(50000, 32, 32, 3)\n",
            "(10000, 32, 32, 3)\n"
          ],
          "name": "stdout"
        }
      ]
    },
    {
      "cell_type": "markdown",
      "metadata": {
        "id": "bjwRXtmOejax"
      },
      "source": [
        "DEFINE A DATA AUGMENTATION GENERATOR\n",
        "\n",
        "> Bloque con sangría\n",
        "\n"
      ]
    },
    {
      "cell_type": "code",
      "metadata": {
        "id": "w0CgF6jTejyx"
      },
      "source": [
        "## Data Augmentation with an ImageGenerator\n",
        "datagen = ImageDataGenerator(\n",
        "    width_shift_range=0.1,\n",
        "    height_shift_range=0.1,\n",
        "    horizontal_flip=True,\n",
        "    zoom_range=0.3,\n",
        "    rotation_range=45,\n",
        "    vertical_flip=False)"
      ],
      "execution_count": 19,
      "outputs": []
    },
    {
      "cell_type": "markdown",
      "metadata": {
        "id": "C7xGHEMSeqOW"
      },
      "source": [
        "DEF A BLOCK CONV + BN + GN"
      ]
    },
    {
      "cell_type": "code",
      "metadata": {
        "id": "avYg0aMmeqS_"
      },
      "source": [
        "def CBGN(model,filters,ishape=0):\n",
        "  if (ishape!=0):\n",
        "    model.add(Conv2D(filters, (3, 3), padding='same',\n",
        "                 input_shape=ishape))\n",
        "  else:\n",
        "    model.add(Conv2D(filters, (3, 3), padding='same'))\n",
        "  \n",
        "  model.add(BN())\n",
        "  model.add(GN(0.3))\n",
        "  model.add(Activation('relu'))  \n",
        "  \n",
        "  return model"
      ],
      "execution_count": 20,
      "outputs": []
    },
    {
      "cell_type": "markdown",
      "metadata": {
        "id": "24bIWSBXSThW"
      },
      "source": [
        "Define the NN topology, a sequential model with 2 hidden layers"
      ]
    },
    {
      "cell_type": "code",
      "metadata": {
        "id": "pFy6tdc0STtb",
        "colab": {
          "base_uri": "https://localhost:8080/"
        },
        "outputId": "f6b07ec4-102c-4b4d-918f-5be186fe6185"
      },
      "source": [
        "model = Sequential()\n",
        "\n",
        "model=CBGN(model,64,x_train.shape[1:])\n",
        "model.add(MaxPooling2D(pool_size=(2, 2)))\n",
        "\n",
        "model=CBGN(model,128)\n",
        "model.add(MaxPooling2D(pool_size=(2, 2)))\n",
        "\n",
        "model=CBGN(model,256)\n",
        "model=CBGN(model,256)\n",
        "model.add(MaxPooling2D(pool_size=(2, 2)))\n",
        "\n",
        "model=CBGN(model,512)\n",
        "model=CBGN(model,512)\n",
        "model.add(MaxPooling2D(pool_size=(2, 2)))\n",
        "\n",
        "model=CBGN(model,512)\n",
        "model=CBGN(model,512)\n",
        "model.add(MaxPooling2D(pool_size=(2, 2)))\n",
        "\n",
        "model.add(Flatten())\n",
        "model.add(Dense(4096))\n",
        "model.add(Activation('relu'))\n",
        "\n",
        "model.add(Flatten())\n",
        "model.add(Dense(4096))\n",
        "model.add(Activation('relu'))\n",
        "\n",
        "model.add(Flatten())\n",
        "model.add(Dense(1000))\n",
        "model.add(Activation('relu'))\n",
        "\n",
        "model.add(Dense(num_classes))\n",
        "model.add(Activation('softmax'))\n",
        "\n",
        "\n",
        "model.summary()"
      ],
      "execution_count": 21,
      "outputs": [
        {
          "output_type": "stream",
          "text": [
            "Model: \"sequential_1\"\n",
            "_________________________________________________________________\n",
            "Layer (type)                 Output Shape              Param #   \n",
            "=================================================================\n",
            "conv2d_8 (Conv2D)            (None, 32, 32, 64)        1792      \n",
            "_________________________________________________________________\n",
            "batch_normalization_8 (Batch (None, 32, 32, 64)        256       \n",
            "_________________________________________________________________\n",
            "gaussian_noise_8 (GaussianNo (None, 32, 32, 64)        0         \n",
            "_________________________________________________________________\n",
            "activation_12 (Activation)   (None, 32, 32, 64)        0         \n",
            "_________________________________________________________________\n",
            "max_pooling2d_5 (MaxPooling2 (None, 16, 16, 64)        0         \n",
            "_________________________________________________________________\n",
            "conv2d_9 (Conv2D)            (None, 16, 16, 128)       73856     \n",
            "_________________________________________________________________\n",
            "batch_normalization_9 (Batch (None, 16, 16, 128)       512       \n",
            "_________________________________________________________________\n",
            "gaussian_noise_9 (GaussianNo (None, 16, 16, 128)       0         \n",
            "_________________________________________________________________\n",
            "activation_13 (Activation)   (None, 16, 16, 128)       0         \n",
            "_________________________________________________________________\n",
            "max_pooling2d_6 (MaxPooling2 (None, 8, 8, 128)         0         \n",
            "_________________________________________________________________\n",
            "conv2d_10 (Conv2D)           (None, 8, 8, 256)         295168    \n",
            "_________________________________________________________________\n",
            "batch_normalization_10 (Batc (None, 8, 8, 256)         1024      \n",
            "_________________________________________________________________\n",
            "gaussian_noise_10 (GaussianN (None, 8, 8, 256)         0         \n",
            "_________________________________________________________________\n",
            "activation_14 (Activation)   (None, 8, 8, 256)         0         \n",
            "_________________________________________________________________\n",
            "conv2d_11 (Conv2D)           (None, 8, 8, 256)         590080    \n",
            "_________________________________________________________________\n",
            "batch_normalization_11 (Batc (None, 8, 8, 256)         1024      \n",
            "_________________________________________________________________\n",
            "gaussian_noise_11 (GaussianN (None, 8, 8, 256)         0         \n",
            "_________________________________________________________________\n",
            "activation_15 (Activation)   (None, 8, 8, 256)         0         \n",
            "_________________________________________________________________\n",
            "max_pooling2d_7 (MaxPooling2 (None, 4, 4, 256)         0         \n",
            "_________________________________________________________________\n",
            "conv2d_12 (Conv2D)           (None, 4, 4, 512)         1180160   \n",
            "_________________________________________________________________\n",
            "batch_normalization_12 (Batc (None, 4, 4, 512)         2048      \n",
            "_________________________________________________________________\n",
            "gaussian_noise_12 (GaussianN (None, 4, 4, 512)         0         \n",
            "_________________________________________________________________\n",
            "activation_16 (Activation)   (None, 4, 4, 512)         0         \n",
            "_________________________________________________________________\n",
            "conv2d_13 (Conv2D)           (None, 4, 4, 512)         2359808   \n",
            "_________________________________________________________________\n",
            "batch_normalization_13 (Batc (None, 4, 4, 512)         2048      \n",
            "_________________________________________________________________\n",
            "gaussian_noise_13 (GaussianN (None, 4, 4, 512)         0         \n",
            "_________________________________________________________________\n",
            "activation_17 (Activation)   (None, 4, 4, 512)         0         \n",
            "_________________________________________________________________\n",
            "max_pooling2d_8 (MaxPooling2 (None, 2, 2, 512)         0         \n",
            "_________________________________________________________________\n",
            "conv2d_14 (Conv2D)           (None, 2, 2, 512)         2359808   \n",
            "_________________________________________________________________\n",
            "batch_normalization_14 (Batc (None, 2, 2, 512)         2048      \n",
            "_________________________________________________________________\n",
            "gaussian_noise_14 (GaussianN (None, 2, 2, 512)         0         \n",
            "_________________________________________________________________\n",
            "activation_18 (Activation)   (None, 2, 2, 512)         0         \n",
            "_________________________________________________________________\n",
            "conv2d_15 (Conv2D)           (None, 2, 2, 512)         2359808   \n",
            "_________________________________________________________________\n",
            "batch_normalization_15 (Batc (None, 2, 2, 512)         2048      \n",
            "_________________________________________________________________\n",
            "gaussian_noise_15 (GaussianN (None, 2, 2, 512)         0         \n",
            "_________________________________________________________________\n",
            "activation_19 (Activation)   (None, 2, 2, 512)         0         \n",
            "_________________________________________________________________\n",
            "max_pooling2d_9 (MaxPooling2 (None, 1, 1, 512)         0         \n",
            "_________________________________________________________________\n",
            "flatten_3 (Flatten)          (None, 512)               0         \n",
            "_________________________________________________________________\n",
            "dense_4 (Dense)              (None, 4096)              2101248   \n",
            "_________________________________________________________________\n",
            "activation_20 (Activation)   (None, 4096)              0         \n",
            "_________________________________________________________________\n",
            "flatten_4 (Flatten)          (None, 4096)              0         \n",
            "_________________________________________________________________\n",
            "dense_5 (Dense)              (None, 4096)              16781312  \n",
            "_________________________________________________________________\n",
            "activation_21 (Activation)   (None, 4096)              0         \n",
            "_________________________________________________________________\n",
            "flatten_5 (Flatten)          (None, 4096)              0         \n",
            "_________________________________________________________________\n",
            "dense_6 (Dense)              (None, 1000)              4097000   \n",
            "_________________________________________________________________\n",
            "activation_22 (Activation)   (None, 1000)              0         \n",
            "_________________________________________________________________\n",
            "dense_7 (Dense)              (None, 10)                10010     \n",
            "_________________________________________________________________\n",
            "activation_23 (Activation)   (None, 10)                0         \n",
            "=================================================================\n",
            "Total params: 32,221,058\n",
            "Trainable params: 32,215,554\n",
            "Non-trainable params: 5,504\n",
            "_________________________________________________________________\n"
          ],
          "name": "stdout"
        }
      ]
    },
    {
      "cell_type": "markdown",
      "metadata": {
        "id": "dkDjl8exTTDZ"
      },
      "source": [
        "Define an optimizer "
      ]
    },
    {
      "cell_type": "code",
      "metadata": {
        "id": "LTRuAT1FTTOw",
        "colab": {
          "base_uri": "https://localhost:8080/"
        },
        "outputId": "cc798f4f-0a64-4179-fa44-9f0e030c6add"
      },
      "source": [
        "opt = SGD(lr=0.1, decay=1e-6)"
      ],
      "execution_count": 22,
      "outputs": [
        {
          "output_type": "stream",
          "text": [
            "/usr/local/lib/python3.7/dist-packages/tensorflow/python/keras/optimizer_v2/optimizer_v2.py:375: UserWarning: The `lr` argument is deprecated, use `learning_rate` instead.\n",
            "  \"The `lr` argument is deprecated, use `learning_rate` instead.\")\n"
          ],
          "name": "stderr"
        }
      ]
    },
    {
      "cell_type": "markdown",
      "metadata": {
        "id": "SmhjZqVhfV18"
      },
      "source": [
        "DEFINE A LEARNING RATE SCHEDULER"
      ]
    },
    {
      "cell_type": "code",
      "metadata": {
        "id": "vjGe1KAwfV7F"
      },
      "source": [
        "def scheduler(epoch):\n",
        "    if epoch < 25:\n",
        "        return .1\n",
        "    elif epoch < 50:\n",
        "        return 0.01\n",
        "    else:\n",
        "        return 0.001\n",
        "\n",
        "# Callbacks\n",
        "set_lr = LRS(scheduler)\n",
        "es = keras.callbacks.EarlyStopping(monitor='loss', patience=3)"
      ],
      "execution_count": 23,
      "outputs": []
    },
    {
      "cell_type": "markdown",
      "metadata": {
        "id": "bHhBHWFjTTYy"
      },
      "source": [
        "Compile the model, define loss and link the optimizer"
      ]
    },
    {
      "cell_type": "code",
      "metadata": {
        "id": "8W8KCPtcTTii"
      },
      "source": [
        "model.compile(loss='categorical_crossentropy',\n",
        "              optimizer=opt,\n",
        "              metrics=['accuracy'])"
      ],
      "execution_count": 24,
      "outputs": []
    },
    {
      "cell_type": "markdown",
      "metadata": {
        "id": "HBOKdV6MTTtA"
      },
      "source": [
        "Finally, train the model and evaluate over the test data"
      ]
    },
    {
      "cell_type": "code",
      "metadata": {
        "id": "gLPsSdVDTT37",
        "colab": {
          "base_uri": "https://localhost:8080/"
        },
        "outputId": "445b3969-7687-4b79-f0e2-96c316828be7"
      },
      "source": [
        "history=model.fit(datagen.flow(x_train, y_train,batch_size=batch_size),\n",
        "                  steps_per_epoch=len(x_train) / batch_size, \n",
        "                  epochs=epochs,\n",
        "                  validation_data=(x_test, y_test),\n",
        "                  callbacks=[set_lr, es],\n",
        "                  verbose=1)\n",
        "\n",
        "# Evaluate over test\n",
        "score = model.evaluate(x_test, y_test, verbose=0)\n",
        "\n",
        "\n",
        "print('Test loss:', score[0])\n",
        "print('Test accuracy:', score[1])"
      ],
      "execution_count": 25,
      "outputs": [
        {
          "output_type": "stream",
          "text": [
            "Epoch 1/75\n",
            "500/500 [==============================] - 34s 62ms/step - loss: 1.8814 - accuracy: 0.3122 - val_loss: 1.7969 - val_accuracy: 0.3723\n",
            "Epoch 2/75\n",
            "500/500 [==============================] - 30s 60ms/step - loss: 1.4599 - accuracy: 0.4683 - val_loss: 1.2238 - val_accuracy: 0.5575\n",
            "Epoch 3/75\n",
            "500/500 [==============================] - 30s 60ms/step - loss: 1.2900 - accuracy: 0.5365 - val_loss: 1.1443 - val_accuracy: 0.6037\n",
            "Epoch 4/75\n",
            "500/500 [==============================] - 30s 61ms/step - loss: 1.1913 - accuracy: 0.5769 - val_loss: 1.0583 - val_accuracy: 0.6252\n",
            "Epoch 5/75\n",
            "500/500 [==============================] - 30s 61ms/step - loss: 1.1073 - accuracy: 0.6069 - val_loss: 1.6977 - val_accuracy: 0.4959\n",
            "Epoch 6/75\n",
            "500/500 [==============================] - 30s 60ms/step - loss: 1.0422 - accuracy: 0.6322 - val_loss: 1.5505 - val_accuracy: 0.5556\n",
            "Epoch 7/75\n",
            "500/500 [==============================] - 30s 60ms/step - loss: 1.0060 - accuracy: 0.6458 - val_loss: 1.3154 - val_accuracy: 0.5958\n",
            "Epoch 8/75\n",
            "500/500 [==============================] - 30s 60ms/step - loss: 0.9410 - accuracy: 0.6712 - val_loss: 0.9519 - val_accuracy: 0.6719\n",
            "Epoch 9/75\n",
            "500/500 [==============================] - 30s 60ms/step - loss: 0.9080 - accuracy: 0.6805 - val_loss: 0.8893 - val_accuracy: 0.7076\n",
            "Epoch 10/75\n",
            "500/500 [==============================] - 31s 61ms/step - loss: 0.8732 - accuracy: 0.6932 - val_loss: 0.9574 - val_accuracy: 0.6899\n",
            "Epoch 11/75\n",
            "500/500 [==============================] - 30s 60ms/step - loss: 0.8536 - accuracy: 0.7028 - val_loss: 0.8680 - val_accuracy: 0.7112\n",
            "Epoch 12/75\n",
            "500/500 [==============================] - 30s 61ms/step - loss: 0.8157 - accuracy: 0.7138 - val_loss: 0.8586 - val_accuracy: 0.7239\n",
            "Epoch 13/75\n",
            "500/500 [==============================] - 31s 61ms/step - loss: 0.7958 - accuracy: 0.7205 - val_loss: 0.7024 - val_accuracy: 0.7635\n",
            "Epoch 14/75\n",
            "500/500 [==============================] - 30s 60ms/step - loss: 0.7776 - accuracy: 0.7287 - val_loss: 0.9538 - val_accuracy: 0.7052\n",
            "Epoch 15/75\n",
            "500/500 [==============================] - 30s 61ms/step - loss: 0.7530 - accuracy: 0.7372 - val_loss: 0.8866 - val_accuracy: 0.7060\n",
            "Epoch 16/75\n",
            "500/500 [==============================] - 30s 60ms/step - loss: 0.7384 - accuracy: 0.7427 - val_loss: 0.7781 - val_accuracy: 0.7330\n",
            "Epoch 17/75\n",
            "500/500 [==============================] - 31s 62ms/step - loss: 0.7232 - accuracy: 0.7465 - val_loss: 1.0000 - val_accuracy: 0.6973\n",
            "Epoch 18/75\n",
            "500/500 [==============================] - 30s 60ms/step - loss: 0.6991 - accuracy: 0.7579 - val_loss: 0.6819 - val_accuracy: 0.7754\n",
            "Epoch 19/75\n",
            "500/500 [==============================] - 30s 60ms/step - loss: 0.6877 - accuracy: 0.7596 - val_loss: 0.9749 - val_accuracy: 0.7155\n",
            "Epoch 20/75\n",
            "500/500 [==============================] - 30s 60ms/step - loss: 0.6688 - accuracy: 0.7677 - val_loss: 0.6439 - val_accuracy: 0.7826\n",
            "Epoch 21/75\n",
            "500/500 [==============================] - 30s 60ms/step - loss: 0.6627 - accuracy: 0.7660 - val_loss: 0.7005 - val_accuracy: 0.7720\n",
            "Epoch 22/75\n",
            "500/500 [==============================] - 30s 60ms/step - loss: 0.6374 - accuracy: 0.7775 - val_loss: 0.7440 - val_accuracy: 0.7575\n",
            "Epoch 23/75\n",
            "500/500 [==============================] - 30s 60ms/step - loss: 0.6319 - accuracy: 0.7772 - val_loss: 0.7398 - val_accuracy: 0.7614\n",
            "Epoch 24/75\n",
            "500/500 [==============================] - 30s 61ms/step - loss: 0.6182 - accuracy: 0.7847 - val_loss: 0.7272 - val_accuracy: 0.7729\n",
            "Epoch 25/75\n",
            "500/500 [==============================] - 31s 61ms/step - loss: 0.6116 - accuracy: 0.7861 - val_loss: 0.8904 - val_accuracy: 0.7237\n",
            "Epoch 26/75\n",
            "500/500 [==============================] - 31s 62ms/step - loss: 0.5501 - accuracy: 0.8063 - val_loss: 0.5102 - val_accuracy: 0.8320\n",
            "Epoch 27/75\n",
            "500/500 [==============================] - 30s 61ms/step - loss: 0.5100 - accuracy: 0.8213 - val_loss: 0.5125 - val_accuracy: 0.8317\n",
            "Epoch 28/75\n",
            "500/500 [==============================] - 30s 61ms/step - loss: 0.5081 - accuracy: 0.8220 - val_loss: 0.5204 - val_accuracy: 0.8318\n",
            "Epoch 29/75\n",
            "500/500 [==============================] - 30s 61ms/step - loss: 0.4933 - accuracy: 0.8288 - val_loss: 0.5177 - val_accuracy: 0.8323\n",
            "Epoch 30/75\n",
            "500/500 [==============================] - 31s 61ms/step - loss: 0.4887 - accuracy: 0.8290 - val_loss: 0.5107 - val_accuracy: 0.8361\n",
            "Epoch 31/75\n",
            "500/500 [==============================] - 32s 65ms/step - loss: 0.4840 - accuracy: 0.8301 - val_loss: 0.5197 - val_accuracy: 0.8298\n",
            "Epoch 32/75\n",
            "500/500 [==============================] - 31s 62ms/step - loss: 0.4728 - accuracy: 0.8349 - val_loss: 0.5249 - val_accuracy: 0.8307\n",
            "Epoch 33/75\n",
            "500/500 [==============================] - 31s 61ms/step - loss: 0.4788 - accuracy: 0.8335 - val_loss: 0.5021 - val_accuracy: 0.8394\n",
            "Epoch 34/75\n",
            "500/500 [==============================] - 31s 62ms/step - loss: 0.4740 - accuracy: 0.8343 - val_loss: 0.5020 - val_accuracy: 0.8401\n",
            "Epoch 35/75\n",
            "500/500 [==============================] - 31s 62ms/step - loss: 0.4745 - accuracy: 0.8330 - val_loss: 0.5136 - val_accuracy: 0.8353\n",
            "Epoch 36/75\n",
            "500/500 [==============================] - 30s 61ms/step - loss: 0.4679 - accuracy: 0.8344 - val_loss: 0.5094 - val_accuracy: 0.8371\n",
            "Epoch 37/75\n",
            "500/500 [==============================] - 30s 61ms/step - loss: 0.4557 - accuracy: 0.8409 - val_loss: 0.5125 - val_accuracy: 0.8340\n",
            "Epoch 38/75\n",
            "500/500 [==============================] - 31s 62ms/step - loss: 0.4649 - accuracy: 0.8358 - val_loss: 0.5448 - val_accuracy: 0.8269\n",
            "Epoch 39/75\n",
            "500/500 [==============================] - 32s 63ms/step - loss: 0.4554 - accuracy: 0.8395 - val_loss: 0.5021 - val_accuracy: 0.8404\n",
            "Epoch 40/75\n",
            "500/500 [==============================] - 31s 62ms/step - loss: 0.4480 - accuracy: 0.8416 - val_loss: 0.5040 - val_accuracy: 0.8394\n",
            "Epoch 41/75\n",
            "500/500 [==============================] - 31s 62ms/step - loss: 0.4536 - accuracy: 0.8384 - val_loss: 0.4991 - val_accuracy: 0.8399\n",
            "Epoch 42/75\n",
            "500/500 [==============================] - 31s 62ms/step - loss: 0.4517 - accuracy: 0.8405 - val_loss: 0.5013 - val_accuracy: 0.8379\n",
            "Epoch 43/75\n",
            "500/500 [==============================] - 31s 62ms/step - loss: 0.4462 - accuracy: 0.8419 - val_loss: 0.4835 - val_accuracy: 0.8447\n",
            "Epoch 44/75\n",
            "500/500 [==============================] - 31s 63ms/step - loss: 0.4516 - accuracy: 0.8393 - val_loss: 0.4957 - val_accuracy: 0.8422\n",
            "Epoch 45/75\n",
            "500/500 [==============================] - 31s 62ms/step - loss: 0.4497 - accuracy: 0.8423 - val_loss: 0.5144 - val_accuracy: 0.8349\n",
            "Epoch 46/75\n",
            "500/500 [==============================] - 31s 62ms/step - loss: 0.4350 - accuracy: 0.8472 - val_loss: 0.4868 - val_accuracy: 0.8426\n",
            "Epoch 47/75\n",
            "500/500 [==============================] - 31s 62ms/step - loss: 0.4368 - accuracy: 0.8474 - val_loss: 0.5037 - val_accuracy: 0.8367\n",
            "Epoch 48/75\n",
            "500/500 [==============================] - 31s 62ms/step - loss: 0.4392 - accuracy: 0.8453 - val_loss: 0.4955 - val_accuracy: 0.8411\n",
            "Epoch 49/75\n",
            "500/500 [==============================] - 31s 63ms/step - loss: 0.4351 - accuracy: 0.8471 - val_loss: 0.5258 - val_accuracy: 0.8347\n",
            "Epoch 50/75\n",
            "500/500 [==============================] - 31s 63ms/step - loss: 0.4386 - accuracy: 0.8472 - val_loss: 0.4837 - val_accuracy: 0.8439\n",
            "Epoch 51/75\n",
            "500/500 [==============================] - 31s 63ms/step - loss: 0.4267 - accuracy: 0.8497 - val_loss: 0.4760 - val_accuracy: 0.8448\n",
            "Epoch 52/75\n",
            "500/500 [==============================] - 31s 63ms/step - loss: 0.4277 - accuracy: 0.8500 - val_loss: 0.4776 - val_accuracy: 0.8447\n",
            "Epoch 53/75\n",
            "500/500 [==============================] - 32s 64ms/step - loss: 0.4156 - accuracy: 0.8537 - val_loss: 0.4766 - val_accuracy: 0.8455\n",
            "Epoch 54/75\n",
            "500/500 [==============================] - 32s 64ms/step - loss: 0.4281 - accuracy: 0.8507 - val_loss: 0.4768 - val_accuracy: 0.8456\n",
            "Epoch 55/75\n",
            "500/500 [==============================] - 32s 64ms/step - loss: 0.4214 - accuracy: 0.8526 - val_loss: 0.4756 - val_accuracy: 0.8464\n",
            "Epoch 56/75\n",
            "500/500 [==============================] - 32s 63ms/step - loss: 0.4176 - accuracy: 0.8543 - val_loss: 0.4794 - val_accuracy: 0.8459\n",
            "Epoch 57/75\n",
            "500/500 [==============================] - 32s 64ms/step - loss: 0.4232 - accuracy: 0.8508 - val_loss: 0.4813 - val_accuracy: 0.8457\n",
            "Epoch 58/75\n",
            "500/500 [==============================] - 32s 63ms/step - loss: 0.4241 - accuracy: 0.8509 - val_loss: 0.4819 - val_accuracy: 0.8452\n",
            "Epoch 59/75\n",
            "500/500 [==============================] - 32s 63ms/step - loss: 0.4255 - accuracy: 0.8513 - val_loss: 0.4799 - val_accuracy: 0.8448\n",
            "Test loss: 0.47986656427383423\n",
            "Test accuracy: 0.8447999954223633\n"
          ],
          "name": "stdout"
        }
      ]
    },
    {
      "cell_type": "code",
      "metadata": {
        "id": "9_oBDiZbbO0G",
        "colab": {
          "base_uri": "https://localhost:8080/"
        },
        "outputId": "a9c526ed-cf90-4da4-f846-973657666c15"
      },
      "source": [
        "print(history.history.keys())"
      ],
      "execution_count": 26,
      "outputs": [
        {
          "output_type": "stream",
          "text": [
            "dict_keys(['loss', 'accuracy', 'val_loss', 'val_accuracy', 'lr'])\n"
          ],
          "name": "stdout"
        }
      ]
    },
    {
      "cell_type": "code",
      "metadata": {
        "id": "K4uLWmxCbaq9"
      },
      "source": [
        "import matplotlib.pyplot as plt"
      ],
      "execution_count": 27,
      "outputs": []
    },
    {
      "cell_type": "code",
      "metadata": {
        "id": "1wlYhPH9bcz9",
        "colab": {
          "base_uri": "https://localhost:8080/",
          "height": 295
        },
        "outputId": "e1ee0c72-1a42-4175-d1bf-358545f41fe7"
      },
      "source": [
        "plt.plot(history.history['accuracy'])\n",
        "plt.plot(history.history['val_accuracy'])\n",
        "plt.title('model accuracy')\n",
        "plt.ylabel('accuracy')\n",
        "plt.xlabel('epoch')\n",
        "plt.legend(['train', 'test'], loc='upper left')\n",
        "plt.show()"
      ],
      "execution_count": 28,
      "outputs": [
        {
          "output_type": "display_data",
          "data": {
            "image/png": "[encoded data removed]",
            "text/plain": [
              "<Figure size 432x288 with 1 Axes>"
            ]
          },
          "metadata": {
            "tags": [],
            "needs_background": "light"
          }
        }
      ]
    }
  ]
}