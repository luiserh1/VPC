{
  "nbformat": 4,
  "nbformat_minor": 0,
  "metadata": {
    "colab": {
      "name": "WideResnet_K8_NoPreTrained.ipynb",
      "provenance": [],
      "collapsed_sections": []
    },
    "kernelspec": {
      "name": "python3",
      "display_name": "Python 3"
    },
    "accelerator": "GPU"
  },
  "cells": [
    {
      "cell_type": "markdown",
      "metadata": {
        "id": "ORvwib-YSR-p"
      },
      "source": [
        "CIFAR10 - WideResnet solution. Adaptación de https://www.kaggle.com/zjaume/resnet-cifar10"
      ]
    },
    {
      "cell_type": "markdown",
      "metadata": {
        "id": "0YRXPjE-Sf1a"
      },
      "source": [
        "Install Keras just in case..."
      ]
    },
    {
      "cell_type": "code",
      "metadata": {
        "id": "MhsFJNHpSSKE",
        "colab": {
          "base_uri": "https://localhost:8080/"
        },
        "outputId": "adda23f5-b6ba-4f59-ea61-7beb481f0824"
      },
      "source": [
        "!pip3 install keras\n",
        "!pip3 install keras_applications"
      ],
      "execution_count": 152,
      "outputs": [
        {
          "output_type": "stream",
          "text": [
            "Requirement already satisfied: keras in /usr/local/lib/python3.7/dist-packages (2.4.3)\n",
            "Requirement already satisfied: numpy>=1.9.1 in /usr/local/lib/python3.7/dist-packages (from keras) (1.19.5)\n",
            "Requirement already satisfied: h5py in /usr/local/lib/python3.7/dist-packages (from keras) (3.1.0)\n",
            "Requirement already satisfied: pyyaml in /usr/local/lib/python3.7/dist-packages (from keras) (3.13)\n",
            "Requirement already satisfied: scipy>=0.14 in /usr/local/lib/python3.7/dist-packages (from keras) (1.4.1)\n",
            "Requirement already satisfied: cached-property; python_version < \"3.8\" in /usr/local/lib/python3.7/dist-packages (from h5py->keras) (1.5.2)\n",
            "Requirement already satisfied: keras_applications in /usr/local/lib/python3.7/dist-packages (1.0.8)\n",
            "Requirement already satisfied: h5py in /usr/local/lib/python3.7/dist-packages (from keras_applications) (3.1.0)\n",
            "Requirement already satisfied: numpy>=1.9.1 in /usr/local/lib/python3.7/dist-packages (from keras_applications) (1.19.5)\n",
            "Requirement already satisfied: cached-property; python_version < \"3.8\" in /usr/local/lib/python3.7/dist-packages (from h5py->keras_applications) (1.5.2)\n"
          ],
          "name": "stdout"
        }
      ]
    },
    {
      "cell_type": "markdown",
      "metadata": {
        "id": "CGX8RGwHSSTr"
      },
      "source": [
        "Imports..."
      ]
    },
    {
      "cell_type": "code",
      "metadata": {
        "id": "D8qeBuPiSSdc"
      },
      "source": [
        "from __future__ import print_function\n",
        "from __future__ import absolute_import\n",
        "from __future__ import division\n",
        "\n",
        "import warnings\n",
        "\n",
        "from keras.models import Model\n",
        "from keras.layers.core import Dense, Dropout, Activation\n",
        "from keras.layers.pooling import MaxPooling2D, GlobalAveragePooling2D\n",
        "from keras.layers import Input, Conv2D, Add, ZeroPadding2D\n",
        "from keras.layers.normalization import BatchNormalization as  BN\n",
        "from keras.layers.merge import add\n",
        "from keras.utils.data_utils import get_file\n",
        "from keras.engine.topology import get_source_inputs\n",
        "import keras.backend as K\n",
        "from keras_applications.imagenet_utils import _obtain_input_shape\n",
        "from keras import utils\n",
        "\n",
        "import numpy as np\n",
        "\n",
        "from keras.callbacks import LearningRateScheduler as LRS\n",
        "from keras.preprocessing.image import ImageDataGenerator\n",
        "from keras.optimizers import SGD\n",
        "\n",
        "from keras.datasets import cifar10\n",
        "\n",
        "import keras"
      ],
      "execution_count": 153,
      "outputs": []
    },
    {
      "cell_type": "markdown",
      "metadata": {
        "id": "-M9uBGifSSqd"
      },
      "source": [
        "Define batch size, number of epochs and number of classes\n"
      ]
    },
    {
      "cell_type": "code",
      "metadata": {
        "id": "iaWFWm8mSTBj"
      },
      "source": [
        "batch_size = 100\n",
        "num_classes = 10\n",
        "epochs = 75"
      ],
      "execution_count": 154,
      "outputs": []
    },
    {
      "cell_type": "code",
      "metadata": {
        "colab": {
          "base_uri": "https://localhost:8080/"
        },
        "id": "AuM-ZML22Cn9",
        "outputId": "00e38689-94cd-4ab8-ae20-3ea8f3d735c5"
      },
      "source": [
        "(x_train, y_train), (x_test, y_test) = cifar10.load_data()\n",
        "\n",
        "x_train = x_train.astype('float32')\n",
        "x_test = x_test.astype('float32')\n",
        "\n",
        "x_train /= 255\n",
        "x_test /= 255\n",
        "\n",
        "print(x_train.shape)\n",
        "print(x_test.shape)\n",
        "\n",
        "y_train = keras.utils.np_utils.to_categorical(y_train, num_classes)\n",
        "y_test = keras.utils.np_utils.to_categorical(y_test, num_classes)"
      ],
      "execution_count": 155,
      "outputs": [
        {
          "output_type": "stream",
          "text": [
            "(50000, 32, 32, 3)\n",
            "(10000, 32, 32, 3)\n"
          ],
          "name": "stdout"
        }
      ]
    },
    {
      "cell_type": "code",
      "metadata": {
        "id": "w0CgF6jTejyx"
      },
      "source": [
        "## Data Augmentation with an ImageGenerator\n",
        "datagen = ImageDataGenerator(\n",
        "    width_shift_range=0.1,\n",
        "    height_shift_range=0.1,\n",
        "    horizontal_flip=True,\n",
        "    zoom_range=0.3,\n",
        "    rotation_range=45,\n",
        "    vertical_flip=False)"
      ],
      "execution_count": 156,
      "outputs": []
    },
    {
      "cell_type": "markdown",
      "metadata": {
        "id": "BdaMLtdhtd5j"
      },
      "source": [
        "Movidas"
      ]
    },
    {
      "cell_type": "code",
      "metadata": {
        "id": "Ap_0BFfhRKEC"
      },
      "source": [
        "def bn_act(x, activation='relu'):\n",
        "    l = BN()(x)\n",
        "    if activation=='prelu':\n",
        "        l = PReLU()(l)\n",
        "    else:\n",
        "        l = Activation('relu')(l)\n",
        "    return l"
      ],
      "execution_count": 157,
      "outputs": []
    },
    {
      "cell_type": "code",
      "metadata": {
        "id": "uwkmg_n-Rssm"
      },
      "source": [
        "def res_block(convs, identity=True, k=1):\n",
        "    def inner(x):\n",
        "        if not identity:\n",
        "            strides = (2,2)\n",
        "        else:\n",
        "            strides = (1,1)\n",
        "            \n",
        "        act = bn_act(x)\n",
        "        l = Conv2D(convs*k, 3, strides=strides, padding='same', kernel_initializer='he_normal')(act)\n",
        "        \n",
        "        l = bn_act(l)\n",
        "        l = Dropout(0.5)(l)\n",
        "        l = Conv2D(convs*k, 3, strides=(1,1), padding='same', kernel_initializer='he_normal')(l)\n",
        "        \n",
        "        if not identity or x.shape[3]!=convs*k:\n",
        "            shortcut = Conv2D(convs*k, 1, strides=strides, padding='same', kernel_initializer='he_normal')(act)\n",
        "            l = Add()([l,shortcut])\n",
        "        else:\n",
        "            l = Add()([l,x])\n",
        "        return l\n",
        "    return inner"
      ],
      "execution_count": 158,
      "outputs": []
    },
    {
      "cell_type": "code",
      "metadata": {
        "id": "kt9-YGpZRtoj"
      },
      "source": [
        "def wide_resnet(input_shape, k = 8):\n",
        "    inpt = Input(shape = input_shape)\n",
        "\n",
        "    # stage 1\n",
        "    x = Conv2D(16, 3, strides=(1,1), padding='same', kernel_initializer='he_normal')(inpt)\n",
        "    #x = bn_act(x)\n",
        "    #x = MaxPooling2D(pool_size=(3,3),strides=2)(x)\n",
        "    \n",
        "    n=28 # depth or total number of layers\n",
        "    N = (n-4)//6\n",
        "    # stage 2\n",
        "    for i in range(N):\n",
        "        x = res_block(16,k=k)(x)\n",
        "\n",
        "    # stage 3\n",
        "    x = res_block(32,False,k=k)(x)\n",
        "    for i in range(1,N):\n",
        "        x = res_block(32,k=k)(x)\n",
        "\n",
        "    # stage 4\n",
        "    x = res_block(64,False,k=k)(x)\n",
        "    for i in range(1,N):\n",
        "        x = res_block(64,k=k)(x)\n",
        "    \n",
        "    x = bn_act(x)\n",
        "    x = GlobalAveragePooling2D()(x)\n",
        "    outpt = Dense(num_classes, activation=\"softmax\")(x)\n",
        "    model = Model(inpt,outpt)\n",
        "\n",
        "    return model"
      ],
      "execution_count": 159,
      "outputs": []
    },
    {
      "cell_type": "code",
      "metadata": {
        "colab": {
          "base_uri": "https://localhost:8080/"
        },
        "id": "lF5v2bpcwZCy",
        "outputId": "4bc44759-218a-48bf-c7b5-5726941d3487"
      },
      "source": [
        "model = wide_resnet(x_train.shape[1:], 8)\n",
        "model.summary()"
      ],
      "execution_count": 160,
      "outputs": [
        {
          "output_type": "stream",
          "text": [
            "Model: \"model\"\n",
            "__________________________________________________________________________________________________\n",
            "Layer (type)                    Output Shape         Param #     Connected to                     \n",
            "==================================================================================================\n",
            "input_13 (InputLayer)           [(None, 32, 32, 3)]  0                                            \n",
            "__________________________________________________________________________________________________\n",
            "conv2d_189 (Conv2D)             (None, 32, 32, 16)   448         input_13[0][0]                   \n",
            "__________________________________________________________________________________________________\n",
            "batch_normalization_165 (BatchN (None, 32, 32, 16)   64          conv2d_189[0][0]                 \n",
            "__________________________________________________________________________________________________\n",
            "activation_165 (Activation)     (None, 32, 32, 16)   0           batch_normalization_165[0][0]    \n",
            "__________________________________________________________________________________________________\n",
            "conv2d_190 (Conv2D)             (None, 32, 32, 128)  18560       activation_165[0][0]             \n",
            "__________________________________________________________________________________________________\n",
            "batch_normalization_166 (BatchN (None, 32, 32, 128)  512         conv2d_190[0][0]                 \n",
            "__________________________________________________________________________________________________\n",
            "activation_166 (Activation)     (None, 32, 32, 128)  0           batch_normalization_166[0][0]    \n",
            "__________________________________________________________________________________________________\n",
            "dropout_2 (Dropout)             (None, 32, 32, 128)  0           activation_166[0][0]             \n",
            "__________________________________________________________________________________________________\n",
            "conv2d_191 (Conv2D)             (None, 32, 32, 128)  147584      dropout_2[0][0]                  \n",
            "__________________________________________________________________________________________________\n",
            "conv2d_192 (Conv2D)             (None, 32, 32, 128)  2176        activation_165[0][0]             \n",
            "__________________________________________________________________________________________________\n",
            "add_76 (Add)                    (None, 32, 32, 128)  0           conv2d_191[0][0]                 \n",
            "                                                                 conv2d_192[0][0]                 \n",
            "__________________________________________________________________________________________________\n",
            "batch_normalization_167 (BatchN (None, 32, 32, 128)  512         add_76[0][0]                     \n",
            "__________________________________________________________________________________________________\n",
            "activation_167 (Activation)     (None, 32, 32, 128)  0           batch_normalization_167[0][0]    \n",
            "__________________________________________________________________________________________________\n",
            "conv2d_193 (Conv2D)             (None, 32, 32, 128)  147584      activation_167[0][0]             \n",
            "__________________________________________________________________________________________________\n",
            "batch_normalization_168 (BatchN (None, 32, 32, 128)  512         conv2d_193[0][0]                 \n",
            "__________________________________________________________________________________________________\n",
            "activation_168 (Activation)     (None, 32, 32, 128)  0           batch_normalization_168[0][0]    \n",
            "__________________________________________________________________________________________________\n",
            "dropout_3 (Dropout)             (None, 32, 32, 128)  0           activation_168[0][0]             \n",
            "__________________________________________________________________________________________________\n",
            "conv2d_194 (Conv2D)             (None, 32, 32, 128)  147584      dropout_3[0][0]                  \n",
            "__________________________________________________________________________________________________\n",
            "add_77 (Add)                    (None, 32, 32, 128)  0           conv2d_194[0][0]                 \n",
            "                                                                 add_76[0][0]                     \n",
            "__________________________________________________________________________________________________\n",
            "batch_normalization_169 (BatchN (None, 32, 32, 128)  512         add_77[0][0]                     \n",
            "__________________________________________________________________________________________________\n",
            "activation_169 (Activation)     (None, 32, 32, 128)  0           batch_normalization_169[0][0]    \n",
            "__________________________________________________________________________________________________\n",
            "conv2d_195 (Conv2D)             (None, 32, 32, 128)  147584      activation_169[0][0]             \n",
            "__________________________________________________________________________________________________\n",
            "batch_normalization_170 (BatchN (None, 32, 32, 128)  512         conv2d_195[0][0]                 \n",
            "__________________________________________________________________________________________________\n",
            "activation_170 (Activation)     (None, 32, 32, 128)  0           batch_normalization_170[0][0]    \n",
            "__________________________________________________________________________________________________\n",
            "dropout_4 (Dropout)             (None, 32, 32, 128)  0           activation_170[0][0]             \n",
            "__________________________________________________________________________________________________\n",
            "conv2d_196 (Conv2D)             (None, 32, 32, 128)  147584      dropout_4[0][0]                  \n",
            "__________________________________________________________________________________________________\n",
            "add_78 (Add)                    (None, 32, 32, 128)  0           conv2d_196[0][0]                 \n",
            "                                                                 add_77[0][0]                     \n",
            "__________________________________________________________________________________________________\n",
            "batch_normalization_171 (BatchN (None, 32, 32, 128)  512         add_78[0][0]                     \n",
            "__________________________________________________________________________________________________\n",
            "activation_171 (Activation)     (None, 32, 32, 128)  0           batch_normalization_171[0][0]    \n",
            "__________________________________________________________________________________________________\n",
            "conv2d_197 (Conv2D)             (None, 32, 32, 128)  147584      activation_171[0][0]             \n",
            "__________________________________________________________________________________________________\n",
            "batch_normalization_172 (BatchN (None, 32, 32, 128)  512         conv2d_197[0][0]                 \n",
            "__________________________________________________________________________________________________\n",
            "activation_172 (Activation)     (None, 32, 32, 128)  0           batch_normalization_172[0][0]    \n",
            "__________________________________________________________________________________________________\n",
            "dropout_5 (Dropout)             (None, 32, 32, 128)  0           activation_172[0][0]             \n",
            "__________________________________________________________________________________________________\n",
            "conv2d_198 (Conv2D)             (None, 32, 32, 128)  147584      dropout_5[0][0]                  \n",
            "__________________________________________________________________________________________________\n",
            "add_79 (Add)                    (None, 32, 32, 128)  0           conv2d_198[0][0]                 \n",
            "                                                                 add_78[0][0]                     \n",
            "__________________________________________________________________________________________________\n",
            "batch_normalization_173 (BatchN (None, 32, 32, 128)  512         add_79[0][0]                     \n",
            "__________________________________________________________________________________________________\n",
            "activation_173 (Activation)     (None, 32, 32, 128)  0           batch_normalization_173[0][0]    \n",
            "__________________________________________________________________________________________________\n",
            "conv2d_199 (Conv2D)             (None, 16, 16, 256)  295168      activation_173[0][0]             \n",
            "__________________________________________________________________________________________________\n",
            "batch_normalization_174 (BatchN (None, 16, 16, 256)  1024        conv2d_199[0][0]                 \n",
            "__________________________________________________________________________________________________\n",
            "activation_174 (Activation)     (None, 16, 16, 256)  0           batch_normalization_174[0][0]    \n",
            "__________________________________________________________________________________________________\n",
            "dropout_6 (Dropout)             (None, 16, 16, 256)  0           activation_174[0][0]             \n",
            "__________________________________________________________________________________________________\n",
            "conv2d_200 (Conv2D)             (None, 16, 16, 256)  590080      dropout_6[0][0]                  \n",
            "__________________________________________________________________________________________________\n",
            "conv2d_201 (Conv2D)             (None, 16, 16, 256)  33024       activation_173[0][0]             \n",
            "__________________________________________________________________________________________________\n",
            "add_80 (Add)                    (None, 16, 16, 256)  0           conv2d_200[0][0]                 \n",
            "                                                                 conv2d_201[0][0]                 \n",
            "__________________________________________________________________________________________________\n",
            "batch_normalization_175 (BatchN (None, 16, 16, 256)  1024        add_80[0][0]                     \n",
            "__________________________________________________________________________________________________\n",
            "activation_175 (Activation)     (None, 16, 16, 256)  0           batch_normalization_175[0][0]    \n",
            "__________________________________________________________________________________________________\n",
            "conv2d_202 (Conv2D)             (None, 16, 16, 256)  590080      activation_175[0][0]             \n",
            "__________________________________________________________________________________________________\n",
            "batch_normalization_176 (BatchN (None, 16, 16, 256)  1024        conv2d_202[0][0]                 \n",
            "__________________________________________________________________________________________________\n",
            "activation_176 (Activation)     (None, 16, 16, 256)  0           batch_normalization_176[0][0]    \n",
            "__________________________________________________________________________________________________\n",
            "dropout_7 (Dropout)             (None, 16, 16, 256)  0           activation_176[0][0]             \n",
            "__________________________________________________________________________________________________\n",
            "conv2d_203 (Conv2D)             (None, 16, 16, 256)  590080      dropout_7[0][0]                  \n",
            "__________________________________________________________________________________________________\n",
            "add_81 (Add)                    (None, 16, 16, 256)  0           conv2d_203[0][0]                 \n",
            "                                                                 add_80[0][0]                     \n",
            "__________________________________________________________________________________________________\n",
            "batch_normalization_177 (BatchN (None, 16, 16, 256)  1024        add_81[0][0]                     \n",
            "__________________________________________________________________________________________________\n",
            "activation_177 (Activation)     (None, 16, 16, 256)  0           batch_normalization_177[0][0]    \n",
            "__________________________________________________________________________________________________\n",
            "conv2d_204 (Conv2D)             (None, 16, 16, 256)  590080      activation_177[0][0]             \n",
            "__________________________________________________________________________________________________\n",
            "batch_normalization_178 (BatchN (None, 16, 16, 256)  1024        conv2d_204[0][0]                 \n",
            "__________________________________________________________________________________________________\n",
            "activation_178 (Activation)     (None, 16, 16, 256)  0           batch_normalization_178[0][0]    \n",
            "__________________________________________________________________________________________________\n",
            "dropout_8 (Dropout)             (None, 16, 16, 256)  0           activation_178[0][0]             \n",
            "__________________________________________________________________________________________________\n",
            "conv2d_205 (Conv2D)             (None, 16, 16, 256)  590080      dropout_8[0][0]                  \n",
            "__________________________________________________________________________________________________\n",
            "add_82 (Add)                    (None, 16, 16, 256)  0           conv2d_205[0][0]                 \n",
            "                                                                 add_81[0][0]                     \n",
            "__________________________________________________________________________________________________\n",
            "batch_normalization_179 (BatchN (None, 16, 16, 256)  1024        add_82[0][0]                     \n",
            "__________________________________________________________________________________________________\n",
            "activation_179 (Activation)     (None, 16, 16, 256)  0           batch_normalization_179[0][0]    \n",
            "__________________________________________________________________________________________________\n",
            "conv2d_206 (Conv2D)             (None, 16, 16, 256)  590080      activation_179[0][0]             \n",
            "__________________________________________________________________________________________________\n",
            "batch_normalization_180 (BatchN (None, 16, 16, 256)  1024        conv2d_206[0][0]                 \n",
            "__________________________________________________________________________________________________\n",
            "activation_180 (Activation)     (None, 16, 16, 256)  0           batch_normalization_180[0][0]    \n",
            "__________________________________________________________________________________________________\n",
            "dropout_9 (Dropout)             (None, 16, 16, 256)  0           activation_180[0][0]             \n",
            "__________________________________________________________________________________________________\n",
            "conv2d_207 (Conv2D)             (None, 16, 16, 256)  590080      dropout_9[0][0]                  \n",
            "__________________________________________________________________________________________________\n",
            "add_83 (Add)                    (None, 16, 16, 256)  0           conv2d_207[0][0]                 \n",
            "                                                                 add_82[0][0]                     \n",
            "__________________________________________________________________________________________________\n",
            "batch_normalization_181 (BatchN (None, 16, 16, 256)  1024        add_83[0][0]                     \n",
            "__________________________________________________________________________________________________\n",
            "activation_181 (Activation)     (None, 16, 16, 256)  0           batch_normalization_181[0][0]    \n",
            "__________________________________________________________________________________________________\n",
            "conv2d_208 (Conv2D)             (None, 8, 8, 512)    1180160     activation_181[0][0]             \n",
            "__________________________________________________________________________________________________\n",
            "batch_normalization_182 (BatchN (None, 8, 8, 512)    2048        conv2d_208[0][0]                 \n",
            "__________________________________________________________________________________________________\n",
            "activation_182 (Activation)     (None, 8, 8, 512)    0           batch_normalization_182[0][0]    \n",
            "__________________________________________________________________________________________________\n",
            "dropout_10 (Dropout)            (None, 8, 8, 512)    0           activation_182[0][0]             \n",
            "__________________________________________________________________________________________________\n",
            "conv2d_209 (Conv2D)             (None, 8, 8, 512)    2359808     dropout_10[0][0]                 \n",
            "__________________________________________________________________________________________________\n",
            "conv2d_210 (Conv2D)             (None, 8, 8, 512)    131584      activation_181[0][0]             \n",
            "__________________________________________________________________________________________________\n",
            "add_84 (Add)                    (None, 8, 8, 512)    0           conv2d_209[0][0]                 \n",
            "                                                                 conv2d_210[0][0]                 \n",
            "__________________________________________________________________________________________________\n",
            "batch_normalization_183 (BatchN (None, 8, 8, 512)    2048        add_84[0][0]                     \n",
            "__________________________________________________________________________________________________\n",
            "activation_183 (Activation)     (None, 8, 8, 512)    0           batch_normalization_183[0][0]    \n",
            "__________________________________________________________________________________________________\n",
            "conv2d_211 (Conv2D)             (None, 8, 8, 512)    2359808     activation_183[0][0]             \n",
            "__________________________________________________________________________________________________\n",
            "batch_normalization_184 (BatchN (None, 8, 8, 512)    2048        conv2d_211[0][0]                 \n",
            "__________________________________________________________________________________________________\n",
            "activation_184 (Activation)     (None, 8, 8, 512)    0           batch_normalization_184[0][0]    \n",
            "__________________________________________________________________________________________________\n",
            "dropout_11 (Dropout)            (None, 8, 8, 512)    0           activation_184[0][0]             \n",
            "__________________________________________________________________________________________________\n",
            "conv2d_212 (Conv2D)             (None, 8, 8, 512)    2359808     dropout_11[0][0]                 \n",
            "__________________________________________________________________________________________________\n",
            "add_85 (Add)                    (None, 8, 8, 512)    0           conv2d_212[0][0]                 \n",
            "                                                                 add_84[0][0]                     \n",
            "__________________________________________________________________________________________________\n",
            "batch_normalization_185 (BatchN (None, 8, 8, 512)    2048        add_85[0][0]                     \n",
            "__________________________________________________________________________________________________\n",
            "activation_185 (Activation)     (None, 8, 8, 512)    0           batch_normalization_185[0][0]    \n",
            "__________________________________________________________________________________________________\n",
            "conv2d_213 (Conv2D)             (None, 8, 8, 512)    2359808     activation_185[0][0]             \n",
            "__________________________________________________________________________________________________\n",
            "batch_normalization_186 (BatchN (None, 8, 8, 512)    2048        conv2d_213[0][0]                 \n",
            "__________________________________________________________________________________________________\n",
            "activation_186 (Activation)     (None, 8, 8, 512)    0           batch_normalization_186[0][0]    \n",
            "__________________________________________________________________________________________________\n",
            "dropout_12 (Dropout)            (None, 8, 8, 512)    0           activation_186[0][0]             \n",
            "__________________________________________________________________________________________________\n",
            "conv2d_214 (Conv2D)             (None, 8, 8, 512)    2359808     dropout_12[0][0]                 \n",
            "__________________________________________________________________________________________________\n",
            "add_86 (Add)                    (None, 8, 8, 512)    0           conv2d_214[0][0]                 \n",
            "                                                                 add_85[0][0]                     \n",
            "__________________________________________________________________________________________________\n",
            "batch_normalization_187 (BatchN (None, 8, 8, 512)    2048        add_86[0][0]                     \n",
            "__________________________________________________________________________________________________\n",
            "activation_187 (Activation)     (None, 8, 8, 512)    0           batch_normalization_187[0][0]    \n",
            "__________________________________________________________________________________________________\n",
            "conv2d_215 (Conv2D)             (None, 8, 8, 512)    2359808     activation_187[0][0]             \n",
            "__________________________________________________________________________________________________\n",
            "batch_normalization_188 (BatchN (None, 8, 8, 512)    2048        conv2d_215[0][0]                 \n",
            "__________________________________________________________________________________________________\n",
            "activation_188 (Activation)     (None, 8, 8, 512)    0           batch_normalization_188[0][0]    \n",
            "__________________________________________________________________________________________________\n",
            "dropout_13 (Dropout)            (None, 8, 8, 512)    0           activation_188[0][0]             \n",
            "__________________________________________________________________________________________________\n",
            "conv2d_216 (Conv2D)             (None, 8, 8, 512)    2359808     dropout_13[0][0]                 \n",
            "__________________________________________________________________________________________________\n",
            "add_87 (Add)                    (None, 8, 8, 512)    0           conv2d_216[0][0]                 \n",
            "                                                                 add_86[0][0]                     \n",
            "__________________________________________________________________________________________________\n",
            "batch_normalization_189 (BatchN (None, 8, 8, 512)    2048        add_87[0][0]                     \n",
            "__________________________________________________________________________________________________\n",
            "activation_189 (Activation)     (None, 8, 8, 512)    0           batch_normalization_189[0][0]    \n",
            "__________________________________________________________________________________________________\n",
            "global_average_pooling2d_4 (Glo (None, 512)          0           activation_189[0][0]             \n",
            "__________________________________________________________________________________________________\n",
            "dense_4 (Dense)                 (None, 10)           5130        global_average_pooling2d_4[0][0] \n",
            "==================================================================================================\n",
            "Total params: 23,377,290\n",
            "Trainable params: 23,362,922\n",
            "Non-trainable params: 14,368\n",
            "__________________________________________________________________________________________________\n"
          ],
          "name": "stdout"
        }
      ]
    },
    {
      "cell_type": "markdown",
      "metadata": {
        "id": "dkDjl8exTTDZ"
      },
      "source": [
        "Define an optimizer "
      ]
    },
    {
      "cell_type": "code",
      "metadata": {
        "id": "LTRuAT1FTTOw",
        "colab": {
          "base_uri": "https://localhost:8080/"
        },
        "outputId": "2518a943-180e-4e71-b101-921c2fc4a7be"
      },
      "source": [
        "opt = SGD(lr=0.1, decay=1e-6)"
      ],
      "execution_count": 161,
      "outputs": [
        {
          "output_type": "stream",
          "text": [
            "/usr/local/lib/python3.7/dist-packages/tensorflow/python/keras/optimizer_v2/optimizer_v2.py:375: UserWarning: The `lr` argument is deprecated, use `learning_rate` instead.\n",
            "  \"The `lr` argument is deprecated, use `learning_rate` instead.\")\n"
          ],
          "name": "stderr"
        }
      ]
    },
    {
      "cell_type": "markdown",
      "metadata": {
        "id": "SmhjZqVhfV18"
      },
      "source": [
        "DEFINE A LEARNING RATE SCHEDULER"
      ]
    },
    {
      "cell_type": "code",
      "metadata": {
        "id": "vjGe1KAwfV7F"
      },
      "source": [
        "def scheduler(epoch):\n",
        "    if epoch < 25:\n",
        "        return .1\n",
        "    elif epoch < 50:\n",
        "        return 0.01\n",
        "    else:\n",
        "        return 0.001\n",
        "\n",
        "# Callbacks\n",
        "set_lr = LRS(scheduler)\n",
        "es = keras.callbacks.EarlyStopping(monitor='loss', patience=3)"
      ],
      "execution_count": 162,
      "outputs": []
    },
    {
      "cell_type": "markdown",
      "metadata": {
        "id": "bHhBHWFjTTYy"
      },
      "source": [
        "Compile the model, define loss and link the optimizer"
      ]
    },
    {
      "cell_type": "code",
      "metadata": {
        "id": "8W8KCPtcTTii"
      },
      "source": [
        "model.compile(loss='categorical_crossentropy',\n",
        "              optimizer=opt,\n",
        "              metrics=['accuracy'])"
      ],
      "execution_count": 163,
      "outputs": []
    },
    {
      "cell_type": "markdown",
      "metadata": {
        "id": "HBOKdV6MTTtA"
      },
      "source": [
        "Finally, train the model and evaluate over the test data"
      ]
    },
    {
      "cell_type": "code",
      "metadata": {
        "id": "gLPsSdVDTT37",
        "colab": {
          "base_uri": "https://localhost:8080/"
        },
        "outputId": "dae09fa2-c675-4dae-991b-907b39dedad8"
      },
      "source": [
        "history=model.fit(datagen.flow(x_train, y_train,batch_size=batch_size),\n",
        "                  steps_per_epoch=len(x_train) / batch_size, \n",
        "                  epochs=epochs,\n",
        "                  validation_data=(x_test, y_test),\n",
        "                  callbacks=[set_lr, es],\n",
        "                  verbose=1)\n",
        "\n",
        "# Evaluate over test\n",
        "score = model.evaluate(x_test, y_test, verbose=0)\n",
        "\n",
        "\n",
        "print('Test loss:', score[0])\n",
        "print('Test accuracy:', score[1])"
      ],
      "execution_count": 164,
      "outputs": [
        {
          "output_type": "stream",
          "text": [
            "Epoch 1/75\n",
            "500/500 [==============================] - 209s 405ms/step - loss: 1.9909 - accuracy: 0.2524 - val_loss: 1.7618 - val_accuracy: 0.4010\n",
            "Epoch 2/75\n",
            "500/500 [==============================] - 199s 398ms/step - loss: 1.6411 - accuracy: 0.3936 - val_loss: 2.0816 - val_accuracy: 0.3531\n",
            "Epoch 3/75\n",
            "500/500 [==============================] - 199s 398ms/step - loss: 1.4920 - accuracy: 0.4565 - val_loss: 2.3830 - val_accuracy: 0.3812\n",
            "Epoch 4/75\n",
            "500/500 [==============================] - 198s 396ms/step - loss: 1.3715 - accuracy: 0.5025 - val_loss: 1.3522 - val_accuracy: 0.5488\n",
            "Epoch 5/75\n",
            "500/500 [==============================] - 198s 397ms/step - loss: 1.2954 - accuracy: 0.5321 - val_loss: 1.6495 - val_accuracy: 0.4966\n",
            "Epoch 6/75\n",
            "500/500 [==============================] - 199s 398ms/step - loss: 1.2187 - accuracy: 0.5597 - val_loss: 1.5749 - val_accuracy: 0.5263\n",
            "Epoch 7/75\n",
            "500/500 [==============================] - 199s 398ms/step - loss: 1.1605 - accuracy: 0.5845 - val_loss: 1.0712 - val_accuracy: 0.6391\n",
            "Epoch 8/75\n",
            "500/500 [==============================] - 199s 398ms/step - loss: 1.1035 - accuracy: 0.6059 - val_loss: 1.3055 - val_accuracy: 0.5946\n",
            "Epoch 9/75\n",
            "500/500 [==============================] - 199s 398ms/step - loss: 1.0548 - accuracy: 0.6254 - val_loss: 1.0764 - val_accuracy: 0.6524\n",
            "Epoch 10/75\n",
            "500/500 [==============================] - 199s 398ms/step - loss: 1.0117 - accuracy: 0.6394 - val_loss: 1.1316 - val_accuracy: 0.6265\n",
            "Epoch 11/75\n",
            "500/500 [==============================] - 199s 398ms/step - loss: 0.9720 - accuracy: 0.6559 - val_loss: 1.1903 - val_accuracy: 0.6224\n",
            "Epoch 12/75\n",
            "500/500 [==============================] - 199s 398ms/step - loss: 0.9360 - accuracy: 0.6729 - val_loss: 0.8813 - val_accuracy: 0.7087\n",
            "Epoch 13/75\n",
            "500/500 [==============================] - 199s 397ms/step - loss: 0.8999 - accuracy: 0.6825 - val_loss: 0.8939 - val_accuracy: 0.7163\n",
            "Epoch 14/75\n",
            "500/500 [==============================] - 198s 397ms/step - loss: 0.8718 - accuracy: 0.6929 - val_loss: 0.7517 - val_accuracy: 0.7567\n",
            "Epoch 15/75\n",
            "500/500 [==============================] - 199s 398ms/step - loss: 0.8381 - accuracy: 0.7059 - val_loss: 0.8314 - val_accuracy: 0.7321\n",
            "Epoch 16/75\n",
            "500/500 [==============================] - 199s 398ms/step - loss: 0.8215 - accuracy: 0.7128 - val_loss: 0.8170 - val_accuracy: 0.7412\n",
            "Epoch 17/75\n",
            "500/500 [==============================] - 198s 397ms/step - loss: 0.7937 - accuracy: 0.7205 - val_loss: 0.6529 - val_accuracy: 0.7804\n",
            "Epoch 18/75\n",
            "500/500 [==============================] - 198s 397ms/step - loss: 0.7697 - accuracy: 0.7301 - val_loss: 0.7627 - val_accuracy: 0.7564\n",
            "Epoch 19/75\n",
            "500/500 [==============================] - 198s 397ms/step - loss: 0.7544 - accuracy: 0.7351 - val_loss: 0.7603 - val_accuracy: 0.7570\n",
            "Epoch 20/75\n",
            "500/500 [==============================] - 199s 398ms/step - loss: 0.7272 - accuracy: 0.7441 - val_loss: 0.7974 - val_accuracy: 0.7471\n",
            "Epoch 21/75\n",
            "500/500 [==============================] - 199s 397ms/step - loss: 0.7159 - accuracy: 0.7491 - val_loss: 0.7370 - val_accuracy: 0.7757\n",
            "Epoch 22/75\n",
            "500/500 [==============================] - 199s 398ms/step - loss: 0.6945 - accuracy: 0.7578 - val_loss: 0.5956 - val_accuracy: 0.8010\n",
            "Epoch 23/75\n",
            "500/500 [==============================] - 199s 397ms/step - loss: 0.6850 - accuracy: 0.7601 - val_loss: 0.6719 - val_accuracy: 0.7868\n",
            "Epoch 24/75\n",
            "500/500 [==============================] - 199s 397ms/step - loss: 0.6593 - accuracy: 0.7694 - val_loss: 0.6200 - val_accuracy: 0.8000\n",
            "Epoch 25/75\n",
            "500/500 [==============================] - 198s 397ms/step - loss: 0.6509 - accuracy: 0.7721 - val_loss: 0.7576 - val_accuracy: 0.7739\n",
            "Epoch 26/75\n",
            "500/500 [==============================] - 199s 397ms/step - loss: 0.5961 - accuracy: 0.7903 - val_loss: 0.5136 - val_accuracy: 0.8347\n",
            "Epoch 27/75\n",
            "500/500 [==============================] - 199s 398ms/step - loss: 0.5665 - accuracy: 0.8034 - val_loss: 0.5105 - val_accuracy: 0.8359\n",
            "Epoch 28/75\n",
            "500/500 [==============================] - 199s 397ms/step - loss: 0.5697 - accuracy: 0.8022 - val_loss: 0.5069 - val_accuracy: 0.8393\n",
            "Epoch 29/75\n",
            "500/500 [==============================] - 198s 397ms/step - loss: 0.5610 - accuracy: 0.8050 - val_loss: 0.5214 - val_accuracy: 0.8374\n",
            "Epoch 30/75\n",
            "500/500 [==============================] - 198s 396ms/step - loss: 0.5568 - accuracy: 0.8039 - val_loss: 0.5045 - val_accuracy: 0.8419\n",
            "Epoch 31/75\n",
            "500/500 [==============================] - 198s 397ms/step - loss: 0.5515 - accuracy: 0.8056 - val_loss: 0.4936 - val_accuracy: 0.8423\n",
            "Epoch 32/75\n",
            "500/500 [==============================] - 198s 396ms/step - loss: 0.5512 - accuracy: 0.8092 - val_loss: 0.5003 - val_accuracy: 0.8417\n",
            "Epoch 33/75\n",
            "500/500 [==============================] - 198s 396ms/step - loss: 0.5425 - accuracy: 0.8125 - val_loss: 0.5103 - val_accuracy: 0.8389\n",
            "Epoch 34/75\n",
            "500/500 [==============================] - 198s 396ms/step - loss: 0.5414 - accuracy: 0.8111 - val_loss: 0.5013 - val_accuracy: 0.8425\n",
            "Epoch 35/75\n",
            "500/500 [==============================] - 198s 397ms/step - loss: 0.5389 - accuracy: 0.8120 - val_loss: 0.4866 - val_accuracy: 0.8453\n",
            "Epoch 36/75\n",
            "500/500 [==============================] - 198s 397ms/step - loss: 0.5413 - accuracy: 0.8109 - val_loss: 0.4777 - val_accuracy: 0.8480\n",
            "Epoch 37/75\n",
            "500/500 [==============================] - 198s 396ms/step - loss: 0.5406 - accuracy: 0.8117 - val_loss: 0.4795 - val_accuracy: 0.8454\n",
            "Epoch 38/75\n",
            "500/500 [==============================] - 198s 397ms/step - loss: 0.5367 - accuracy: 0.8145 - val_loss: 0.4849 - val_accuracy: 0.8474\n",
            "Epoch 39/75\n",
            "500/500 [==============================] - 199s 397ms/step - loss: 0.5398 - accuracy: 0.8143 - val_loss: 0.5044 - val_accuracy: 0.8423\n",
            "Epoch 40/75\n",
            "500/500 [==============================] - 199s 397ms/step - loss: 0.5383 - accuracy: 0.8121 - val_loss: 0.4879 - val_accuracy: 0.8453\n",
            "Epoch 41/75\n",
            "500/500 [==============================] - 199s 398ms/step - loss: 0.5351 - accuracy: 0.8105 - val_loss: 0.4831 - val_accuracy: 0.8480\n",
            "Epoch 42/75\n",
            "500/500 [==============================] - 207s 414ms/step - loss: 0.5226 - accuracy: 0.8176 - val_loss: 0.4900 - val_accuracy: 0.8480\n",
            "Epoch 43/75\n",
            "500/500 [==============================] - 199s 397ms/step - loss: 0.5356 - accuracy: 0.8122 - val_loss: 0.5042 - val_accuracy: 0.8435\n",
            "Epoch 44/75\n",
            "500/500 [==============================] - 199s 397ms/step - loss: 0.5249 - accuracy: 0.8142 - val_loss: 0.4788 - val_accuracy: 0.8495\n",
            "Epoch 45/75\n",
            "500/500 [==============================] - 199s 398ms/step - loss: 0.5226 - accuracy: 0.8162 - val_loss: 0.4935 - val_accuracy: 0.8454\n",
            "Epoch 46/75\n",
            "500/500 [==============================] - 198s 396ms/step - loss: 0.5207 - accuracy: 0.8190 - val_loss: 0.4856 - val_accuracy: 0.8460\n",
            "Epoch 47/75\n",
            "500/500 [==============================] - 198s 397ms/step - loss: 0.5248 - accuracy: 0.8166 - val_loss: 0.4722 - val_accuracy: 0.8530\n",
            "Epoch 48/75\n",
            "500/500 [==============================] - 199s 398ms/step - loss: 0.5185 - accuracy: 0.8183 - val_loss: 0.4781 - val_accuracy: 0.8519\n",
            "Epoch 49/75\n",
            "500/500 [==============================] - 199s 397ms/step - loss: 0.5153 - accuracy: 0.8206 - val_loss: 0.4781 - val_accuracy: 0.8497\n",
            "Epoch 50/75\n",
            "500/500 [==============================] - 199s 398ms/step - loss: 0.5098 - accuracy: 0.8217 - val_loss: 0.4791 - val_accuracy: 0.8488\n",
            "Epoch 51/75\n",
            "500/500 [==============================] - 199s 398ms/step - loss: 0.5105 - accuracy: 0.8230 - val_loss: 0.4684 - val_accuracy: 0.8531\n",
            "Epoch 52/75\n",
            "500/500 [==============================] - 199s 398ms/step - loss: 0.5162 - accuracy: 0.8189 - val_loss: 0.4637 - val_accuracy: 0.8545\n",
            "Epoch 53/75\n",
            "500/500 [==============================] - 199s 398ms/step - loss: 0.5081 - accuracy: 0.8220 - val_loss: 0.4636 - val_accuracy: 0.8547\n",
            "Epoch 54/75\n",
            "500/500 [==============================] - 199s 398ms/step - loss: 0.5013 - accuracy: 0.8263 - val_loss: 0.4650 - val_accuracy: 0.8540\n",
            "Epoch 55/75\n",
            "500/500 [==============================] - 199s 398ms/step - loss: 0.5072 - accuracy: 0.8205 - val_loss: 0.4669 - val_accuracy: 0.8539\n",
            "Epoch 56/75\n",
            "500/500 [==============================] - 199s 397ms/step - loss: 0.4948 - accuracy: 0.8278 - val_loss: 0.4639 - val_accuracy: 0.8551\n",
            "Test loss: 0.4639243185520172\n",
            "Test accuracy: 0.8550999760627747\n"
          ],
          "name": "stdout"
        }
      ]
    },
    {
      "cell_type": "code",
      "metadata": {
        "id": "9_oBDiZbbO0G",
        "colab": {
          "base_uri": "https://localhost:8080/"
        },
        "outputId": "122c08c8-f45e-4727-bc35-74a3e313fb06"
      },
      "source": [
        "print(history.history.keys())"
      ],
      "execution_count": 165,
      "outputs": [
        {
          "output_type": "stream",
          "text": [
            "dict_keys(['loss', 'accuracy', 'val_loss', 'val_accuracy', 'lr'])\n"
          ],
          "name": "stdout"
        }
      ]
    },
    {
      "cell_type": "code",
      "metadata": {
        "id": "K4uLWmxCbaq9"
      },
      "source": [
        "import matplotlib.pyplot as plt"
      ],
      "execution_count": 166,
      "outputs": []
    },
    {
      "cell_type": "code",
      "metadata": {
        "id": "1wlYhPH9bcz9",
        "colab": {
          "base_uri": "https://localhost:8080/",
          "height": 295
        },
        "outputId": "0892b78a-aa0d-44ad-dec3-ae9c060dcac3"
      },
      "source": [
        "plt.plot(history.history['accuracy'])\n",
        "plt.plot(history.history['val_accuracy'])\n",
        "plt.title('model accuracy')\n",
        "plt.ylabel('accuracy')\n",
        "plt.xlabel('epoch')\n",
        "plt.legend(['train', 'test'], loc='upper left')\n",
        "plt.show()"
      ],
      "execution_count": 167,
      "outputs": [
        {
          "output_type": "display_data",
          "data": {
            "image/png": "[encoded data removed]",
            "text/plain": [
              "<Figure size 432x288 with 1 Axes>"
            ]
          },
          "metadata": {
            "tags": [],
            "needs_background": "light"
          }
        }
      ]
    }
  ]
}