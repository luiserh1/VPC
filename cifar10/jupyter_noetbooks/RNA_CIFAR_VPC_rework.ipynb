{
  "nbformat": 4,
  "nbformat_minor": 0,
  "metadata": {
    "accelerator": "GPU",
    "colab": {
      "name": "RNA_CIFAR_VPC_rework.ipynb",
      "provenance": [],
      "collapsed_sections": []
    },
    "kernelspec": {
      "display_name": "Python 3",
      "name": "python3"
    }
  },
  "cells": [
    {
      "cell_type": "markdown",
      "metadata": {
        "id": "ORvwib-YSR-p"
      },
      "source": [
        "CIFAR10 notebook from RNA (CPV rework) - Luis Serrano Hernández"
      ]
    },
    {
      "cell_type": "markdown",
      "metadata": {
        "id": "0YRXPjE-Sf1a"
      },
      "source": [
        "Install Keras just in case..."
      ]
    },
    {
      "cell_type": "code",
      "metadata": {
        "colab": {
          "base_uri": "https://localhost:8080/"
        },
        "id": "MhsFJNHpSSKE",
        "outputId": "85248c48-f1e6-4479-8cfb-193fd325e9ea"
      },
      "source": [
        "!pip3 install keras"
      ],
      "execution_count": null,
      "outputs": [
        {
          "output_type": "stream",
          "text": [
            "Requirement already satisfied: keras in /usr/local/lib/python3.7/dist-packages (2.4.3)\n",
            "Requirement already satisfied: scipy>=0.14 in /usr/local/lib/python3.7/dist-packages (from keras) (1.4.1)\n",
            "Requirement already satisfied: pyyaml in /usr/local/lib/python3.7/dist-packages (from keras) (3.13)\n",
            "Requirement already satisfied: numpy>=1.9.1 in /usr/local/lib/python3.7/dist-packages (from keras) (1.19.5)\n",
            "Requirement already satisfied: h5py in /usr/local/lib/python3.7/dist-packages (from keras) (3.1.0)\n",
            "Requirement already satisfied: cached-property; python_version < \"3.8\" in /usr/local/lib/python3.7/dist-packages (from h5py->keras) (1.5.2)\n"
          ],
          "name": "stdout"
        }
      ]
    },
    {
      "cell_type": "markdown",
      "metadata": {
        "id": "CGX8RGwHSSTr"
      },
      "source": [
        "Imports..."
      ]
    },
    {
      "cell_type": "code",
      "metadata": {
        "id": "D8qeBuPiSSdc"
      },
      "source": [
        "from __future__ import print_function\n",
        "\n",
        "from keras.callbacks import LearningRateScheduler as LRS\n",
        "import keras\n",
        "from keras.datasets import cifar10\n",
        "from keras.models import Sequential\n",
        "from keras.layers import Dense, Activation, Dropout, Reshape, Flatten\n",
        "from keras.layers import Conv2D, MaxPooling2D\n",
        "from keras.layers import GaussianNoise as GN\n",
        "from keras.layers.normalization import BatchNormalization as BN\n",
        "from keras.optimizers import SGD\n",
        "from keras.preprocessing.image import ImageDataGenerator"
      ],
      "execution_count": null,
      "outputs": []
    },
    {
      "cell_type": "markdown",
      "metadata": {
        "id": "-M9uBGifSSqd"
      },
      "source": [
        "Define batch size, number of epochs and number of classes"
      ]
    },
    {
      "cell_type": "code",
      "metadata": {
        "id": "iaWFWm8mSTBj"
      },
      "source": [
        "batch_size = 128\n",
        "epochs = 75\n",
        "num_classes=10"
      ],
      "execution_count": null,
      "outputs": []
    },
    {
      "cell_type": "markdown",
      "metadata": {
        "id": "IKwjPVkoSTLr"
      },
      "source": [
        "Load CIFAR10 and transform"
      ]
    },
    {
      "cell_type": "code",
      "metadata": {
        "id": "fZ9D1F8FSTWW",
        "colab": {
          "base_uri": "https://localhost:8080/"
        },
        "outputId": "82799569-e659-4add-9d4e-e466010cfdf2"
      },
      "source": [
        "# the data, shuffled and split between train and test sets\n",
        "(x_train, y_train), (x_test, y_test) = cifar10.load_data()\n",
        "\n",
        "\n",
        "print(x_train.shape)\n",
        "\n",
        "x_train = x_train.astype('float32')\n",
        "x_test = x_test.astype('float32')\n",
        "\n",
        "# Normalize [0..255]-->[0..1]\n",
        "x_train /= 255\n",
        "x_test /= 255\n",
        "\n",
        "print(x_train.shape[0], 'train samples')\n",
        "print(x_test.shape[0], 'test samples')\n",
        "\n",
        "# convert class vectors to binary class matrices\n",
        "y_train = keras.utils.np_utils.to_categorical(y_train, num_classes)\n",
        "y_test = keras.utils.np_utils.to_categorical(y_test, num_classes)"
      ],
      "execution_count": null,
      "outputs": [
        {
          "output_type": "stream",
          "text": [
            "(50000, 32, 32, 3)\n",
            "50000 train samples\n",
            "10000 test samples\n"
          ],
          "name": "stdout"
        }
      ]
    },
    {
      "cell_type": "markdown",
      "metadata": {
        "id": "fkAQDzBBqDji"
      },
      "source": [
        "Data Augmentation with an ImageGenerator\n"
      ]
    },
    {
      "cell_type": "code",
      "metadata": {
        "id": "rnJXKDjFqE4J"
      },
      "source": [
        "## Data Augmentation with an ImageGenerator\n",
        "datagen = ImageDataGenerator(\n",
        "    width_shift_range=0.1,\n",
        "    height_shift_range=0.1,\n",
        "    horizontal_flip=True,\n",
        "    zoom_range=0.3,\n",
        "    rotation_range=45,\n",
        "    vertical_flip=True)"
      ],
      "execution_count": null,
      "outputs": []
    },
    {
      "cell_type": "markdown",
      "metadata": {
        "id": "Pf2Q7b2qPYSg"
      },
      "source": [
        "Define a convolutional block with Batch Normalization, Gaussian Noise and MaxPool"
      ]
    },
    {
      "cell_type": "code",
      "metadata": {
        "id": "lV1ZaS_DPWpT"
      },
      "source": [
        "## DEF A BLOCK CONV + BN + GN + MAXPOOL\n",
        "def CBGN(model,filters,ishape=0):\n",
        "  if (ishape!=0):\n",
        "    model.add(Conv2D(filters, (3, 3), padding='same',\n",
        "                 input_shape=ishape))\n",
        "  else:\n",
        "    model.add(Conv2D(filters, (3, 3), padding='same'))\n",
        "  \n",
        "  model.add(BN())\n",
        "  model.add(GN(0.3))\n",
        "  model.add(Activation('relu'))\n",
        "  #model.add(Dropout(0.25))\n",
        "  model.add(MaxPooling2D(pool_size=(2, 2)))\n",
        "  \n",
        "  return model"
      ],
      "execution_count": null,
      "outputs": []
    },
    {
      "cell_type": "markdown",
      "metadata": {
        "id": "24bIWSBXSThW"
      },
      "source": [
        "Define the NN topology, a sequential model with 2 hidden layers"
      ]
    },
    {
      "cell_type": "code",
      "metadata": {
        "colab": {
          "base_uri": "https://localhost:8080/"
        },
        "id": "pFy6tdc0STtb",
        "outputId": "ff863bf5-3927-4876-cd79-25ebdc8d30ff"
      },
      "source": [
        "## DEF NN TOPOLOGY  \n",
        "model = Sequential()\n",
        "\n",
        "model=CBGN(model,32,x_train.shape[1:])\n",
        "model=CBGN(model,64)\n",
        "model=CBGN(model,128)\n",
        "model=CBGN(model,256)\n",
        "model=CBGN(model,512)\n",
        "\n",
        "model.add(Flatten())\n",
        "model.add(Dense(512))\n",
        "model.add(BN())\n",
        "model.add(GN(0.3))\n",
        "model.add(Dropout(0.25))\n",
        "model.add(Activation('relu'))\n",
        "\n",
        "\"\"\"\n",
        "model.add(Dense(1024))\n",
        "model.add(BN())\n",
        "model.add(GN(0.2))\n",
        "model.add(Dropout(0.35))\n",
        "model.add(Activation('relu'))\n",
        "\"\"\"\n",
        "\n",
        "model.add(Dense(num_classes))\n",
        "model.add(Activation('relu'))\n",
        "\n",
        "\n",
        "model.summary()"
      ],
      "execution_count": null,
      "outputs": [
        {
          "output_type": "stream",
          "text": [
            "Model: \"sequential\"\n",
            "_________________________________________________________________\n",
            "Layer (type)                 Output Shape              Param #   \n",
            "=================================================================\n",
            "conv2d (Conv2D)              (None, 32, 32, 32)        896       \n",
            "_________________________________________________________________\n",
            "batch_normalization (BatchNo (None, 32, 32, 32)        128       \n",
            "_________________________________________________________________\n",
            "gaussian_noise (GaussianNois (None, 32, 32, 32)        0         \n",
            "_________________________________________________________________\n",
            "activation (Activation)      (None, 32, 32, 32)        0         \n",
            "_________________________________________________________________\n",
            "max_pooling2d (MaxPooling2D) (None, 16, 16, 32)        0         \n",
            "_________________________________________________________________\n",
            "conv2d_1 (Conv2D)            (None, 16, 16, 64)        18496     \n",
            "_________________________________________________________________\n",
            "batch_normalization_1 (Batch (None, 16, 16, 64)        256       \n",
            "_________________________________________________________________\n",
            "gaussian_noise_1 (GaussianNo (None, 16, 16, 64)        0         \n",
            "_________________________________________________________________\n",
            "activation_1 (Activation)    (None, 16, 16, 64)        0         \n",
            "_________________________________________________________________\n",
            "max_pooling2d_1 (MaxPooling2 (None, 8, 8, 64)          0         \n",
            "_________________________________________________________________\n",
            "conv2d_2 (Conv2D)            (None, 8, 8, 128)         73856     \n",
            "_________________________________________________________________\n",
            "batch_normalization_2 (Batch (None, 8, 8, 128)         512       \n",
            "_________________________________________________________________\n",
            "gaussian_noise_2 (GaussianNo (None, 8, 8, 128)         0         \n",
            "_________________________________________________________________\n",
            "activation_2 (Activation)    (None, 8, 8, 128)         0         \n",
            "_________________________________________________________________\n",
            "max_pooling2d_2 (MaxPooling2 (None, 4, 4, 128)         0         \n",
            "_________________________________________________________________\n",
            "conv2d_3 (Conv2D)            (None, 4, 4, 256)         295168    \n",
            "_________________________________________________________________\n",
            "batch_normalization_3 (Batch (None, 4, 4, 256)         1024      \n",
            "_________________________________________________________________\n",
            "gaussian_noise_3 (GaussianNo (None, 4, 4, 256)         0         \n",
            "_________________________________________________________________\n",
            "activation_3 (Activation)    (None, 4, 4, 256)         0         \n",
            "_________________________________________________________________\n",
            "max_pooling2d_3 (MaxPooling2 (None, 2, 2, 256)         0         \n",
            "_________________________________________________________________\n",
            "conv2d_4 (Conv2D)            (None, 2, 2, 512)         1180160   \n",
            "_________________________________________________________________\n",
            "batch_normalization_4 (Batch (None, 2, 2, 512)         2048      \n",
            "_________________________________________________________________\n",
            "gaussian_noise_4 (GaussianNo (None, 2, 2, 512)         0         \n",
            "_________________________________________________________________\n",
            "activation_4 (Activation)    (None, 2, 2, 512)         0         \n",
            "_________________________________________________________________\n",
            "max_pooling2d_4 (MaxPooling2 (None, 1, 1, 512)         0         \n",
            "_________________________________________________________________\n",
            "flatten (Flatten)            (None, 512)               0         \n",
            "_________________________________________________________________\n",
            "dense (Dense)                (None, 512)               262656    \n",
            "_________________________________________________________________\n",
            "batch_normalization_5 (Batch (None, 512)               2048      \n",
            "_________________________________________________________________\n",
            "gaussian_noise_5 (GaussianNo (None, 512)               0         \n",
            "_________________________________________________________________\n",
            "activation_5 (Activation)    (None, 512)               0         \n",
            "_________________________________________________________________\n",
            "dense_1 (Dense)              (None, 10)                5130      \n",
            "_________________________________________________________________\n",
            "activation_6 (Activation)    (None, 10)                0         \n",
            "=================================================================\n",
            "Total params: 1,842,378\n",
            "Trainable params: 1,839,370\n",
            "Non-trainable params: 3,008\n",
            "_________________________________________________________________\n"
          ],
          "name": "stdout"
        }
      ]
    },
    {
      "cell_type": "markdown",
      "metadata": {
        "id": "dkDjl8exTTDZ"
      },
      "source": [
        "Define an optimizer "
      ]
    },
    {
      "cell_type": "code",
      "metadata": {
        "id": "LTRuAT1FTTOw",
        "colab": {
          "base_uri": "https://localhost:8080/"
        },
        "outputId": "ee703b71-fde7-4cbe-a5c3-35d175750c94"
      },
      "source": [
        "sgd=SGD(lr=0.1, decay=0.0, momentum=0.0)\n",
        "\n",
        "def scheduler(epoch):\n",
        "  if epoch < epochs / 3:\n",
        "    return 0.1\n",
        "  elif epoch < epochs / 3 * 2:\n",
        "    return 0.05\n",
        "  else:\n",
        "    return 0.02\n",
        "\n",
        "# Callbaks\n",
        "set_lr = LRS(scheduler)\n",
        "es = tf.keras.callbacks.EarlyStopping(monitor='loss', patience=3)"
      ],
      "execution_count": null,
      "outputs": [
        {
          "output_type": "stream",
          "text": [
            "/usr/local/lib/python3.7/dist-packages/tensorflow/python/keras/optimizer_v2/optimizer_v2.py:375: UserWarning: The `lr` argument is deprecated, use `learning_rate` instead.\n",
            "  \"The `lr` argument is deprecated, use `learning_rate` instead.\")\n"
          ],
          "name": "stderr"
        }
      ]
    },
    {
      "cell_type": "markdown",
      "metadata": {
        "id": "bHhBHWFjTTYy"
      },
      "source": [
        "Compile the model, define loss and link the optimizer\n",
        "\n"
      ]
    },
    {
      "cell_type": "code",
      "metadata": {
        "id": "8W8KCPtcTTii"
      },
      "source": [
        "model.compile(loss='categorical_crossentropy',\n",
        "              optimizer=sgd,\n",
        "              metrics=['accuracy'])"
      ],
      "execution_count": null,
      "outputs": []
    },
    {
      "cell_type": "markdown",
      "metadata": {
        "id": "HBOKdV6MTTtA"
      },
      "source": [
        "Finally, train the model and evaluate over the test data"
      ]
    },
    {
      "cell_type": "code",
      "metadata": {
        "colab": {
          "base_uri": "https://localhost:8080/"
        },
        "id": "gLPsSdVDTT37",
        "outputId": "048d408d-1ece-4261-cfbd-f587bb8bf86d"
      },
      "source": [
        "history=model.fit(datagen.flow(x_train, y_train,batch_size=batch_size),\n",
        "                  steps_per_epoch=len(x_train) / batch_size, \n",
        "                  epochs=epochs,\n",
        "                  validation_data=(x_test, y_test),\n",
        "                  callbacks=[set_lr, es],\n",
        "                  verbose=1)\n",
        "\n",
        "\n",
        "score = model.evaluate(x_test, y_test, verbose=0)\n",
        "\n",
        "print('Test loss:', score[0])\n",
        "print('Test accuracy:', score[1])"
      ],
      "execution_count": null,
      "outputs": [
        {
          "output_type": "stream",
          "text": [
            "/usr/local/lib/python3.7/dist-packages/keras/engine/training.py:1915: UserWarning: `Model.fit_generator` is deprecated and will be removed in a future version. Please use `Model.fit`, which supports generators.\n",
            "  warnings.warn('`Model.fit_generator` is deprecated and '\n"
          ],
          "name": "stderr"
        },
        {
          "output_type": "stream",
          "text": [
            "Epoch 1/150\n",
            "390/390 [==============================] - 69s 63ms/step - loss: 2.0271 - accuracy: 0.2953 - val_loss: 2.1858 - val_accuracy: 0.2666\n",
            "Epoch 2/150\n",
            "390/390 [==============================] - 23s 59ms/step - loss: 1.6383 - accuracy: 0.4072 - val_loss: 1.4223 - val_accuracy: 0.4854\n",
            "Epoch 3/150\n",
            "390/390 [==============================] - 23s 59ms/step - loss: 1.5230 - accuracy: 0.4510 - val_loss: 1.3924 - val_accuracy: 0.5056\n",
            "Epoch 4/150\n",
            "390/390 [==============================] - 23s 59ms/step - loss: 1.4647 - accuracy: 0.4747 - val_loss: 1.7247 - val_accuracy: 0.4274\n",
            "Epoch 5/150\n",
            "390/390 [==============================] - 23s 60ms/step - loss: 1.4075 - accuracy: 0.4924 - val_loss: 1.2633 - val_accuracy: 0.5519\n",
            "Epoch 6/150\n",
            "390/390 [==============================] - 23s 59ms/step - loss: 1.3507 - accuracy: 0.5134 - val_loss: 1.1424 - val_accuracy: 0.5951\n",
            "Epoch 7/150\n",
            "390/390 [==============================] - 23s 59ms/step - loss: 1.3133 - accuracy: 0.5306 - val_loss: 1.1977 - val_accuracy: 0.5821\n",
            "Epoch 8/150\n",
            "390/390 [==============================] - 23s 59ms/step - loss: 1.2814 - accuracy: 0.5425 - val_loss: 1.2757 - val_accuracy: 0.5618\n",
            "Epoch 9/150\n",
            "390/390 [==============================] - 23s 59ms/step - loss: 1.2481 - accuracy: 0.5531 - val_loss: 1.2322 - val_accuracy: 0.5696\n",
            "Epoch 10/150\n",
            "390/390 [==============================] - 23s 58ms/step - loss: 1.2143 - accuracy: 0.5651 - val_loss: 1.2170 - val_accuracy: 0.5847\n",
            "Epoch 11/150\n",
            "390/390 [==============================] - 23s 59ms/step - loss: 1.2018 - accuracy: 0.5698 - val_loss: 1.1807 - val_accuracy: 0.5949\n",
            "Epoch 12/150\n",
            "390/390 [==============================] - 23s 59ms/step - loss: 1.1791 - accuracy: 0.5764 - val_loss: 1.2072 - val_accuracy: 0.5932\n",
            "Epoch 13/150\n",
            "390/390 [==============================] - 23s 59ms/step - loss: 1.1526 - accuracy: 0.5889 - val_loss: 1.6175 - val_accuracy: 0.5136\n",
            "Epoch 14/150\n",
            "390/390 [==============================] - 23s 58ms/step - loss: 1.1457 - accuracy: 0.5912 - val_loss: 1.0843 - val_accuracy: 0.6212\n",
            "Epoch 15/150\n",
            "390/390 [==============================] - 23s 59ms/step - loss: 1.1250 - accuracy: 0.5972 - val_loss: 1.2816 - val_accuracy: 0.5689\n",
            "Epoch 16/150\n",
            "390/390 [==============================] - 23s 59ms/step - loss: 1.1045 - accuracy: 0.6078 - val_loss: 1.1890 - val_accuracy: 0.6101\n",
            "Epoch 17/150\n",
            "390/390 [==============================] - 23s 59ms/step - loss: 1.0961 - accuracy: 0.6099 - val_loss: 1.0906 - val_accuracy: 0.6293\n",
            "Epoch 18/150\n",
            "390/390 [==============================] - 23s 59ms/step - loss: 1.0788 - accuracy: 0.6195 - val_loss: 1.1369 - val_accuracy: 0.6209\n",
            "Epoch 19/150\n",
            "390/390 [==============================] - 23s 59ms/step - loss: 1.0570 - accuracy: 0.6225 - val_loss: 1.0909 - val_accuracy: 0.6268\n",
            "Epoch 20/150\n",
            "390/390 [==============================] - 23s 59ms/step - loss: 1.0528 - accuracy: 0.6242 - val_loss: 1.0575 - val_accuracy: 0.6477\n",
            "Epoch 21/150\n",
            "390/390 [==============================] - 23s 59ms/step - loss: 1.0454 - accuracy: 0.6293 - val_loss: 1.0515 - val_accuracy: 0.6435\n",
            "Epoch 22/150\n",
            "390/390 [==============================] - 23s 60ms/step - loss: 1.0315 - accuracy: 0.6321 - val_loss: 1.4086 - val_accuracy: 0.5566\n",
            "Epoch 23/150\n",
            "390/390 [==============================] - 24s 60ms/step - loss: 1.0218 - accuracy: 0.6355 - val_loss: 1.0057 - val_accuracy: 0.6588\n",
            "Epoch 24/150\n",
            "390/390 [==============================] - 23s 59ms/step - loss: 1.0082 - accuracy: 0.6417 - val_loss: 1.0275 - val_accuracy: 0.6591\n",
            "Epoch 25/150\n",
            "390/390 [==============================] - 23s 59ms/step - loss: 0.9968 - accuracy: 0.6470 - val_loss: 0.9918 - val_accuracy: 0.6646\n",
            "Epoch 26/150\n",
            "390/390 [==============================] - 23s 59ms/step - loss: 0.9821 - accuracy: 0.6498 - val_loss: 1.0007 - val_accuracy: 0.6704\n",
            "Epoch 27/150\n",
            "390/390 [==============================] - 23s 59ms/step - loss: 0.9755 - accuracy: 0.6550 - val_loss: 1.0109 - val_accuracy: 0.6610\n",
            "Epoch 28/150\n",
            "390/390 [==============================] - 23s 59ms/step - loss: 0.9649 - accuracy: 0.6573 - val_loss: 1.0733 - val_accuracy: 0.6477\n",
            "Epoch 29/150\n",
            "390/390 [==============================] - 23s 59ms/step - loss: 0.9612 - accuracy: 0.6577 - val_loss: 1.1090 - val_accuracy: 0.6408\n",
            "Epoch 30/150\n",
            "390/390 [==============================] - 23s 59ms/step - loss: 0.9498 - accuracy: 0.6625 - val_loss: 1.0663 - val_accuracy: 0.6506\n",
            "Epoch 31/150\n",
            "390/390 [==============================] - 23s 59ms/step - loss: 0.9452 - accuracy: 0.6649 - val_loss: 0.9773 - val_accuracy: 0.6669\n",
            "Epoch 32/150\n",
            "390/390 [==============================] - 23s 59ms/step - loss: 0.9247 - accuracy: 0.6779 - val_loss: 1.1546 - val_accuracy: 0.6310\n",
            "Epoch 33/150\n",
            "390/390 [==============================] - 23s 59ms/step - loss: 0.9242 - accuracy: 0.6709 - val_loss: 0.9826 - val_accuracy: 0.6762\n",
            "Epoch 34/150\n",
            "390/390 [==============================] - 23s 59ms/step - loss: 0.9095 - accuracy: 0.6777 - val_loss: 0.9633 - val_accuracy: 0.6738\n",
            "Epoch 35/150\n",
            "390/390 [==============================] - 23s 59ms/step - loss: 0.9024 - accuracy: 0.6798 - val_loss: 0.8602 - val_accuracy: 0.7051\n",
            "Epoch 36/150\n",
            "390/390 [==============================] - 23s 59ms/step - loss: 0.9040 - accuracy: 0.6816 - val_loss: 0.8926 - val_accuracy: 0.6968\n",
            "Epoch 37/150\n",
            "390/390 [==============================] - 23s 59ms/step - loss: 0.8968 - accuracy: 0.6851 - val_loss: 1.0512 - val_accuracy: 0.6599\n",
            "Epoch 38/150\n",
            "390/390 [==============================] - 23s 60ms/step - loss: 0.8852 - accuracy: 0.6870 - val_loss: 1.0834 - val_accuracy: 0.6459\n",
            "Epoch 39/150\n",
            "390/390 [==============================] - 23s 59ms/step - loss: 0.8790 - accuracy: 0.6877 - val_loss: 0.9868 - val_accuracy: 0.6735\n",
            "Epoch 40/150\n",
            "390/390 [==============================] - 23s 59ms/step - loss: 0.8623 - accuracy: 0.6964 - val_loss: 0.9607 - val_accuracy: 0.6875\n",
            "Epoch 41/150\n",
            "390/390 [==============================] - 23s 58ms/step - loss: 0.8724 - accuracy: 0.6933 - val_loss: 0.9384 - val_accuracy: 0.6919\n",
            "Epoch 42/150\n",
            "390/390 [==============================] - 23s 59ms/step - loss: 0.8498 - accuracy: 0.7007 - val_loss: 1.0846 - val_accuracy: 0.6532\n",
            "Epoch 43/150\n",
            "390/390 [==============================] - 23s 60ms/step - loss: 0.8588 - accuracy: 0.6991 - val_loss: 0.8842 - val_accuracy: 0.7003\n",
            "Epoch 44/150\n",
            "390/390 [==============================] - 23s 59ms/step - loss: 0.8523 - accuracy: 0.6972 - val_loss: 0.8158 - val_accuracy: 0.7259\n",
            "Epoch 45/150\n",
            "390/390 [==============================] - 23s 59ms/step - loss: 0.8474 - accuracy: 0.7010 - val_loss: 1.2691 - val_accuracy: 0.6228\n",
            "Epoch 46/150\n",
            "390/390 [==============================] - 23s 59ms/step - loss: 0.8379 - accuracy: 0.7013 - val_loss: 0.7710 - val_accuracy: 0.7330\n",
            "Epoch 47/150\n",
            "390/390 [==============================] - 23s 59ms/step - loss: 0.8279 - accuracy: 0.7101 - val_loss: 0.7954 - val_accuracy: 0.7289\n",
            "Epoch 48/150\n",
            "390/390 [==============================] - 23s 59ms/step - loss: 0.8440 - accuracy: 0.7050 - val_loss: 0.8782 - val_accuracy: 0.7165\n",
            "Epoch 49/150\n",
            "390/390 [==============================] - 23s 59ms/step - loss: 0.8195 - accuracy: 0.7117 - val_loss: 0.9244 - val_accuracy: 0.6989\n",
            "Epoch 50/150\n",
            "390/390 [==============================] - 23s 59ms/step - loss: 0.8148 - accuracy: 0.7121 - val_loss: 0.8523 - val_accuracy: 0.7190\n",
            "Epoch 51/150\n",
            "390/390 [==============================] - 23s 59ms/step - loss: 0.7944 - accuracy: 0.7188 - val_loss: 0.7544 - val_accuracy: 0.7459\n",
            "Epoch 52/150\n",
            " 91/390 [=====>........................] - ETA: 16s - loss: 0.7782 - accuracy: 0.7259"
          ],
          "name": "stdout"
        }
      ]
    },
    {
      "cell_type": "code",
      "metadata": {
        "id": "9_oBDiZbbO0G"
      },
      "source": [
        "print(history.history.keys())"
      ],
      "execution_count": null,
      "outputs": []
    },
    {
      "cell_type": "code",
      "metadata": {
        "id": "K4uLWmxCbaq9"
      },
      "source": [
        "import matplotlib.pyplot as plt"
      ],
      "execution_count": null,
      "outputs": []
    },
    {
      "cell_type": "code",
      "metadata": {
        "id": "1wlYhPH9bcz9"
      },
      "source": [
        "plt.plot(history.history['accuracy'])\n",
        "plt.plot(history.history['val_accuracy'])\n",
        "plt.title('model accuracy')\n",
        "plt.ylabel('accuracy')\n",
        "plt.xlabel('epoch')\n",
        "plt.legend(['train', 'test'], loc='upper left')\n",
        "plt.show()"
      ],
      "execution_count": null,
      "outputs": []
    }
  ]
}