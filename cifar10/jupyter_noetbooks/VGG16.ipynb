{
  "nbformat": 4,
  "nbformat_minor": 0,
  "metadata": {
    "colab": {
      "name": "VGG16.ipynb",
      "provenance": [],
      "collapsed_sections": []
    },
    "kernelspec": {
      "name": "python3",
      "display_name": "Python 3"
    },
    "accelerator": "GPU"
  },
  "cells": [
    {
      "cell_type": "markdown",
      "metadata": {
        "id": "ORvwib-YSR-p"
      },
      "source": [
        "CIFAR10 - VGG16 solution"
      ]
    },
    {
      "cell_type": "markdown",
      "metadata": {
        "id": "0YRXPjE-Sf1a"
      },
      "source": [
        "Install Keras just in case..."
      ]
    },
    {
      "cell_type": "code",
      "metadata": {
        "id": "MhsFJNHpSSKE",
        "colab": {
          "base_uri": "https://localhost:8080/"
        },
        "outputId": "5f9a494c-a280-4da3-d826-41c84040473d"
      },
      "source": [
        "!pip3 install keras"
      ],
      "execution_count": null,
      "outputs": [
        {
          "output_type": "stream",
          "text": [
            "Requirement already satisfied: keras in /usr/local/lib/python3.7/dist-packages (2.4.3)\n",
            "Requirement already satisfied: pyyaml in /usr/local/lib/python3.7/dist-packages (from keras) (3.13)\n",
            "Requirement already satisfied: scipy>=0.14 in /usr/local/lib/python3.7/dist-packages (from keras) (1.4.1)\n",
            "Requirement already satisfied: numpy>=1.9.1 in /usr/local/lib/python3.7/dist-packages (from keras) (1.19.5)\n",
            "Requirement already satisfied: h5py in /usr/local/lib/python3.7/dist-packages (from keras) (3.1.0)\n",
            "Requirement already satisfied: cached-property; python_version < \"3.8\" in /usr/local/lib/python3.7/dist-packages (from h5py->keras) (1.5.2)\n"
          ],
          "name": "stdout"
        }
      ]
    },
    {
      "cell_type": "markdown",
      "metadata": {
        "id": "CGX8RGwHSSTr"
      },
      "source": [
        "Imports..."
      ]
    },
    {
      "cell_type": "code",
      "metadata": {
        "id": "D8qeBuPiSSdc"
      },
      "source": [
        "from __future__ import print_function\n",
        "import keras\n",
        "from keras.datasets import cifar10\n",
        "from keras.models import Sequential\n",
        "from keras.layers import Dense, Dropout, Activation, Flatten\n",
        "from keras.layers import Conv2D, MaxPooling2D\n",
        "from keras.layers.normalization import BatchNormalization as BN\n",
        "from keras.layers import GaussianNoise as GN\n",
        "from keras.optimizers import SGD\n",
        "\n",
        "from keras.callbacks import LearningRateScheduler as LRS\n",
        "from keras.preprocessing.image import ImageDataGenerator"
      ],
      "execution_count": null,
      "outputs": []
    },
    {
      "cell_type": "markdown",
      "metadata": {
        "id": "-M9uBGifSSqd"
      },
      "source": [
        "Define batch size, number of epochs and number of classes\n"
      ]
    },
    {
      "cell_type": "code",
      "metadata": {
        "id": "iaWFWm8mSTBj"
      },
      "source": [
        "batch_size = 100\n",
        "num_classes = 10\n",
        "epochs = 75"
      ],
      "execution_count": null,
      "outputs": []
    },
    {
      "cell_type": "markdown",
      "metadata": {
        "id": "IKwjPVkoSTLr"
      },
      "source": [
        "Load MNIST and transform"
      ]
    },
    {
      "cell_type": "code",
      "metadata": {
        "id": "fZ9D1F8FSTWW",
        "colab": {
          "base_uri": "https://localhost:8080/"
        },
        "outputId": "cf154d31-ace4-4712-fc29-11ee4fddf667"
      },
      "source": [
        "(x_train, y_train), (x_test, y_test) = cifar10.load_data()\n",
        "\n",
        "x_train = x_train.astype('float32')\n",
        "x_test = x_test.astype('float32')\n",
        "\n",
        "x_train /= 255\n",
        "x_test /= 255\n",
        "\n",
        "print(x_train.shape)\n",
        "print(x_test.shape)\n",
        "\n",
        "y_train = keras.utils.np_utils.to_categorical(y_train, num_classes)\n",
        "y_test = keras.utils.np_utils.to_categorical(y_test, num_classes)\n"
      ],
      "execution_count": null,
      "outputs": [
        {
          "output_type": "stream",
          "text": [
            "Downloading data from https://www.cs.toronto.edu/~kriz/cifar-10-python.tar.gz\n",
            "170500096/170498071 [==============================] - 4s 0us/step\n",
            "170508288/170498071 [==============================] - 4s 0us/step\n",
            "(50000, 32, 32, 3)\n",
            "(10000, 32, 32, 3)\n"
          ],
          "name": "stdout"
        }
      ]
    },
    {
      "cell_type": "markdown",
      "metadata": {
        "id": "bjwRXtmOejax"
      },
      "source": [
        "DEFINE A DATA AUGMENTATION GENERATOR\n",
        "\n",
        "> Bloque con sangría\n",
        "\n"
      ]
    },
    {
      "cell_type": "code",
      "metadata": {
        "id": "w0CgF6jTejyx"
      },
      "source": [
        "datagen = ImageDataGenerator(\n",
        "    width_shift_range=0.2,\n",
        "    height_shift_range=0.2,\n",
        "    horizontal_flip=True)"
      ],
      "execution_count": null,
      "outputs": []
    },
    {
      "cell_type": "markdown",
      "metadata": {
        "id": "C7xGHEMSeqOW"
      },
      "source": [
        "DEF A BLOCK CONV + BN + GN"
      ]
    },
    {
      "cell_type": "code",
      "metadata": {
        "id": "avYg0aMmeqS_"
      },
      "source": [
        "def CBGN(model,filters,ishape=0):\n",
        "  if (ishape!=0):\n",
        "    model.add(Conv2D(filters, (3, 3), padding='same',\n",
        "                 input_shape=ishape))\n",
        "  else:\n",
        "    model.add(Conv2D(filters, (3, 3), padding='same'))\n",
        "  \n",
        "  model.add(BN())\n",
        "  model.add(GN(0.3))\n",
        "  model.add(Activation('relu'))  \n",
        "  \n",
        "  return model"
      ],
      "execution_count": null,
      "outputs": []
    },
    {
      "cell_type": "markdown",
      "metadata": {
        "id": "24bIWSBXSThW"
      },
      "source": [
        "Define the NN topology, a sequential model with 2 hidden layers"
      ]
    },
    {
      "cell_type": "code",
      "metadata": {
        "id": "pFy6tdc0STtb",
        "colab": {
          "base_uri": "https://localhost:8080/"
        },
        "outputId": "a10c5672-27e0-4bb6-a3c7-ceb57497ffd5"
      },
      "source": [
        "model = Sequential()\n",
        "\n",
        "model=CBGN(model,64,x_train.shape[1:])\n",
        "model=CBGN(model,64)\n",
        "model.add(MaxPooling2D(pool_size=(2, 2)))\n",
        "\n",
        "model=CBGN(model,128)\n",
        "model=CBGN(model,128)\n",
        "model.add(MaxPooling2D(pool_size=(2, 2)))\n",
        "\n",
        "model=CBGN(model,256)\n",
        "model=CBGN(model,256)\n",
        "model=CBGN(model,256)\n",
        "model.add(MaxPooling2D(pool_size=(2, 2)))\n",
        "\n",
        "model=CBGN(model,512)\n",
        "model=CBGN(model,512)\n",
        "model=CBGN(model,512)\n",
        "model.add(MaxPooling2D(pool_size=(2, 2)))\n",
        "\n",
        "model=CBGN(model,512)\n",
        "model=CBGN(model,512)\n",
        "model=CBGN(model,512)\n",
        "model.add(MaxPooling2D(pool_size=(2, 2)))\n",
        "\n",
        "model.add(Flatten())\n",
        "model.add(Dense(4096))\n",
        "model.add(Activation('relu'))\n",
        "\n",
        "model.add(Flatten())\n",
        "model.add(Dense(4096))\n",
        "model.add(Activation('relu'))\n",
        "\n",
        "model.add(Flatten())\n",
        "model.add(Dense(1000))\n",
        "model.add(Activation('relu'))\n",
        "\n",
        "model.add(Dense(num_classes))\n",
        "model.add(Activation('softmax'))\n",
        "\n",
        "\n",
        "model.summary()"
      ],
      "execution_count": null,
      "outputs": [
        {
          "output_type": "stream",
          "text": [
            "Model: \"sequential\"\n",
            "_________________________________________________________________\n",
            "Layer (type)                 Output Shape              Param #   \n",
            "=================================================================\n",
            "conv2d (Conv2D)              (None, 32, 32, 64)        1792      \n",
            "_________________________________________________________________\n",
            "batch_normalization (BatchNo (None, 32, 32, 64)        256       \n",
            "_________________________________________________________________\n",
            "gaussian_noise (GaussianNois (None, 32, 32, 64)        0         \n",
            "_________________________________________________________________\n",
            "activation (Activation)      (None, 32, 32, 64)        0         \n",
            "_________________________________________________________________\n",
            "conv2d_1 (Conv2D)            (None, 32, 32, 64)        36928     \n",
            "_________________________________________________________________\n",
            "batch_normalization_1 (Batch (None, 32, 32, 64)        256       \n",
            "_________________________________________________________________\n",
            "gaussian_noise_1 (GaussianNo (None, 32, 32, 64)        0         \n",
            "_________________________________________________________________\n",
            "activation_1 (Activation)    (None, 32, 32, 64)        0         \n",
            "_________________________________________________________________\n",
            "max_pooling2d (MaxPooling2D) (None, 16, 16, 64)        0         \n",
            "_________________________________________________________________\n",
            "conv2d_2 (Conv2D)            (None, 16, 16, 128)       73856     \n",
            "_________________________________________________________________\n",
            "batch_normalization_2 (Batch (None, 16, 16, 128)       512       \n",
            "_________________________________________________________________\n",
            "gaussian_noise_2 (GaussianNo (None, 16, 16, 128)       0         \n",
            "_________________________________________________________________\n",
            "activation_2 (Activation)    (None, 16, 16, 128)       0         \n",
            "_________________________________________________________________\n",
            "conv2d_3 (Conv2D)            (None, 16, 16, 128)       147584    \n",
            "_________________________________________________________________\n",
            "batch_normalization_3 (Batch (None, 16, 16, 128)       512       \n",
            "_________________________________________________________________\n",
            "gaussian_noise_3 (GaussianNo (None, 16, 16, 128)       0         \n",
            "_________________________________________________________________\n",
            "activation_3 (Activation)    (None, 16, 16, 128)       0         \n",
            "_________________________________________________________________\n",
            "max_pooling2d_1 (MaxPooling2 (None, 8, 8, 128)         0         \n",
            "_________________________________________________________________\n",
            "conv2d_4 (Conv2D)            (None, 8, 8, 256)         295168    \n",
            "_________________________________________________________________\n",
            "batch_normalization_4 (Batch (None, 8, 8, 256)         1024      \n",
            "_________________________________________________________________\n",
            "gaussian_noise_4 (GaussianNo (None, 8, 8, 256)         0         \n",
            "_________________________________________________________________\n",
            "activation_4 (Activation)    (None, 8, 8, 256)         0         \n",
            "_________________________________________________________________\n",
            "conv2d_5 (Conv2D)            (None, 8, 8, 256)         590080    \n",
            "_________________________________________________________________\n",
            "batch_normalization_5 (Batch (None, 8, 8, 256)         1024      \n",
            "_________________________________________________________________\n",
            "gaussian_noise_5 (GaussianNo (None, 8, 8, 256)         0         \n",
            "_________________________________________________________________\n",
            "activation_5 (Activation)    (None, 8, 8, 256)         0         \n",
            "_________________________________________________________________\n",
            "conv2d_6 (Conv2D)            (None, 8, 8, 256)         590080    \n",
            "_________________________________________________________________\n",
            "batch_normalization_6 (Batch (None, 8, 8, 256)         1024      \n",
            "_________________________________________________________________\n",
            "gaussian_noise_6 (GaussianNo (None, 8, 8, 256)         0         \n",
            "_________________________________________________________________\n",
            "activation_6 (Activation)    (None, 8, 8, 256)         0         \n",
            "_________________________________________________________________\n",
            "max_pooling2d_2 (MaxPooling2 (None, 4, 4, 256)         0         \n",
            "_________________________________________________________________\n",
            "conv2d_7 (Conv2D)            (None, 4, 4, 512)         1180160   \n",
            "_________________________________________________________________\n",
            "batch_normalization_7 (Batch (None, 4, 4, 512)         2048      \n",
            "_________________________________________________________________\n",
            "gaussian_noise_7 (GaussianNo (None, 4, 4, 512)         0         \n",
            "_________________________________________________________________\n",
            "activation_7 (Activation)    (None, 4, 4, 512)         0         \n",
            "_________________________________________________________________\n",
            "conv2d_8 (Conv2D)            (None, 4, 4, 512)         2359808   \n",
            "_________________________________________________________________\n",
            "batch_normalization_8 (Batch (None, 4, 4, 512)         2048      \n",
            "_________________________________________________________________\n",
            "gaussian_noise_8 (GaussianNo (None, 4, 4, 512)         0         \n",
            "_________________________________________________________________\n",
            "activation_8 (Activation)    (None, 4, 4, 512)         0         \n",
            "_________________________________________________________________\n",
            "conv2d_9 (Conv2D)            (None, 4, 4, 512)         2359808   \n",
            "_________________________________________________________________\n",
            "batch_normalization_9 (Batch (None, 4, 4, 512)         2048      \n",
            "_________________________________________________________________\n",
            "gaussian_noise_9 (GaussianNo (None, 4, 4, 512)         0         \n",
            "_________________________________________________________________\n",
            "activation_9 (Activation)    (None, 4, 4, 512)         0         \n",
            "_________________________________________________________________\n",
            "max_pooling2d_3 (MaxPooling2 (None, 2, 2, 512)         0         \n",
            "_________________________________________________________________\n",
            "conv2d_10 (Conv2D)           (None, 2, 2, 512)         2359808   \n",
            "_________________________________________________________________\n",
            "batch_normalization_10 (Batc (None, 2, 2, 512)         2048      \n",
            "_________________________________________________________________\n",
            "gaussian_noise_10 (GaussianN (None, 2, 2, 512)         0         \n",
            "_________________________________________________________________\n",
            "activation_10 (Activation)   (None, 2, 2, 512)         0         \n",
            "_________________________________________________________________\n",
            "conv2d_11 (Conv2D)           (None, 2, 2, 512)         2359808   \n",
            "_________________________________________________________________\n",
            "batch_normalization_11 (Batc (None, 2, 2, 512)         2048      \n",
            "_________________________________________________________________\n",
            "gaussian_noise_11 (GaussianN (None, 2, 2, 512)         0         \n",
            "_________________________________________________________________\n",
            "activation_11 (Activation)   (None, 2, 2, 512)         0         \n",
            "_________________________________________________________________\n",
            "conv2d_12 (Conv2D)           (None, 2, 2, 512)         2359808   \n",
            "_________________________________________________________________\n",
            "batch_normalization_12 (Batc (None, 2, 2, 512)         2048      \n",
            "_________________________________________________________________\n",
            "gaussian_noise_12 (GaussianN (None, 2, 2, 512)         0         \n",
            "_________________________________________________________________\n",
            "activation_12 (Activation)   (None, 2, 2, 512)         0         \n",
            "_________________________________________________________________\n",
            "max_pooling2d_4 (MaxPooling2 (None, 1, 1, 512)         0         \n",
            "_________________________________________________________________\n",
            "flatten (Flatten)            (None, 512)               0         \n",
            "_________________________________________________________________\n",
            "dense (Dense)                (None, 4096)              2101248   \n",
            "_________________________________________________________________\n",
            "activation_13 (Activation)   (None, 4096)              0         \n",
            "_________________________________________________________________\n",
            "flatten_1 (Flatten)          (None, 4096)              0         \n",
            "_________________________________________________________________\n",
            "dense_1 (Dense)              (None, 4096)              16781312  \n",
            "_________________________________________________________________\n",
            "activation_14 (Activation)   (None, 4096)              0         \n",
            "_________________________________________________________________\n",
            "flatten_2 (Flatten)          (None, 4096)              0         \n",
            "_________________________________________________________________\n",
            "dense_2 (Dense)              (None, 1000)              4097000   \n",
            "_________________________________________________________________\n",
            "activation_15 (Activation)   (None, 1000)              0         \n",
            "_________________________________________________________________\n",
            "dense_3 (Dense)              (None, 10)                10010     \n",
            "_________________________________________________________________\n",
            "activation_16 (Activation)   (None, 10)                0         \n",
            "=================================================================\n",
            "Total params: 37,721,154\n",
            "Trainable params: 37,712,706\n",
            "Non-trainable params: 8,448\n",
            "_________________________________________________________________\n"
          ],
          "name": "stdout"
        }
      ]
    },
    {
      "cell_type": "markdown",
      "metadata": {
        "id": "dkDjl8exTTDZ"
      },
      "source": [
        "Define an optimizer "
      ]
    },
    {
      "cell_type": "code",
      "metadata": {
        "id": "LTRuAT1FTTOw",
        "colab": {
          "base_uri": "https://localhost:8080/"
        },
        "outputId": "ce2e85e1-ef89-4751-b1b3-a6f1bbbe8348"
      },
      "source": [
        "opt = SGD(lr=0.1, decay=1e-6)"
      ],
      "execution_count": null,
      "outputs": [
        {
          "output_type": "stream",
          "text": [
            "/usr/local/lib/python3.7/dist-packages/tensorflow/python/keras/optimizer_v2/optimizer_v2.py:375: UserWarning: The `lr` argument is deprecated, use `learning_rate` instead.\n",
            "  \"The `lr` argument is deprecated, use `learning_rate` instead.\")\n"
          ],
          "name": "stderr"
        }
      ]
    },
    {
      "cell_type": "markdown",
      "metadata": {
        "id": "SmhjZqVhfV18"
      },
      "source": [
        "DEFINE A LEARNING RATE SCHEDULER"
      ]
    },
    {
      "cell_type": "code",
      "metadata": {
        "id": "vjGe1KAwfV7F"
      },
      "source": [
        "def scheduler(epoch):\n",
        "    if epoch < 25:\n",
        "        return .1\n",
        "    elif epoch < 50:\n",
        "        return 0.01\n",
        "    else:\n",
        "        return 0.001\n",
        "\n",
        "# Callbacks\n",
        "set_lr = LRS(scheduler)\n",
        "es = keras.callbacks.EarlyStopping(monitor='loss', patience=3)"
      ],
      "execution_count": null,
      "outputs": []
    },
    {
      "cell_type": "markdown",
      "metadata": {
        "id": "bHhBHWFjTTYy"
      },
      "source": [
        "Compile the model, define loss and link the optimizer"
      ]
    },
    {
      "cell_type": "code",
      "metadata": {
        "id": "8W8KCPtcTTii"
      },
      "source": [
        "model.compile(loss='categorical_crossentropy',\n",
        "              optimizer=opt,\n",
        "              metrics=['accuracy'])"
      ],
      "execution_count": null,
      "outputs": []
    },
    {
      "cell_type": "markdown",
      "metadata": {
        "id": "HBOKdV6MTTtA"
      },
      "source": [
        "Finally, train the model and evaluate over the test data"
      ]
    },
    {
      "cell_type": "code",
      "metadata": {
        "id": "gLPsSdVDTT37",
        "colab": {
          "base_uri": "https://localhost:8080/"
        },
        "outputId": "b77a3f48-3c46-4458-e2ed-de6e93ce04b3"
      },
      "source": [
        "history=model.fit(datagen.flow(x_train, y_train,batch_size=batch_size),\n",
        "                  steps_per_epoch=len(x_train) / batch_size, \n",
        "                  epochs=epochs,\n",
        "                  validation_data=(x_test, y_test),\n",
        "                  callbacks=[set_lr, es],\n",
        "                  verbose=1)\n",
        "\n",
        "# Evaluate over test\n",
        "score = model.evaluate(x_test, y_test, verbose=0)\n",
        "\n",
        "\n",
        "print('Test loss:', score[0])\n",
        "print('Test accuracy:', score[1])"
      ],
      "execution_count": null,
      "outputs": [
        {
          "output_type": "stream",
          "text": [
            "Epoch 1/75\n",
            "500/500 [==============================] - 89s 79ms/step - loss: 1.9263 - accuracy: 0.2848 - val_loss: 1.4398 - val_accuracy: 0.4867\n",
            "Epoch 2/75\n",
            "500/500 [==============================] - 36s 72ms/step - loss: 1.3256 - accuracy: 0.5165 - val_loss: 1.3388 - val_accuracy: 0.5623\n",
            "Epoch 3/75\n",
            "500/500 [==============================] - 36s 71ms/step - loss: 1.0641 - accuracy: 0.6209 - val_loss: 1.5851 - val_accuracy: 0.5369\n",
            "Epoch 4/75\n",
            "500/500 [==============================] - 36s 72ms/step - loss: 0.9068 - accuracy: 0.6795 - val_loss: 0.9849 - val_accuracy: 0.6801\n",
            "Epoch 5/75\n",
            "500/500 [==============================] - 36s 71ms/step - loss: 0.7977 - accuracy: 0.7227 - val_loss: 1.0121 - val_accuracy: 0.6820\n",
            "Epoch 6/75\n",
            "500/500 [==============================] - 36s 72ms/step - loss: 0.7182 - accuracy: 0.7518 - val_loss: 0.7412 - val_accuracy: 0.7609\n",
            "Epoch 7/75\n",
            "500/500 [==============================] - 36s 72ms/step - loss: 0.6555 - accuracy: 0.7718 - val_loss: 0.7717 - val_accuracy: 0.7600\n",
            "Epoch 8/75\n",
            "500/500 [==============================] - 36s 71ms/step - loss: 0.6130 - accuracy: 0.7862 - val_loss: 0.7721 - val_accuracy: 0.7692\n",
            "Epoch 9/75\n",
            "500/500 [==============================] - 36s 71ms/step - loss: 0.5704 - accuracy: 0.8046 - val_loss: 0.8863 - val_accuracy: 0.7174\n",
            "Epoch 10/75\n",
            "500/500 [==============================] - 36s 72ms/step - loss: 0.5368 - accuracy: 0.8158 - val_loss: 0.6604 - val_accuracy: 0.7892\n",
            "Epoch 11/75\n",
            "500/500 [==============================] - 36s 72ms/step - loss: 0.5091 - accuracy: 0.8268 - val_loss: 0.7145 - val_accuracy: 0.7771\n",
            "Epoch 12/75\n",
            "500/500 [==============================] - 36s 72ms/step - loss: 0.4892 - accuracy: 0.8330 - val_loss: 0.6248 - val_accuracy: 0.8020\n",
            "Epoch 13/75\n",
            "500/500 [==============================] - 36s 72ms/step - loss: 0.4644 - accuracy: 0.8394 - val_loss: 0.8446 - val_accuracy: 0.7489\n",
            "Epoch 14/75\n",
            "500/500 [==============================] - 36s 71ms/step - loss: 0.4427 - accuracy: 0.8485 - val_loss: 0.6668 - val_accuracy: 0.7947\n",
            "Epoch 15/75\n",
            "500/500 [==============================] - 36s 71ms/step - loss: 0.4235 - accuracy: 0.8551 - val_loss: 0.7110 - val_accuracy: 0.7925\n",
            "Epoch 16/75\n",
            "500/500 [==============================] - 36s 71ms/step - loss: 0.4098 - accuracy: 0.8583 - val_loss: 0.6215 - val_accuracy: 0.8089\n",
            "Epoch 17/75\n",
            "500/500 [==============================] - 36s 71ms/step - loss: 0.3892 - accuracy: 0.8622 - val_loss: 0.6764 - val_accuracy: 0.8078\n",
            "Epoch 18/75\n",
            "500/500 [==============================] - 36s 71ms/step - loss: 0.3699 - accuracy: 0.8731 - val_loss: 0.4331 - val_accuracy: 0.8636\n",
            "Epoch 19/75\n",
            "500/500 [==============================] - 38s 75ms/step - loss: 0.3561 - accuracy: 0.8793 - val_loss: 0.7700 - val_accuracy: 0.7806\n",
            "Epoch 20/75\n",
            "500/500 [==============================] - 36s 71ms/step - loss: 0.3431 - accuracy: 0.8822 - val_loss: 0.4432 - val_accuracy: 0.8617\n",
            "Epoch 21/75\n",
            "500/500 [==============================] - 36s 71ms/step - loss: 0.3385 - accuracy: 0.8827 - val_loss: 0.5556 - val_accuracy: 0.8230\n",
            "Epoch 22/75\n",
            "500/500 [==============================] - 36s 71ms/step - loss: 0.3245 - accuracy: 0.8885 - val_loss: 0.5391 - val_accuracy: 0.8347\n",
            "Epoch 23/75\n",
            "500/500 [==============================] - 36s 71ms/step - loss: 0.3117 - accuracy: 0.8943 - val_loss: 0.6093 - val_accuracy: 0.8188\n",
            "Epoch 24/75\n",
            "500/500 [==============================] - 36s 72ms/step - loss: 0.3015 - accuracy: 0.8956 - val_loss: 0.5316 - val_accuracy: 0.8424\n",
            "Epoch 25/75\n",
            "500/500 [==============================] - 36s 72ms/step - loss: 0.2862 - accuracy: 0.9005 - val_loss: 0.3952 - val_accuracy: 0.8720\n",
            "Epoch 26/75\n",
            "500/500 [==============================] - 36s 72ms/step - loss: 0.2403 - accuracy: 0.9154 - val_loss: 0.3377 - val_accuracy: 0.8944\n",
            "Epoch 27/75\n",
            "500/500 [==============================] - 36s 72ms/step - loss: 0.2079 - accuracy: 0.9272 - val_loss: 0.3467 - val_accuracy: 0.8972\n",
            "Epoch 28/75\n",
            "500/500 [==============================] - 36s 72ms/step - loss: 0.1986 - accuracy: 0.9301 - val_loss: 0.3539 - val_accuracy: 0.8931\n",
            "Epoch 29/75\n",
            "500/500 [==============================] - 36s 72ms/step - loss: 0.1935 - accuracy: 0.9315 - val_loss: 0.3421 - val_accuracy: 0.8968\n",
            "Epoch 30/75\n",
            "500/500 [==============================] - 36s 72ms/step - loss: 0.1857 - accuracy: 0.9362 - val_loss: 0.3388 - val_accuracy: 0.8984\n",
            "Epoch 31/75\n",
            "500/500 [==============================] - 36s 72ms/step - loss: 0.1882 - accuracy: 0.9351 - val_loss: 0.3381 - val_accuracy: 0.9005\n",
            "Epoch 32/75\n",
            "500/500 [==============================] - 36s 72ms/step - loss: 0.1763 - accuracy: 0.9383 - val_loss: 0.3436 - val_accuracy: 0.8975\n",
            "Epoch 33/75\n",
            "500/500 [==============================] - 36s 72ms/step - loss: 0.1799 - accuracy: 0.9376 - val_loss: 0.3567 - val_accuracy: 0.8986\n",
            "Epoch 34/75\n",
            "500/500 [==============================] - 36s 72ms/step - loss: 0.1807 - accuracy: 0.9358 - val_loss: 0.3425 - val_accuracy: 0.9006\n",
            "Epoch 35/75\n",
            "500/500 [==============================] - 36s 72ms/step - loss: 0.1810 - accuracy: 0.9355 - val_loss: 0.3406 - val_accuracy: 0.9013\n",
            "Epoch 36/75\n",
            "500/500 [==============================] - 36s 72ms/step - loss: 0.1700 - accuracy: 0.9413 - val_loss: 0.3425 - val_accuracy: 0.8981\n",
            "Epoch 37/75\n",
            "500/500 [==============================] - 36s 72ms/step - loss: 0.1743 - accuracy: 0.9396 - val_loss: 0.3474 - val_accuracy: 0.8984\n",
            "Epoch 38/75\n",
            "500/500 [==============================] - 36s 72ms/step - loss: 0.1693 - accuracy: 0.9409 - val_loss: 0.3420 - val_accuracy: 0.9019\n",
            "Epoch 39/75\n",
            "500/500 [==============================] - 36s 72ms/step - loss: 0.1688 - accuracy: 0.9397 - val_loss: 0.3466 - val_accuracy: 0.8990\n",
            "Epoch 40/75\n",
            "500/500 [==============================] - 36s 72ms/step - loss: 0.1700 - accuracy: 0.9396 - val_loss: 0.3450 - val_accuracy: 0.9001\n",
            "Epoch 41/75\n",
            "500/500 [==============================] - 36s 72ms/step - loss: 0.1653 - accuracy: 0.9413 - val_loss: 0.3411 - val_accuracy: 0.9008\n",
            "Epoch 42/75\n",
            "500/500 [==============================] - 36s 72ms/step - loss: 0.1620 - accuracy: 0.9429 - val_loss: 0.3547 - val_accuracy: 0.9006\n",
            "Epoch 43/75\n",
            "500/500 [==============================] - 36s 72ms/step - loss: 0.1583 - accuracy: 0.9435 - val_loss: 0.3507 - val_accuracy: 0.9034\n",
            "Epoch 44/75\n",
            "500/500 [==============================] - 36s 72ms/step - loss: 0.1537 - accuracy: 0.9457 - val_loss: 0.3669 - val_accuracy: 0.8974\n",
            "Epoch 45/75\n",
            "500/500 [==============================] - 36s 72ms/step - loss: 0.1623 - accuracy: 0.9437 - val_loss: 0.3388 - val_accuracy: 0.9026\n",
            "Epoch 46/75\n",
            "500/500 [==============================] - 36s 72ms/step - loss: 0.1582 - accuracy: 0.9448 - val_loss: 0.3574 - val_accuracy: 0.9001\n",
            "Epoch 47/75\n",
            "500/500 [==============================] - 36s 71ms/step - loss: 0.1555 - accuracy: 0.9451 - val_loss: 0.3516 - val_accuracy: 0.9023\n",
            "Epoch 48/75\n",
            "500/500 [==============================] - 36s 72ms/step - loss: 0.1521 - accuracy: 0.9455 - val_loss: 0.3605 - val_accuracy: 0.8968\n",
            "Epoch 49/75\n",
            "500/500 [==============================] - 36s 72ms/step - loss: 0.1527 - accuracy: 0.9465 - val_loss: 0.3553 - val_accuracy: 0.9009\n",
            "Epoch 50/75\n",
            "500/500 [==============================] - 36s 71ms/step - loss: 0.1485 - accuracy: 0.9479 - val_loss: 0.3477 - val_accuracy: 0.9042\n",
            "Epoch 51/75\n",
            "500/500 [==============================] - 36s 72ms/step - loss: 0.1416 - accuracy: 0.9495 - val_loss: 0.3388 - val_accuracy: 0.9059\n",
            "Epoch 52/75\n",
            "500/500 [==============================] - 36s 71ms/step - loss: 0.1451 - accuracy: 0.9491 - val_loss: 0.3364 - val_accuracy: 0.9053\n",
            "Epoch 53/75\n",
            "500/500 [==============================] - 36s 71ms/step - loss: 0.1420 - accuracy: 0.9502 - val_loss: 0.3393 - val_accuracy: 0.9058\n",
            "Epoch 54/75\n",
            "500/500 [==============================] - 36s 71ms/step - loss: 0.1404 - accuracy: 0.9502 - val_loss: 0.3401 - val_accuracy: 0.9054\n",
            "Epoch 55/75\n",
            "500/500 [==============================] - 36s 72ms/step - loss: 0.1415 - accuracy: 0.9483 - val_loss: 0.3384 - val_accuracy: 0.9051\n",
            "Epoch 56/75\n",
            "500/500 [==============================] - 36s 72ms/step - loss: 0.1431 - accuracy: 0.9487 - val_loss: 0.3364 - val_accuracy: 0.9064\n",
            "Epoch 57/75\n",
            "500/500 [==============================] - 38s 76ms/step - loss: 0.1387 - accuracy: 0.9519 - val_loss: 0.3422 - val_accuracy: 0.9048\n",
            "Epoch 58/75\n",
            "500/500 [==============================] - 36s 72ms/step - loss: 0.1372 - accuracy: 0.9514 - val_loss: 0.3401 - val_accuracy: 0.9048\n",
            "Epoch 59/75\n",
            "500/500 [==============================] - 38s 76ms/step - loss: 0.1363 - accuracy: 0.9520 - val_loss: 0.3436 - val_accuracy: 0.9064\n",
            "Epoch 60/75\n",
            "500/500 [==============================] - 36s 72ms/step - loss: 0.1387 - accuracy: 0.9507 - val_loss: 0.3424 - val_accuracy: 0.9051\n",
            "Test loss: 0.3423958420753479\n",
            "Test accuracy: 0.9050999879837036\n"
          ],
          "name": "stdout"
        }
      ]
    },
    {
      "cell_type": "code",
      "metadata": {
        "id": "9_oBDiZbbO0G",
        "colab": {
          "base_uri": "https://localhost:8080/"
        },
        "outputId": "33a9e503-754a-4bbd-d7c8-1e6912801bf4"
      },
      "source": [
        "print(history.history.keys())"
      ],
      "execution_count": null,
      "outputs": [
        {
          "output_type": "stream",
          "text": [
            "dict_keys(['loss', 'accuracy', 'val_loss', 'val_accuracy', 'lr'])\n"
          ],
          "name": "stdout"
        }
      ]
    },
    {
      "cell_type": "code",
      "metadata": {
        "id": "K4uLWmxCbaq9"
      },
      "source": [
        "import matplotlib.pyplot as plt"
      ],
      "execution_count": null,
      "outputs": []
    },
    {
      "cell_type": "code",
      "metadata": {
        "id": "1wlYhPH9bcz9",
        "colab": {
          "base_uri": "https://localhost:8080/",
          "height": 295
        },
        "outputId": "f26d6d60-41d4-418b-b955-63c510aae5be"
      },
      "source": [
        "plt.plot(history.history['accuracy'])\n",
        "plt.plot(history.history['val_accuracy'])\n",
        "plt.title('model accuracy')\n",
        "plt.ylabel('accuracy')\n",
        "plt.xlabel('epoch')\n",
        "plt.legend(['train', 'test'], loc='upper left')\n",
        "plt.show()"
      ],
      "execution_count": null,
      "outputs": [
        {
          "output_type": "display_data",
          "data": {
            "image/png": "[encoded data removed]",
            "text/plain": [
              "<Figure size 432x288 with 1 Axes>"
            ]
          },
          "metadata": {
            "tags": [],
            "needs_background": "light"
          }
        }
      ]
    }
  ]
}